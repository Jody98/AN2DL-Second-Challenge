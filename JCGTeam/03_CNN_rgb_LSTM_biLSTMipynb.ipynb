{
 "nbformat": 4,
 "nbformat_minor": 0,
 "metadata": {
  "colab": {
   "provenance": [],
   "collapsed_sections": [
    "DEfx8UalLFww",
    "5vMdN93qZWWB",
    "DcCb7qSFauQc",
    "ZqffsmXAhgkt",
    "etjZXOLmnSQE",
    "BelrGO6cmYH3",
    "SDRHZ-GqrYJ3",
    "tRHRIHV6-1ds",
    "lqSI87RwH3tH"
   ]
  },
  "kernelspec": {
   "name": "python3",
   "display_name": "Python 3"
  },
  "language_info": {
   "name": "python"
  },
  "gpuClass": "standard",
  "accelerator": "GPU"
 },
 "cells": [
  {
   "cell_type": "markdown",
   "source": [
    "This notebook contains the code used to make the data split we saved locally and used through all the experiments. It also contain the relevant code for oversampling, minMax scalar and robust Scalar. In the second part there is the code to perform time series to image mapping and training of EfficientNetV2B3 with Gap+softmax and with the dense layer applyes filtering features and passing them in the color channels. Also a custom model that did not work.\n",
    "At the end a trial of using scikit AdaBoost with keras models that did not work for compatibilities issues"
   ],
   "metadata": {
    "collapsed": false
   }
  },
  {
   "cell_type": "code",
   "source": [
    "from google.colab import drive\n",
    "drive.mount(\"./gdrive\")"
   ],
   "metadata": {
    "colab": {
     "base_uri": "https://localhost:8080/"
    },
    "id": "ootoDu7MIpSd",
    "outputId": "ce298a02-6539-44fd-c52a-7180fd9d961f"
   },
   "execution_count": null,
   "outputs": [
    {
     "output_type": "stream",
     "name": "stdout",
     "text": [
      "Mounted at ./gdrive\n"
     ]
    }
   ]
  },
  {
   "cell_type": "code",
   "source": [
    "import pickle\n",
    "import tensorflow as tf\n",
    "import tensorflow.keras as tfk\n",
    "import tensorflow.keras.layers as tfkl\n",
    "from keras.models import Sequential\n",
    "from keras.layers import Dense, Flatten, Conv2D, MaxPool2D, Dropout, BatchNormalization, Rescaling, RandomFlip, RandomRotation, RandomZoom, RandomTranslation, RandomContrast, Rescaling, AveragePooling2D\n",
    "import numpy as np\n",
    "import seaborn as sns\n",
    "from tensorflow import keras\n",
    "from tensorflow.keras import layers\n",
    "from sklearn.model_selection import train_test_split\n",
    "import tensorflow as tf\n",
    "import pandas as pd"
   ],
   "metadata": {
    "id": "eY7DVVcRlKc4"
   },
   "execution_count": null,
   "outputs": []
  },
  {
   "cell_type": "markdown",
   "source": [
    "# (Run only if data on disck not available) Data split and preparation for stored split in the disck\n",
    "\n",
    "pickle save operation commented to avoid accidental overwriting, uncomment to save\n"
   ],
   "metadata": {
    "id": "DEfx8UalLFww"
   }
  },
  {
   "cell_type": "code",
   "execution_count": null,
   "outputs": [],
   "source": [
    "# Only for data preparation\n",
    "x_original = np.load('./gdrive/MyDrive/ann_dataset/HW2/x_train.npy') # Shape: (2429, 36, 6)\n",
    "y_original = np.load('./gdrive/MyDrive/ann_dataset/HW2/y_train.npy') # Labels\n",
    "\n",
    "# extreme outliers\n",
    "x_original[758][32] = x_original[758][31]\n",
    "x_original[22][22] = x_original[22][21]\n",
    "\n",
    "train_test_obj = train_test_split(x_original, y_original, test_size=0.2, shuffle=True)\n",
    "x, x_test, y, y_test = train_test_obj\n",
    "\n",
    "\"\"\" !! with open(\"./gdrive/MyDrive/ann_dataset/HW2/dataUsed/train_test_objKeep9\", \"wb\") as f:\n",
    "  pickle.dump(train_test_obj, f)\"\"\"\n"
   ],
   "metadata": {
    "id": "G_ibI4me6GZF"
   }
  },
  {
   "cell_type": "code",
   "source": [
    "x.shape, x_test.shape"
   ],
   "metadata": {
    "colab": {
     "base_uri": "https://localhost:8080/"
    },
    "id": "dt2Ja1TiJN5k",
    "outputId": "236d6dc7-7fcd-480e-82e9-bd18ad81a539"
   },
   "execution_count": null,
   "outputs": [
    {
     "output_type": "execute_result",
     "data": {
      "text/plain": [
       "((1943, 36, 6), (486, 36, 6))"
      ]
     },
     "metadata": {},
     "execution_count": 123
    }
   ]
  },
  {
   "cell_type": "code",
   "source": [
    "tabular_list = []\n",
    "for i_sample, x in enumerate(x_original):\n",
    "    for i_time, xx in enumerate(x):\n",
    "        tabular_list.append([i_sample, i_time] + list(xx) + [y_original[i_sample]])\n",
    "df = pd.DataFrame(tabular_list).rename(columns={\n",
    "        0: 'sample_id',\n",
    "        1: 'time',\n",
    "        2: 'feat_1',\n",
    "        3: 'feat_2',\n",
    "        4: 'feat_3',\n",
    "        5: 'feat_4',\n",
    "        6: 'feat_5',\n",
    "        7: 'feat_6',\n",
    "        8: 'label'}, inplace=False, errors='raise')\n",
    "df"
   ],
   "metadata": {
    "colab": {
     "base_uri": "https://localhost:8080/",
     "height": 423
    },
    "id": "ulKU9s_JLggb",
    "outputId": "2a0ae7bd-aa12-494c-8e6d-db93bee90946"
   },
   "execution_count": null,
   "outputs": [
    {
     "output_type": "execute_result",
     "data": {
      "text/plain": [
       "       sample_id  time    feat_1    feat_2    feat_3    feat_4    feat_5  \\\n",
       "0              0     0  17.59700   8.17130  -1.78420 -19.70600  -9.71350   \n",
       "1              0     1   0.22974  -5.89560  16.83700   5.03900   2.43320   \n",
       "2              0     2 -29.65400 -21.29600  29.10300  -0.47503  75.39100   \n",
       "3              0     3 -59.21000 -29.56500  17.97100 -45.60600  19.41200   \n",
       "4              0     4 -72.06400 -25.85500   0.46536 -59.15100 -29.10500   \n",
       "...          ...   ...       ...       ...       ...       ...       ...   \n",
       "87439       2428    31   3.51190  -1.03240  -1.69900   4.15790   2.75430   \n",
       "87440       2428    32   0.70853  -0.94622  -1.91760   2.09480  -4.76750   \n",
       "87441       2428    33   0.20638   1.02870  -0.92512  -0.71633   1.73330   \n",
       "87442       2428    34   4.14290   1.09390  -0.18921   1.14100   0.93441   \n",
       "87443       2428    35  -1.55450  -1.21210   1.07050   1.32720   2.40100   \n",
       "\n",
       "        feat_6  label  \n",
       "0     -61.8870      0  \n",
       "1      58.9140      0  \n",
       "2      10.6650      0  \n",
       "3     -43.0140      0  \n",
       "4     -11.9130      0  \n",
       "...        ...    ...  \n",
       "87439   5.9823     11  \n",
       "87440   7.4118     11  \n",
       "87441   4.7638     11  \n",
       "87442   4.1742     11  \n",
       "87443   8.4550     11  \n",
       "\n",
       "[87444 rows x 9 columns]"
      ],
      "text/html": [
       "\n",
       "  <div id=\"df-7f5cbda3-d6af-4a81-95e5-6cf0c8c8e1a3\">\n",
       "    <div class=\"colab-df-container\">\n",
       "      <div>\n",
       "<style scoped>\n",
       "    .dataframe tbody tr th:only-of-type {\n",
       "        vertical-align: middle;\n",
       "    }\n",
       "\n",
       "    .dataframe tbody tr th {\n",
       "        vertical-align: top;\n",
       "    }\n",
       "\n",
       "    .dataframe thead th {\n",
       "        text-align: right;\n",
       "    }\n",
       "</style>\n",
       "<table border=\"1\" class=\"dataframe\">\n",
       "  <thead>\n",
       "    <tr style=\"text-align: right;\">\n",
       "      <th></th>\n",
       "      <th>sample_id</th>\n",
       "      <th>time</th>\n",
       "      <th>feat_1</th>\n",
       "      <th>feat_2</th>\n",
       "      <th>feat_3</th>\n",
       "      <th>feat_4</th>\n",
       "      <th>feat_5</th>\n",
       "      <th>feat_6</th>\n",
       "      <th>label</th>\n",
       "    </tr>\n",
       "  </thead>\n",
       "  <tbody>\n",
       "    <tr>\n",
       "      <th>0</th>\n",
       "      <td>0</td>\n",
       "      <td>0</td>\n",
       "      <td>17.59700</td>\n",
       "      <td>8.17130</td>\n",
       "      <td>-1.78420</td>\n",
       "      <td>-19.70600</td>\n",
       "      <td>-9.71350</td>\n",
       "      <td>-61.8870</td>\n",
       "      <td>0</td>\n",
       "    </tr>\n",
       "    <tr>\n",
       "      <th>1</th>\n",
       "      <td>0</td>\n",
       "      <td>1</td>\n",
       "      <td>0.22974</td>\n",
       "      <td>-5.89560</td>\n",
       "      <td>16.83700</td>\n",
       "      <td>5.03900</td>\n",
       "      <td>2.43320</td>\n",
       "      <td>58.9140</td>\n",
       "      <td>0</td>\n",
       "    </tr>\n",
       "    <tr>\n",
       "      <th>2</th>\n",
       "      <td>0</td>\n",
       "      <td>2</td>\n",
       "      <td>-29.65400</td>\n",
       "      <td>-21.29600</td>\n",
       "      <td>29.10300</td>\n",
       "      <td>-0.47503</td>\n",
       "      <td>75.39100</td>\n",
       "      <td>10.6650</td>\n",
       "      <td>0</td>\n",
       "    </tr>\n",
       "    <tr>\n",
       "      <th>3</th>\n",
       "      <td>0</td>\n",
       "      <td>3</td>\n",
       "      <td>-59.21000</td>\n",
       "      <td>-29.56500</td>\n",
       "      <td>17.97100</td>\n",
       "      <td>-45.60600</td>\n",
       "      <td>19.41200</td>\n",
       "      <td>-43.0140</td>\n",
       "      <td>0</td>\n",
       "    </tr>\n",
       "    <tr>\n",
       "      <th>4</th>\n",
       "      <td>0</td>\n",
       "      <td>4</td>\n",
       "      <td>-72.06400</td>\n",
       "      <td>-25.85500</td>\n",
       "      <td>0.46536</td>\n",
       "      <td>-59.15100</td>\n",
       "      <td>-29.10500</td>\n",
       "      <td>-11.9130</td>\n",
       "      <td>0</td>\n",
       "    </tr>\n",
       "    <tr>\n",
       "      <th>...</th>\n",
       "      <td>...</td>\n",
       "      <td>...</td>\n",
       "      <td>...</td>\n",
       "      <td>...</td>\n",
       "      <td>...</td>\n",
       "      <td>...</td>\n",
       "      <td>...</td>\n",
       "      <td>...</td>\n",
       "      <td>...</td>\n",
       "    </tr>\n",
       "    <tr>\n",
       "      <th>87439</th>\n",
       "      <td>2428</td>\n",
       "      <td>31</td>\n",
       "      <td>3.51190</td>\n",
       "      <td>-1.03240</td>\n",
       "      <td>-1.69900</td>\n",
       "      <td>4.15790</td>\n",
       "      <td>2.75430</td>\n",
       "      <td>5.9823</td>\n",
       "      <td>11</td>\n",
       "    </tr>\n",
       "    <tr>\n",
       "      <th>87440</th>\n",
       "      <td>2428</td>\n",
       "      <td>32</td>\n",
       "      <td>0.70853</td>\n",
       "      <td>-0.94622</td>\n",
       "      <td>-1.91760</td>\n",
       "      <td>2.09480</td>\n",
       "      <td>-4.76750</td>\n",
       "      <td>7.4118</td>\n",
       "      <td>11</td>\n",
       "    </tr>\n",
       "    <tr>\n",
       "      <th>87441</th>\n",
       "      <td>2428</td>\n",
       "      <td>33</td>\n",
       "      <td>0.20638</td>\n",
       "      <td>1.02870</td>\n",
       "      <td>-0.92512</td>\n",
       "      <td>-0.71633</td>\n",
       "      <td>1.73330</td>\n",
       "      <td>4.7638</td>\n",
       "      <td>11</td>\n",
       "    </tr>\n",
       "    <tr>\n",
       "      <th>87442</th>\n",
       "      <td>2428</td>\n",
       "      <td>34</td>\n",
       "      <td>4.14290</td>\n",
       "      <td>1.09390</td>\n",
       "      <td>-0.18921</td>\n",
       "      <td>1.14100</td>\n",
       "      <td>0.93441</td>\n",
       "      <td>4.1742</td>\n",
       "      <td>11</td>\n",
       "    </tr>\n",
       "    <tr>\n",
       "      <th>87443</th>\n",
       "      <td>2428</td>\n",
       "      <td>35</td>\n",
       "      <td>-1.55450</td>\n",
       "      <td>-1.21210</td>\n",
       "      <td>1.07050</td>\n",
       "      <td>1.32720</td>\n",
       "      <td>2.40100</td>\n",
       "      <td>8.4550</td>\n",
       "      <td>11</td>\n",
       "    </tr>\n",
       "  </tbody>\n",
       "</table>\n",
       "<p>87444 rows × 9 columns</p>\n",
       "</div>\n",
       "      <button class=\"colab-df-convert\" onclick=\"convertToInteractive('df-7f5cbda3-d6af-4a81-95e5-6cf0c8c8e1a3')\"\n",
       "              title=\"Convert this dataframe to an interactive table.\"\n",
       "              style=\"display:none;\">\n",
       "        \n",
       "  <svg xmlns=\"http://www.w3.org/2000/svg\" height=\"24px\"viewBox=\"0 0 24 24\"\n",
       "       width=\"24px\">\n",
       "    <path d=\"M0 0h24v24H0V0z\" fill=\"none\"/>\n",
       "    <path d=\"M18.56 5.44l.94 2.06.94-2.06 2.06-.94-2.06-.94-.94-2.06-.94 2.06-2.06.94zm-11 1L8.5 8.5l.94-2.06 2.06-.94-2.06-.94L8.5 2.5l-.94 2.06-2.06.94zm10 10l.94 2.06.94-2.06 2.06-.94-2.06-.94-.94-2.06-.94 2.06-2.06.94z\"/><path d=\"M17.41 7.96l-1.37-1.37c-.4-.4-.92-.59-1.43-.59-.52 0-1.04.2-1.43.59L10.3 9.45l-7.72 7.72c-.78.78-.78 2.05 0 2.83L4 21.41c.39.39.9.59 1.41.59.51 0 1.02-.2 1.41-.59l7.78-7.78 2.81-2.81c.8-.78.8-2.07 0-2.86zM5.41 20L4 18.59l7.72-7.72 1.47 1.35L5.41 20z\"/>\n",
       "  </svg>\n",
       "      </button>\n",
       "      \n",
       "  <style>\n",
       "    .colab-df-container {\n",
       "      display:flex;\n",
       "      flex-wrap:wrap;\n",
       "      gap: 12px;\n",
       "    }\n",
       "\n",
       "    .colab-df-convert {\n",
       "      background-color: #E8F0FE;\n",
       "      border: none;\n",
       "      border-radius: 50%;\n",
       "      cursor: pointer;\n",
       "      display: none;\n",
       "      fill: #1967D2;\n",
       "      height: 32px;\n",
       "      padding: 0 0 0 0;\n",
       "      width: 32px;\n",
       "    }\n",
       "\n",
       "    .colab-df-convert:hover {\n",
       "      background-color: #E2EBFA;\n",
       "      box-shadow: 0px 1px 2px rgba(60, 64, 67, 0.3), 0px 1px 3px 1px rgba(60, 64, 67, 0.15);\n",
       "      fill: #174EA6;\n",
       "    }\n",
       "\n",
       "    [theme=dark] .colab-df-convert {\n",
       "      background-color: #3B4455;\n",
       "      fill: #D2E3FC;\n",
       "    }\n",
       "\n",
       "    [theme=dark] .colab-df-convert:hover {\n",
       "      background-color: #434B5C;\n",
       "      box-shadow: 0px 1px 3px 1px rgba(0, 0, 0, 0.15);\n",
       "      filter: drop-shadow(0px 1px 2px rgba(0, 0, 0, 0.3));\n",
       "      fill: #FFFFFF;\n",
       "    }\n",
       "  </style>\n",
       "\n",
       "      <script>\n",
       "        const buttonEl =\n",
       "          document.querySelector('#df-7f5cbda3-d6af-4a81-95e5-6cf0c8c8e1a3 button.colab-df-convert');\n",
       "        buttonEl.style.display =\n",
       "          google.colab.kernel.accessAllowed ? 'block' : 'none';\n",
       "\n",
       "        async function convertToInteractive(key) {\n",
       "          const element = document.querySelector('#df-7f5cbda3-d6af-4a81-95e5-6cf0c8c8e1a3');\n",
       "          const dataTable =\n",
       "            await google.colab.kernel.invokeFunction('convertToInteractive',\n",
       "                                                     [key], {});\n",
       "          if (!dataTable) return;\n",
       "\n",
       "          const docLinkHtml = 'Like what you see? Visit the ' +\n",
       "            '<a target=\"_blank\" href=https://colab.research.google.com/notebooks/data_table.ipynb>data table notebook</a>'\n",
       "            + ' to learn more about interactive tables.';\n",
       "          element.innerHTML = '';\n",
       "          dataTable['output_type'] = 'display_data';\n",
       "          await google.colab.output.renderOutput(dataTable, element);\n",
       "          const docLink = document.createElement('div');\n",
       "          docLink.innerHTML = docLinkHtml;\n",
       "          element.appendChild(docLink);\n",
       "        }\n",
       "      </script>\n",
       "    </div>\n",
       "  </div>\n",
       "  "
      ]
     },
     "metadata": {},
     "execution_count": 80
    }
   ]
  },
  {
   "cell_type": "code",
   "source": [
    "x_original[758][32]"
   ],
   "metadata": {
    "colab": {
     "base_uri": "https://localhost:8080/"
    },
    "id": "S4oN5wqALPSz",
    "outputId": "cac905e9-dcc3-48eb-fe91-8f017910ad6b"
   },
   "execution_count": null,
   "outputs": [
    {
     "output_type": "execute_result",
     "data": {
      "text/plain": [
       "array([15916. ,  7136.6,  5969.6,  5503.3,  5062.1,  7830.5])"
      ]
     },
     "metadata": {},
     "execution_count": 61
    }
   ]
  },
  {
   "cell_type": "code",
   "source": [
    "sns.countplot(x = y_original)"
   ],
   "metadata": {
    "colab": {
     "base_uri": "https://localhost:8080/",
     "height": 283
    },
    "id": "NPJhSeFoJXg3",
    "outputId": "20fce7c2-7247-4bbe-a3de-74b0daf5ebea"
   },
   "execution_count": null,
   "outputs": [
    {
     "output_type": "execute_result",
     "data": {
      "text/plain": [
       "<matplotlib.axes._subplots.AxesSubplot at 0x7f6d5f082c70>"
      ]
     },
     "metadata": {},
     "execution_count": 84
    },
    {
     "output_type": "display_data",
     "data": {
      "text/plain": [
       "<Figure size 432x288 with 1 Axes>"
      ],
      "image/png": "[encoded data removed]"
     },
     "metadata": {
      "needs_background": "light"
     }
    }
   ]
  },
  {
   "cell_type": "code",
   "source": [
    "sns.countplot(x=y)"
   ],
   "metadata": {
    "colab": {
     "base_uri": "https://localhost:8080/",
     "height": 283
    },
    "id": "O3IGhkoWK1Li",
    "outputId": "a662cde3-f8a8-4adf-c7ce-5d95e0e80efe"
   },
   "execution_count": null,
   "outputs": [
    {
     "output_type": "execute_result",
     "data": {
      "text/plain": [
       "<matplotlib.axes._subplots.AxesSubplot at 0x7f7f0dc070a0>"
      ]
     },
     "metadata": {},
     "execution_count": 64
    },
    {
     "output_type": "display_data",
     "data": {
      "text/plain": [
       "<Figure size 432x288 with 1 Axes>"
      ],
      "image/png": "[encoded data removed]"
     },
     "metadata": {
      "needs_background": "light"
     }
    }
   ]
  },
  {
   "cell_type": "code",
   "source": [
    "sns.countplot(x = y_test)"
   ],
   "metadata": {
    "colab": {
     "base_uri": "https://localhost:8080/",
     "height": 283
    },
    "id": "zUb1x6x_K22d",
    "outputId": "e4356feb-551d-4e78-c1cf-a66c8e1c53e4"
   },
   "execution_count": null,
   "outputs": [
    {
     "output_type": "execute_result",
     "data": {
      "text/plain": [
       "<matplotlib.axes._subplots.AxesSubplot at 0x7f7f0dcbffa0>"
      ]
     },
     "metadata": {},
     "execution_count": 63
    },
    {
     "output_type": "display_data",
     "data": {
      "text/plain": [
       "<Figure size 432x288 with 1 Axes>"
      ],
      "image/png": "[encoded data removed]"
     },
     "metadata": {
      "needs_background": "light"
     }
    }
   ]
  },
  {
   "cell_type": "code",
   "source": [
    "x.shape"
   ],
   "metadata": {
    "colab": {
     "base_uri": "https://localhost:8080/"
    },
    "id": "f2BEjxZ4Vm3A",
    "outputId": "2db23e93-2371-4481-ae27-2291ba19fb33"
   },
   "execution_count": null,
   "outputs": [
    {
     "output_type": "execute_result",
     "data": {
      "text/plain": [
       "(1943, 36, 6)"
      ]
     },
     "metadata": {},
     "execution_count": 48
    }
   ]
  },
  {
   "cell_type": "code",
   "source": [
    "x_tmp = np.delete(x, np.where(y == 9)[0][:300], axis=0)\n",
    "y_tmp = np.delete(y, np.where(y == 9)[0][:300], axis=0)\n",
    "\n",
    "\n",
    "x_oversampled, y_oversampled = oversample_minority_classes(x_tmp, y_tmp)\n",
    "sns.countplot(x = y_oversampled)"
   ],
   "metadata": {
    "colab": {
     "base_uri": "https://localhost:8080/",
     "height": 543
    },
    "id": "tREXLjE1LKMH",
    "outputId": "8391d7df-44d6-40f3-f642-d9e6d949aba1"
   },
   "execution_count": null,
   "outputs": [
    {
     "output_type": "stream",
     "name": "stdout",
     "text": [
      "Number of samples for each class before oversampling: {0: 30, 1: 101, 2: 225, 3: 298, 4: 49, 5: 121, 6: 244, 7: 60, 8: 95, 9: 620, 10: 59, 11: 41}\n",
      "Number of samples to add for class 0 : 270\n",
      "Number of samples to add for class 1 : 199\n",
      "Number of samples to add for class 2 : 75\n",
      "Number of samples to add for class 3 : 2\n",
      "Number of samples to add for class 4 : 251\n",
      "Number of samples to add for class 5 : 179\n",
      "Number of samples to add for class 6 : 56\n",
      "Number of samples to add for class 7 : 240\n",
      "Number of samples to add for class 8 : 205\n",
      "Number of samples to add for class 10 : 241\n",
      "Number of samples to add for class 11 : 259\n",
      "Number of samples for each class after oversampling: {0: 300, 1: 300, 2: 300, 3: 300, 4: 300, 5: 300, 6: 300, 7: 300, 8: 300, 9: 620, 10: 300, 11: 300}\n"
     ]
    },
    {
     "output_type": "execute_result",
     "data": {
      "text/plain": [
       "<matplotlib.axes._subplots.AxesSubplot at 0x7f9b9c8dfa90>"
      ]
     },
     "metadata": {},
     "execution_count": 126
    },
    {
     "output_type": "display_data",
     "data": {
      "text/plain": [
       "<Figure size 432x288 with 1 Axes>"
      ],
      "image/png": "[encoded data removed]"
     },
     "metadata": {
      "needs_background": "light"
     }
    }
   ]
  },
  {
   "cell_type": "code",
   "source": [
    "train_test_obj_oversampled = x_oversampled, x_test, y_oversampled, y_test\n",
    "\n",
    "\"\"\" !! with open(\"./gdrive/MyDrive/ann_dataset/HW2/dataUsed/train_test_obj_oversampledkeep9\", \"wb\") as f:\n",
    "  pickle.dump(train_test_obj_oversampled, f)\"\"\""
   ],
   "metadata": {
    "id": "AMfEpEHRY4v4"
   },
   "execution_count": null,
   "outputs": []
  },
  {
   "cell_type": "code",
   "source": [
    "# Oversample the minority classes\n",
    "def oversample_minority_classes(x_train, y_train):\n",
    "    # Count the number of samples for each class\n",
    "    unique, counts = np.unique(y_train, return_counts=True)\n",
    "    print('Number of samples for each class before oversampling:', dict(zip(unique, counts)))\n",
    "    # Oversample the minority classes\n",
    "    minority_classes = np.where(counts < 300)[0]\n",
    "    for i in minority_classes:\n",
    "        # Calculate the number of samples to add\n",
    "        num_samples_to_add = int(300) - counts[i]\n",
    "        print('Number of samples to add for class', i, ':', num_samples_to_add)\n",
    "        # Randomly select samples from the x_train data that belong to the minority class i\n",
    "        idx = np.random.choice(np.where(y_train == i)[0], num_samples_to_add)\n",
    "    \n",
    "        \"\"\"\n",
    "        DATA AUGMENTATION\n",
    "        \"\"\"\n",
    "        # Augment the selected sample by adding random noise\n",
    "        # augmented_samples = x_train[idx] + np.random.normal(0, GAUSSIAN_NOISE, x_train[idx].shape)\n",
    "        augmented_samples = x_train[idx]\n",
    "        \n",
    "        \n",
    "        # Add the selected samples to the x_train data\n",
    "        x_train = np.concatenate((x_train, augmented_samples), axis=0)\n",
    "        # Add the corresponding labels to the y_train data\n",
    "        y_train = np.concatenate((y_train, y_train[idx]), axis=0)\n",
    "        \n",
    "    # Count the number of samples for each class\n",
    "    unique, counts = np.unique(y_train, return_counts=True)\n",
    "    print('Number of samples for each class after oversampling:', dict(zip(unique, counts)))\n",
    "    \n",
    "    # Shuffle the data\n",
    "    p = np.random.permutation(len(x_train))\n",
    "    x_train = x_train[p]\n",
    "    y_train = y_train[p]\n",
    "    \n",
    "    return x_train, y_train"
   ],
   "metadata": {
    "id": "eVOc7JoyXcmK"
   },
   "execution_count": null,
   "outputs": []
  },
  {
   "cell_type": "markdown",
   "source": [
    "# Data Load"
   ],
   "metadata": {
    "id": "5vMdN93qZWWB"
   }
  },
  {
   "cell_type": "code",
   "source": [
    "# load data split\n",
    "with open(\"./gdrive/MyDrive/ann_dataset/HW2/dataUsed/train_test_obj_oversampledkeep9\", \"rb\") as f:\n",
    "  x_trainO, x_testO, y_trainO, y_testO = pickle.load(f)"
   ],
   "metadata": {
    "id": "WmhI3QxVZm92"
   },
   "execution_count": null,
   "outputs": []
  },
  {
   "cell_type": "code",
   "source": [
    "# load data split\n",
    "with open(\"./gdrive/MyDrive/ann_dataset/HW2/dataUsed/train_test_objKeep9\", \"rb\") as f:\n",
    "  x_train, x_test, y_train, y_test = pickle.load(f)"
   ],
   "metadata": {
    "id": "vV0sdYVrNwnr"
   },
   "execution_count": null,
   "outputs": []
  },
  {
   "cell_type": "code",
   "source": [
    "x_train.shape[0] + x_test.shape[0]"
   ],
   "metadata": {
    "colab": {
     "base_uri": "https://localhost:8080/"
    },
    "id": "i4Ln_Q7POJeu",
    "outputId": "8930c2af-ac10-48db-8006-467acaf9e0a9"
   },
   "execution_count": null,
   "outputs": [
    {
     "output_type": "execute_result",
     "data": {
      "text/plain": [
       "4406"
      ]
     },
     "metadata": {},
     "execution_count": 37
    }
   ]
  },
  {
   "cell_type": "code",
   "source": [
    "np.bincount(y_train)"
   ],
   "metadata": {
    "colab": {
     "base_uri": "https://localhost:8080/"
    },
    "id": "O_CvAzp5OYvR",
    "outputId": "6e415e32-cd86-436e-d2be-5cf57214b3f5"
   },
   "execution_count": null,
   "outputs": [
    {
     "output_type": "execute_result",
     "data": {
      "text/plain": [
       "array([300, 300, 300, 300, 300, 300, 300, 300, 300, 620, 300, 300])"
      ]
     },
     "metadata": {},
     "execution_count": 38
    }
   ]
  },
  {
   "cell_type": "markdown",
   "source": [
    "# Utils Functions"
   ],
   "metadata": {
    "id": "DcCb7qSFauQc"
   }
  },
  {
   "cell_type": "code",
   "source": [
    "def from_raw_to_dataframe(x_raw, y_raw):\n",
    "    tabular_list = []\n",
    "    for i_sample, x in enumerate(x_raw):\n",
    "        for i_time, xx in enumerate(x):\n",
    "            tabular_list.append([i_sample, i_time] + list(xx) + [y_raw[i_sample]])\n",
    "    df_res = pd.DataFrame(tabular_list).rename(columns={\n",
    "        0: 'sample_id',\n",
    "        1: 'time',\n",
    "        2: 'feat_1',\n",
    "        3: 'feat_2',\n",
    "        4: 'feat_3',\n",
    "        5: 'feat_4',\n",
    "        6: 'feat_5',\n",
    "        7: 'feat_6',\n",
    "        8: 'label'}, inplace=False, errors='raise')\n",
    "    return df_res"
   ],
   "metadata": {
    "id": "VnIrgOM4bIJ4"
   },
   "execution_count": null,
   "outputs": []
  },
  {
   "cell_type": "code",
   "source": [
    "def build_sequences(df):\n",
    "    # Sanity check to avoid runtime errors\n",
    "    #assert window % stride == 0\n",
    "    dataset = []\n",
    "    labels = []\n",
    "    for id in df['sample_id'].unique():\n",
    "        # Take only meaningful features\n",
    "        temp = df[df['sample_id'] == id][['feat_1','feat_2','feat_3','feat_4','feat_5','feat_6']].values\n",
    "        # Save the label\n",
    "        label = df[df['sample_id'] == id]['label'].values[0]\n",
    "        labels.append(label)\n",
    "        dataset.append(temp)\n",
    "\n",
    "    dataset = np.array(dataset)\n",
    "    labels = np.array(labels)\n",
    "    return dataset, labels"
   ],
   "metadata": {
    "id": "j-ffxE8Pa4el"
   },
   "execution_count": null,
   "outputs": []
  },
  {
   "cell_type": "code",
   "source": [
    "from sklearn.preprocessing import MinMaxScaler, RobustScaler\n",
    "\n",
    "\n",
    "def normalize_data_feature_wise(x_original, y_original, max_value=1, quantile=False):\n",
    "    x_original_tabular = from_raw_to_dataframe(x_original, y_original)\n",
    "    if quantile:\n",
    "        scaler = RobustScaler()\n",
    "    else:\n",
    "        scaler = MinMaxScaler(feature_range=(0, max_value))\n",
    "    scaler.fit_transform(x_original_tabular[['feat_1', 'feat_2', 'feat_3', 'feat_4', 'feat_5', 'feat_6']])\n",
    "    x_original_tabular[['feat_1', 'feat_2', 'feat_3', 'feat_4', 'feat_5', 'feat_6']] = scaler.transform(\n",
    "        x_original_tabular[['feat_1', 'feat_2', 'feat_3', 'feat_4', 'feat_5', 'feat_6']])\n",
    "\n",
    "    agg_x, agg_y = build_sequences(x_original_tabular)\n",
    "    return agg_x, agg_y, scaler"
   ],
   "metadata": {
    "id": "3ytxr0_WatAJ"
   },
   "execution_count": null,
   "outputs": []
  },
  {
   "cell_type": "code",
   "source": [
    "def apply_scaler_to_new_data(x,y,scaler):\n",
    "  x_original_tabular = from_raw_to_dataframe(x, y)\n",
    "  x_original_tabular[['feat_1', 'feat_2', 'feat_3', 'feat_4', 'feat_5', 'feat_6']] = scaler.transform(x_original_tabular[['feat_1', 'feat_2', 'feat_3', 'feat_4', 'feat_5', 'feat_6']])\n",
    "  agg_x, agg_y = build_sequences(x_original_tabular)\n",
    "  return agg_x, agg_y"
   ],
   "metadata": {
    "id": "DGhNXrmkc_S0"
   },
   "execution_count": null,
   "outputs": []
  },
  {
   "cell_type": "code",
   "source": [
    "def shiftLeft(lst) :\n",
    "    return lst[1:] + lst[:1]\n",
    "\n",
    "def shiftRight(lst) :\n",
    "    return lst[-1:] + lst[:-1]\n",
    "\n",
    "def array_1D_to_2D(array, option=2):\n",
    "  \"\"\" mappind 1D arrays to 2D images like arrays with the specified option\"\"\"\n",
    "  base = list(array.copy())\n",
    "  twoD_array = []\n",
    "\n",
    "  if option == 0:\n",
    "  # every row do a right shift\n",
    "      for i in range(len(base)):\n",
    "          twoD_array.append(base)\n",
    "          base = shiftLeft(base)\n",
    "  elif option == 1:\n",
    "  # for iteration i do i right shifts of previous row\n",
    "      for i in range(len(base)):\n",
    "          twoD_array.append(base)\n",
    "          for _ in range(i):\n",
    "              base = shiftLeft(base)\n",
    "  elif option == 2:\n",
    "  # shift the same number of filter size (3)\n",
    "      for i in range(len(base)):\n",
    "          twoD_array.append(base)\n",
    "          for _ in range(3):\n",
    "              base = shiftLeft(base)\n",
    "  return twoD_array"
   ],
   "metadata": {
    "id": "Wl1ujot8fdX-"
   },
   "execution_count": null,
   "outputs": []
  },
  {
   "cell_type": "code",
   "source": [
    "def original_data_to_image_data(x, y, option):\n",
    "  \"\"\" Given a time series of size N return an image NxN created using the specified option, implementation in the cell above\"\"\"\n",
    "    x_image = []\n",
    "    y_image = []\n",
    "\n",
    "    for i, label in enumerate(y):\n",
    "        images_block = []\n",
    "        for feat_id in range(x[i].shape[1]):\n",
    "            ts = np.array(x[i][:, feat_id]) #extract time series\n",
    "            image = array_1D_to_2D(ts, option=option)\n",
    "            images_block.append(image)\n",
    "\n",
    "        x_image.append(np.array(images_block))\n",
    "        y_image.append(np.array(label))\n",
    "        # reshape to use second option of accessing\n",
    "        # x_original_image[0][0, :]\n",
    "        # x_original_image_r[0][:,:, 0]\n",
    "    x_image_r = np.reshape(x_image, (len(x), 36, 36, 6))\n",
    "    return x_image_r, y_image"
   ],
   "metadata": {
    "id": "yVRHjqLYfaTj"
   },
   "execution_count": null,
   "outputs": []
  },
  {
   "cell_type": "code",
   "source": [
    "def wrapper_feature_rgb(cnn_model):\n",
    "  \"\"\" keep only first 3 dimention and feed it to an rgb image classifier, each feature for each color channel \"\"\"\n",
    "  model_input = tfk.Input(shape=(36,36,6))\n",
    "  l1 = tfk.layers.Lambda(lambda x: x[:,:,:,:3], input_shape=(36, 36))(model_input)  # filter 3 channels\n",
    "  \"\"\"l2 = tfk.layers.Lambda(lambda x: x[:,:,:,1], input_shape=(36, 36))(model_input)\n",
    "  l3 = tfk.layers.Lambda(lambda x: x[:,:,:,2], input_shape=(36, 36))(model_input)\"\"\"\n",
    "  model_output = cnn_model(l1)\n",
    "  cnn_ready_model = tfk.Model(inputs=model_input, outputs=model_output)\n",
    "  return cnn_ready_model"
   ],
   "metadata": {
    "id": "qcW4kBYMaEL4"
   },
   "execution_count": null,
   "outputs": []
  },
  {
   "cell_type": "code",
   "source": [
    "# wrapper function that return a model composed by  pretrained model + custom FFNN as classifier at the end\n",
    "def bottom_model_builder_classifier(\n",
    "    base_model,\n",
    "    dropout_rate=0.3,\n",
    "    size_dense =1000\n",
    "    ):\n",
    "  l2_lambda = 1e-2\n",
    "  inputs=tfk.Input(shape=(36, 36, 3))\n",
    "  x = base_model(inputs)\n",
    "  x = Flatten()(x)\n",
    "  x = Dense(size_dense, activation='swish', kernel_initializer = tfk.initializers.HeUniform())(x)\n",
    "  x = Dropout(dropout_rate, name=\"top_dropout_2\")(x)\n",
    "  x = Dense(256, activation='swish', kernel_initializer = tfk.initializers.HeUniform())(x)\n",
    "  x = Dropout(dropout_rate, name=\"top_dropout_3\")(x)\n",
    "  outputs = tfkl.Dense(\n",
    "      12, \n",
    "      activation='softmax',\n",
    "      kernel_initializer = tfk.initializers.GlorotUniform())(x)\n",
    "\n",
    "\n",
    "  # Connect input and output through the Model class\n",
    "  tl_model = tfk.Model(inputs=inputs, outputs=outputs, name='Densemodel')\n",
    "\n",
    "  return tl_model"
   ],
   "metadata": {
    "id": "nOx2Y3aV0Hk6"
   },
   "execution_count": null,
   "outputs": []
  },
  {
   "cell_type": "code",
   "execution_count": null,
   "outputs": [],
   "source": [
    "# return a GAP + softmax CNN from the given base feature extractor\n",
    "def bottom_model_builder_fully_conv(\n",
    "        base_model,\n",
    "        dropout_rate,\n",
    "):\n",
    "\n",
    "    inputs=tfk.Input(shape=(36, 36, 3))\n",
    "    x = base_model(inputs)\n",
    "    x = tfkl.GlobalAveragePooling2D()(x)\n",
    "    x = Dropout(dropout_rate, name=\"top_dropout\")(x)\n",
    "    outputs = tfkl.Dense(\n",
    "        12,\n",
    "        activation='softmax',\n",
    "        kernel_initializer = tfk.initializers.GlorotUniform())(x)\n",
    "\n",
    "\n",
    "    # Connect input and output through the Model class\n",
    "    tl_model = tfk.Model(inputs=inputs, outputs=outputs, name='FullConvmodel')\n",
    "\n",
    "    return tl_model"
   ],
   "metadata": {
    "id": "sF9dAEYHwuHG"
   }
  },
  {
   "cell_type": "markdown",
   "source": [
    "# Data to image mapping"
   ],
   "metadata": {
    "id": "ZqffsmXAhgkt"
   }
  },
  {
   "cell_type": "code",
   "source": [
    "OPTION = 0"
   ],
   "metadata": {
    "id": "5eaZ0NzbmdAQ"
   },
   "execution_count": null,
   "outputs": []
  },
  {
   "cell_type": "code",
   "source": [
    "x_train.shape, x_test.shape"
   ],
   "metadata": {
    "colab": {
     "base_uri": "https://localhost:8080/"
    },
    "outputId": "2ab64306-2a32-4265-c57b-e22822b1f75a",
    "id": "8C5y92w3lZUU"
   },
   "execution_count": null,
   "outputs": [
    {
     "output_type": "execute_result",
     "data": {
      "text/plain": [
       "((3920, 36, 6), (486, 36, 6))"
      ]
     },
     "metadata": {},
     "execution_count": 40
    }
   ]
  },
  {
   "cell_type": "code",
   "source": [
    "NORMALIZATION = True\n",
    "if NORMALIZATION:\n",
    "  x_train_norm, y_train_norm, scaler = normalize_data_feature_wise(x_train, y_train, quantile=True)\n",
    "  x_test_norm, y_test_norm = apply_scaler_to_new_data(x_test, y_test, scaler)\n",
    "  x_train_normO, y_train_normO= apply_scaler_to_new_data(x_trainO, y_trainO, scaler)\n",
    "  x_test_normO, y_test_normO = apply_scaler_to_new_data(x_testO, y_testO, scaler)\n",
    "else:\n",
    "  x_train_norm, y_train_norm = x_train, y_train\n",
    "  x_test_norm, y_test_norm = x_test, y_test\n"
   ],
   "metadata": {
    "id": "eEcfNRTQlZUV"
   },
   "execution_count": null,
   "outputs": []
  },
  {
   "cell_type": "code",
   "source": [
    "np.mean(x_train_norm), np.max(x_train_norm), np.min(x_train_norm) # explore if normalization happened"
   ],
   "metadata": {
    "colab": {
     "base_uri": "https://localhost:8080/"
    },
    "outputId": "db1b8f0a-6f2b-4f36-b6a9-79336b2ee948",
    "id": "aIzBiwQMlZUV"
   },
   "execution_count": null,
   "outputs": [
    {
     "output_type": "execute_result",
     "data": {
      "text/plain": [
       "(1.8948982610661986, 4043.1959847507133, -1967.3664388330392)"
      ]
     },
     "metadata": {},
     "execution_count": 61
    }
   ]
  },
  {
   "cell_type": "code",
   "source": [
    "np.mean(x_test_norm), np.max(x_test_norm), np.min(x_train_norm) # explore if normalization happened"
   ],
   "metadata": {
    "colab": {
     "base_uri": "https://localhost:8080/"
    },
    "id": "QwCwXuqntGoe",
    "outputId": "04522bdb-28d1-49fc-d122-514275bc4165"
   },
   "execution_count": null,
   "outputs": [
    {
     "output_type": "execute_result",
     "data": {
      "text/plain": [
       "(2.4541342982216214, 5816.222747418829, -1967.3664388330392)"
      ]
     },
     "metadata": {},
     "execution_count": 62
    }
   ]
  },
  {
   "cell_type": "code",
   "source": [
    "assert np.sum(y_test == y_test_norm) == len(y_test_norm) # check that data order is not perturbed"
   ],
   "metadata": {
    "id": "Gcvh8wynlZUV"
   },
   "execution_count": null,
   "outputs": []
  },
  {
   "cell_type": "code",
   "source": [
    "x_train_image, y_train_image = original_data_to_image_data(x_train_norm, y_train_norm, option=OPTION)\n",
    "x_test_image, y_test_image = original_data_to_image_data(x_test_norm, y_test_norm, option=OPTION)"
   ],
   "metadata": {
    "id": "fgl4rgP6lZUV"
   },
   "execution_count": null,
   "outputs": []
  },
  {
   "cell_type": "code",
   "source": [
    "assert np.sum(y_train_image== y_train_norm) == len(y_train_norm) # check that data order is not perturbed\n",
    "assert np.sum(y_test_image== y_test_norm) == len(y_test_norm) # check that data order is not perturbed"
   ],
   "metadata": {
    "id": "-Joj8ZlGlZUV"
   },
   "execution_count": null,
   "outputs": []
  },
  {
   "cell_type": "code",
   "source": [
    "x_train_image.shape, x_test_image.shape "
   ],
   "metadata": {
    "colab": {
     "base_uri": "https://localhost:8080/"
    },
    "outputId": "334357fc-9b10-402c-a3e8-2c0284f2d34a",
    "id": "c4Z_WijilZUW"
   },
   "execution_count": null,
   "outputs": [
    {
     "output_type": "execute_result",
     "data": {
      "text/plain": [
       "((3920, 36, 36, 6), (486, 36, 36, 6))"
      ]
     },
     "metadata": {},
     "execution_count": 137
    }
   ]
  },
  {
   "cell_type": "markdown",
   "source": [
    "# Custom cnn"
   ],
   "metadata": {
    "id": "etjZXOLmnSQE"
   }
  },
  {
   "cell_type": "code",
   "source": [
    "def custom_model(input_shape, seed=0):\n",
    "  model = Sequential()\n",
    "  l2_lambda = 1e-4\n",
    "\n",
    "  model.add(\n",
    "      Conv2D(\n",
    "          filters=16,\n",
    "          strides=(1,1),\n",
    "          kernel_size=(12,12), \n",
    "          activation='relu',\n",
    "          padding='same',\n",
    "          input_shape=input_shape,\n",
    "          kernel_regularizer=tfk.regularizers.L2(l2_lambda),\n",
    "          kernel_initializer = tfk.initializers.HeUniform(seed)))\n",
    "  model.add(MaxPool2D(pool_size=(2,2)))\n",
    "\n",
    "  model.add(\n",
    "      Conv2D(\n",
    "          filters=32,\n",
    "          strides=(1,1),\n",
    "          kernel_size=(3,3), \n",
    "          activation='relu',\n",
    "          padding='same',\n",
    "          input_shape=input_shape,\n",
    "          kernel_regularizer=tfk.regularizers.L2(l2_lambda),\n",
    "          kernel_initializer = tfk.initializers.HeUniform(seed)))\n",
    "  model.add(MaxPool2D(pool_size=(2,2)))\n",
    "\n",
    "  model.add(\n",
    "      Conv2D(\n",
    "          filters=64,\n",
    "          strides=(1,1),\n",
    "          kernel_size=(3,3), \n",
    "          activation='relu',\n",
    "          padding='same',\n",
    "          input_shape=input_shape,\n",
    "          kernel_regularizer=tfk.regularizers.L2(l2_lambda),\n",
    "          kernel_initializer = tfk.initializers.HeUniform(seed)))\n",
    "  model.add(MaxPool2D(pool_size=(2,2)))\n",
    "\n",
    "  model.add(\n",
    "      Conv2D(\n",
    "          filters=128,\n",
    "          strides=(1,1),\n",
    "          kernel_size=(3,3), \n",
    "          activation='relu',\n",
    "          padding='same',\n",
    "          input_shape=input_shape,\n",
    "          kernel_regularizer=tfk.regularizers.L2(l2_lambda),\n",
    "          kernel_initializer = tfk.initializers.HeUniform(seed)))\n",
    "  model.add(\n",
    "      Conv2D(\n",
    "          filters=128,\n",
    "          strides=(1,1),\n",
    "          kernel_size=(3,3), \n",
    "          activation='relu',\n",
    "          padding='same',\n",
    "          input_shape=input_shape,\n",
    "          kernel_regularizer=tfk.regularizers.L2(l2_lambda),\n",
    "          kernel_initializer = tfk.initializers.HeUniform(seed)))\n",
    "  model.add(MaxPool2D(pool_size=(2,2)))\n",
    "\n",
    "  model.add(\n",
    "      Conv2D(\n",
    "          filters=256,\n",
    "          strides=(1,1),\n",
    "          kernel_size=(3,3), \n",
    "          activation='relu',\n",
    "          padding='same',\n",
    "          input_shape=input_shape,\n",
    "          kernel_regularizer=tfk.regularizers.L2(l2_lambda),\n",
    "          kernel_initializer = tfk.initializers.HeUniform(seed)))\n",
    "  model.add(\n",
    "      Conv2D(\n",
    "          filters=256,\n",
    "          strides=(1,1),\n",
    "          kernel_size=(3,3), \n",
    "          activation='relu',\n",
    "          padding='same',\n",
    "          input_shape=input_shape,\n",
    "          kernel_regularizer=tfk.regularizers.L2(l2_lambda),\n",
    "          kernel_initializer = tfk.initializers.HeUniform(seed)))\n",
    "  model.add(MaxPool2D(pool_size=(2,2)))\n",
    "  model.add(Flatten())\n",
    "  model.add(Dropout(0.2,seed=seed))\n",
    "  model.add(Dense(1000,kernel_regularizer=tfk.regularizers.L2(l2_lambda), activation='selu'))\n",
    "  model.add(Dropout(0.2,seed=seed))\n",
    "  model.add(Dense(12, activation='softmax', kernel_initializer = tfk.initializers.HeUniform(seed)))\n",
    "  return model"
   ],
   "metadata": {
    "id": "6tggBobTnUHb"
   },
   "execution_count": null,
   "outputs": []
  },
  {
   "cell_type": "markdown",
   "source": [
    "# CNN training 2D - EfficientNetV2B3\n",
    " trying to feed 3 feature of the timeseris mapped from 1d to 3d as RGB channels of an image"
   ],
   "metadata": {
    "id": "BelrGO6cmYH3"
   }
  },
  {
   "cell_type": "code",
   "execution_count": null,
   "outputs": [],
   "source": [
    "BATCH_SIZE = 64\n",
    "train_dataset = tf.data.Dataset.from_tensor_slices((x_train_image, y_train_image)).batch(BATCH_SIZE)\n",
    "test_dataset = tf.data.Dataset.from_tensor_slices((x_test_image, y_test_image)).batch(BATCH_SIZE)"
   ],
   "metadata": {
    "id": "rF_96u7CwuHF"
   }
  },
  {
   "cell_type": "code",
   "execution_count": null,
   "outputs": [],
   "source": [
    "# callback list\n",
    "callbacks_list = []\n",
    "es_callback = tf.keras.callbacks.EarlyStopping(monitor='val_sparse_categorical_accuracy', patience=50, restore_best_weights=True)\n",
    "callbacks_list.append(es_callback)\n"
   ],
   "metadata": {
    "id": "JP7ytXJvwuHH"
   }
  },
  {
   "cell_type": "code",
   "execution_count": null,
   "outputs": [],
   "source": [
    "if False:\n",
    "  SELECTED_MODEL = tfk.applications.EfficientNetV2B3\n",
    "  base_model = SELECTED_MODEL(input_shape=(36,36,3),\n",
    "                            include_top=False,\n",
    "                            weights='imagenet')\n",
    "  base_model.trainable = False"
   ],
   "metadata": {
    "id": "Pn2HcPdTwuHI"
   }
  },
  {
   "cell_type": "code",
   "execution_count": null,
   "outputs": [],
   "source": [
    "base_model = custom_model(input_shape=(36,36,3))"
   ],
   "metadata": {
    "id": "AtaBYGxTwuHI"
   }
  },
  {
   "cell_type": "code",
   "execution_count": null,
   "outputs": [],
   "source": [
    "#model = bottom_model_builder_fully_conv(base_model, dropout_rate=0.3)\n",
    "model_vanilla = bottom_model_builder_classifier(base_model, dropout_rate=0.3, size_dense=6000)\n",
    "model = wrapper_feature_rgb(model_vanilla)"
   ],
   "metadata": {
    "id": "FyjSp1rVwuHI"
   }
  },
  {
   "cell_type": "code",
   "source": [
    "model.summary()"
   ],
   "metadata": {
    "colab": {
     "base_uri": "https://localhost:8080/"
    },
    "id": "Y2sWgPzp1Xkh",
    "outputId": "86cfaa87-f4dc-4b7d-a97d-5c700ad80d36"
   },
   "execution_count": null,
   "outputs": [
    {
     "output_type": "stream",
     "name": "stdout",
     "text": [
      "Model: \"model_1\"\n",
      "_________________________________________________________________\n",
      " Layer (type)                Output Shape              Param #   \n",
      "=================================================================\n",
      " input_4 (InputLayer)        [(None, 36, 36, 6)]       0         \n",
      "                                                                 \n",
      " lambda_1 (Lambda)           (None, 36, 36, 3)         0         \n",
      "                                                                 \n",
      " Densemodel (Functional)     (None, 12)                3023104   \n",
      "                                                                 \n",
      "=================================================================\n",
      "Total params: 3,023,104\n",
      "Trainable params: 3,023,104\n",
      "Non-trainable params: 0\n",
      "_________________________________________________________________\n"
     ]
    }
   ]
  },
  {
   "cell_type": "code",
   "execution_count": null,
   "outputs": [],
   "source": [
    "model.compile(optimizer=tf.keras.optimizers.Adam(),\n",
    "              loss=tf.keras.losses.SparseCategoricalCrossentropy(),\n",
    "              metrics=['sparse_categorical_accuracy'])"
   ],
   "metadata": {
    "id": "ScIZkGtpwuHJ"
   }
  },
  {
   "cell_type": "code",
   "execution_count": null,
   "outputs": [
    {
     "output_type": "stream",
     "name": "stdout",
     "text": [
      "Epoch 1/200\n",
      "57/57 [==============================] - 2s 16ms/step - loss: 2.7401 - sparse_categorical_accuracy: 0.0888 - val_loss: 2.5692 - val_sparse_categorical_accuracy: 0.2675\n",
      "Epoch 2/200\n",
      "57/57 [==============================] - 1s 10ms/step - loss: 2.5852 - sparse_categorical_accuracy: 0.0820 - val_loss: 2.5366 - val_sparse_categorical_accuracy: 0.2675\n",
      "Epoch 3/200\n",
      "57/57 [==============================] - 1s 10ms/step - loss: 2.5631 - sparse_categorical_accuracy: 0.0831 - val_loss: 2.5608 - val_sparse_categorical_accuracy: 0.0535\n",
      "Epoch 4/200\n",
      "57/57 [==============================] - 1s 10ms/step - loss: 2.5455 - sparse_categorical_accuracy: 0.0886 - val_loss: 2.5053 - val_sparse_categorical_accuracy: 0.2675\n",
      "Epoch 5/200\n",
      "57/57 [==============================] - 1s 10ms/step - loss: 2.5347 - sparse_categorical_accuracy: 0.0888 - val_loss: 2.5000 - val_sparse_categorical_accuracy: 0.2675\n",
      "Epoch 6/200\n",
      "57/57 [==============================] - 1s 10ms/step - loss: 2.5250 - sparse_categorical_accuracy: 0.0894 - val_loss: 2.4997 - val_sparse_categorical_accuracy: 0.2675\n",
      "Epoch 7/200\n",
      "57/57 [==============================] - 1s 10ms/step - loss: 2.5180 - sparse_categorical_accuracy: 0.0965 - val_loss: 2.4897 - val_sparse_categorical_accuracy: 0.2675\n",
      "Epoch 8/200\n",
      "57/57 [==============================] - 1s 10ms/step - loss: 2.5121 - sparse_categorical_accuracy: 0.0949 - val_loss: 2.4866 - val_sparse_categorical_accuracy: 0.2675\n",
      "Epoch 9/200\n",
      "57/57 [==============================] - 1s 10ms/step - loss: 2.5073 - sparse_categorical_accuracy: 0.0951 - val_loss: 2.4806 - val_sparse_categorical_accuracy: 0.2675\n",
      "Epoch 10/200\n",
      "57/57 [==============================] - 1s 10ms/step - loss: 2.5041 - sparse_categorical_accuracy: 0.0927 - val_loss: 2.4780 - val_sparse_categorical_accuracy: 0.2675\n",
      "Epoch 11/200\n",
      "57/57 [==============================] - 1s 10ms/step - loss: 2.5225 - sparse_categorical_accuracy: 0.0949 - val_loss: 2.4859 - val_sparse_categorical_accuracy: 0.2675\n",
      "Epoch 12/200\n",
      "57/57 [==============================] - 1s 10ms/step - loss: 2.5082 - sparse_categorical_accuracy: 0.0951 - val_loss: 2.4868 - val_sparse_categorical_accuracy: 0.2675\n",
      "Epoch 13/200\n",
      "57/57 [==============================] - 1s 10ms/step - loss: 2.5033 - sparse_categorical_accuracy: 0.0951 - val_loss: 2.4779 - val_sparse_categorical_accuracy: 0.2675\n",
      "Epoch 14/200\n",
      "57/57 [==============================] - 1s 9ms/step - loss: 2.5013 - sparse_categorical_accuracy: 0.0930 - val_loss: 2.4769 - val_sparse_categorical_accuracy: 0.2675\n",
      "Epoch 15/200\n",
      "57/57 [==============================] - 1s 12ms/step - loss: 2.4985 - sparse_categorical_accuracy: 0.0951 - val_loss: 2.4770 - val_sparse_categorical_accuracy: 0.2675\n",
      "Epoch 16/200\n",
      "57/57 [==============================] - 1s 13ms/step - loss: 2.4965 - sparse_categorical_accuracy: 0.0951 - val_loss: 2.4737 - val_sparse_categorical_accuracy: 0.2675\n",
      "Epoch 17/200\n",
      "57/57 [==============================] - 1s 13ms/step - loss: 2.4947 - sparse_categorical_accuracy: 0.0951 - val_loss: 2.4700 - val_sparse_categorical_accuracy: 0.2675\n",
      "Epoch 18/200\n",
      "57/57 [==============================] - 1s 14ms/step - loss: 2.4935 - sparse_categorical_accuracy: 0.0951 - val_loss: 2.4702 - val_sparse_categorical_accuracy: 0.2675\n",
      "Epoch 19/200\n",
      "57/57 [==============================] - 1s 12ms/step - loss: 2.4922 - sparse_categorical_accuracy: 0.0951 - val_loss: 2.4616 - val_sparse_categorical_accuracy: 0.2675\n",
      "Epoch 20/200\n",
      "57/57 [==============================] - 1s 10ms/step - loss: 2.4911 - sparse_categorical_accuracy: 0.0951 - val_loss: 2.4672 - val_sparse_categorical_accuracy: 0.2675\n",
      "Epoch 21/200\n",
      "57/57 [==============================] - 1s 10ms/step - loss: 2.4904 - sparse_categorical_accuracy: 0.0951 - val_loss: 2.4661 - val_sparse_categorical_accuracy: 0.2675\n",
      "Epoch 22/200\n",
      "57/57 [==============================] - 1s 10ms/step - loss: 2.4896 - sparse_categorical_accuracy: 0.0951 - val_loss: 2.4661 - val_sparse_categorical_accuracy: 0.2675\n",
      "Epoch 23/200\n",
      "57/57 [==============================] - 1s 10ms/step - loss: 2.4889 - sparse_categorical_accuracy: 0.0951 - val_loss: 2.4642 - val_sparse_categorical_accuracy: 0.2675\n",
      "Epoch 24/200\n",
      "57/57 [==============================] - 1s 10ms/step - loss: 2.4885 - sparse_categorical_accuracy: 0.0951 - val_loss: 2.4594 - val_sparse_categorical_accuracy: 0.2675\n",
      "Epoch 25/200\n",
      "57/57 [==============================] - 1s 10ms/step - loss: 2.4882 - sparse_categorical_accuracy: 0.0951 - val_loss: 2.4676 - val_sparse_categorical_accuracy: 0.2675\n",
      "Epoch 26/200\n",
      "57/57 [==============================] - 1s 10ms/step - loss: 2.4889 - sparse_categorical_accuracy: 0.0951 - val_loss: 2.4656 - val_sparse_categorical_accuracy: 0.2675\n",
      "Epoch 27/200\n",
      "57/57 [==============================] - 1s 10ms/step - loss: 2.4930 - sparse_categorical_accuracy: 0.0951 - val_loss: 2.4675 - val_sparse_categorical_accuracy: 0.2675\n",
      "Epoch 28/200\n",
      "57/57 [==============================] - 1s 10ms/step - loss: 2.4928 - sparse_categorical_accuracy: 0.0932 - val_loss: 2.4677 - val_sparse_categorical_accuracy: 0.2675\n",
      "Epoch 29/200\n",
      "57/57 [==============================] - 1s 10ms/step - loss: 2.4914 - sparse_categorical_accuracy: 0.0951 - val_loss: 2.4663 - val_sparse_categorical_accuracy: 0.2675\n",
      "Epoch 30/200\n",
      "57/57 [==============================] - 1s 10ms/step - loss: 2.4907 - sparse_categorical_accuracy: 0.0951 - val_loss: 2.4679 - val_sparse_categorical_accuracy: 0.2675\n",
      "Epoch 31/200\n",
      "13/57 [=====>........................] - ETA: 0s - loss: 2.4918 - sparse_categorical_accuracy: 0.0829"
     ]
    },
    {
     "output_type": "error",
     "ename": "KeyboardInterrupt",
     "evalue": "ignored",
     "traceback": [
      "\u001B[0;31m---------------------------------------------------------------------------\u001B[0m",
      "\u001B[0;31mKeyboardInterrupt\u001B[0m                         Traceback (most recent call last)",
      "\u001B[0;32m<ipython-input-51-b88e9db0cfca>\u001B[0m in \u001B[0;36m<module>\u001B[0;34m\u001B[0m\n\u001B[0;32m----> 1\u001B[0;31m history = model.fit(train_dataset,\n\u001B[0m\u001B[1;32m      2\u001B[0m           \u001B[0mvalidation_data\u001B[0m\u001B[0;34m=\u001B[0m\u001B[0mtest_dataset\u001B[0m\u001B[0;34m,\u001B[0m\u001B[0;34m\u001B[0m\u001B[0;34m\u001B[0m\u001B[0m\n\u001B[1;32m      3\u001B[0m           \u001B[0mepochs\u001B[0m\u001B[0;34m=\u001B[0m\u001B[0;36m200\u001B[0m\u001B[0;34m,\u001B[0m\u001B[0;34m\u001B[0m\u001B[0;34m\u001B[0m\u001B[0m\n\u001B[1;32m      4\u001B[0m           callbacks=callbacks_list).history\n",
      "\u001B[0;32m/usr/local/lib/python3.8/dist-packages/keras/utils/traceback_utils.py\u001B[0m in \u001B[0;36merror_handler\u001B[0;34m(*args, **kwargs)\u001B[0m\n\u001B[1;32m     62\u001B[0m     \u001B[0mfiltered_tb\u001B[0m \u001B[0;34m=\u001B[0m \u001B[0;32mNone\u001B[0m\u001B[0;34m\u001B[0m\u001B[0;34m\u001B[0m\u001B[0m\n\u001B[1;32m     63\u001B[0m     \u001B[0;32mtry\u001B[0m\u001B[0;34m:\u001B[0m\u001B[0;34m\u001B[0m\u001B[0;34m\u001B[0m\u001B[0m\n\u001B[0;32m---> 64\u001B[0;31m       \u001B[0;32mreturn\u001B[0m \u001B[0mfn\u001B[0m\u001B[0;34m(\u001B[0m\u001B[0;34m*\u001B[0m\u001B[0margs\u001B[0m\u001B[0;34m,\u001B[0m \u001B[0;34m**\u001B[0m\u001B[0mkwargs\u001B[0m\u001B[0;34m)\u001B[0m\u001B[0;34m\u001B[0m\u001B[0;34m\u001B[0m\u001B[0m\n\u001B[0m\u001B[1;32m     65\u001B[0m     \u001B[0;32mexcept\u001B[0m \u001B[0mException\u001B[0m \u001B[0;32mas\u001B[0m \u001B[0me\u001B[0m\u001B[0;34m:\u001B[0m  \u001B[0;31m# pylint: disable=broad-except\u001B[0m\u001B[0;34m\u001B[0m\u001B[0;34m\u001B[0m\u001B[0m\n\u001B[1;32m     66\u001B[0m       \u001B[0mfiltered_tb\u001B[0m \u001B[0;34m=\u001B[0m \u001B[0m_process_traceback_frames\u001B[0m\u001B[0;34m(\u001B[0m\u001B[0me\u001B[0m\u001B[0;34m.\u001B[0m\u001B[0m__traceback__\u001B[0m\u001B[0;34m)\u001B[0m\u001B[0;34m\u001B[0m\u001B[0;34m\u001B[0m\u001B[0m\n",
      "\u001B[0;32m/usr/local/lib/python3.8/dist-packages/keras/engine/training.py\u001B[0m in \u001B[0;36mfit\u001B[0;34m(self, x, y, batch_size, epochs, verbose, callbacks, validation_split, validation_data, shuffle, class_weight, sample_weight, initial_epoch, steps_per_epoch, validation_steps, validation_batch_size, validation_freq, max_queue_size, workers, use_multiprocessing)\u001B[0m\n\u001B[1;32m   1407\u001B[0m                 _r=1):\n\u001B[1;32m   1408\u001B[0m               \u001B[0mcallbacks\u001B[0m\u001B[0;34m.\u001B[0m\u001B[0mon_train_batch_begin\u001B[0m\u001B[0;34m(\u001B[0m\u001B[0mstep\u001B[0m\u001B[0;34m)\u001B[0m\u001B[0;34m\u001B[0m\u001B[0;34m\u001B[0m\u001B[0m\n\u001B[0;32m-> 1409\u001B[0;31m               \u001B[0mtmp_logs\u001B[0m \u001B[0;34m=\u001B[0m \u001B[0mself\u001B[0m\u001B[0;34m.\u001B[0m\u001B[0mtrain_function\u001B[0m\u001B[0;34m(\u001B[0m\u001B[0miterator\u001B[0m\u001B[0;34m)\u001B[0m\u001B[0;34m\u001B[0m\u001B[0;34m\u001B[0m\u001B[0m\n\u001B[0m\u001B[1;32m   1410\u001B[0m               \u001B[0;32mif\u001B[0m \u001B[0mdata_handler\u001B[0m\u001B[0;34m.\u001B[0m\u001B[0mshould_sync\u001B[0m\u001B[0;34m:\u001B[0m\u001B[0;34m\u001B[0m\u001B[0;34m\u001B[0m\u001B[0m\n\u001B[1;32m   1411\u001B[0m                 \u001B[0mcontext\u001B[0m\u001B[0;34m.\u001B[0m\u001B[0masync_wait\u001B[0m\u001B[0;34m(\u001B[0m\u001B[0;34m)\u001B[0m\u001B[0;34m\u001B[0m\u001B[0;34m\u001B[0m\u001B[0m\n",
      "\u001B[0;32m/usr/local/lib/python3.8/dist-packages/tensorflow/python/util/traceback_utils.py\u001B[0m in \u001B[0;36merror_handler\u001B[0;34m(*args, **kwargs)\u001B[0m\n\u001B[1;32m    148\u001B[0m     \u001B[0mfiltered_tb\u001B[0m \u001B[0;34m=\u001B[0m \u001B[0;32mNone\u001B[0m\u001B[0;34m\u001B[0m\u001B[0;34m\u001B[0m\u001B[0m\n\u001B[1;32m    149\u001B[0m     \u001B[0;32mtry\u001B[0m\u001B[0;34m:\u001B[0m\u001B[0;34m\u001B[0m\u001B[0;34m\u001B[0m\u001B[0m\n\u001B[0;32m--> 150\u001B[0;31m       \u001B[0;32mreturn\u001B[0m \u001B[0mfn\u001B[0m\u001B[0;34m(\u001B[0m\u001B[0;34m*\u001B[0m\u001B[0margs\u001B[0m\u001B[0;34m,\u001B[0m \u001B[0;34m**\u001B[0m\u001B[0mkwargs\u001B[0m\u001B[0;34m)\u001B[0m\u001B[0;34m\u001B[0m\u001B[0;34m\u001B[0m\u001B[0m\n\u001B[0m\u001B[1;32m    151\u001B[0m     \u001B[0;32mexcept\u001B[0m \u001B[0mException\u001B[0m \u001B[0;32mas\u001B[0m \u001B[0me\u001B[0m\u001B[0;34m:\u001B[0m\u001B[0;34m\u001B[0m\u001B[0;34m\u001B[0m\u001B[0m\n\u001B[1;32m    152\u001B[0m       \u001B[0mfiltered_tb\u001B[0m \u001B[0;34m=\u001B[0m \u001B[0m_process_traceback_frames\u001B[0m\u001B[0;34m(\u001B[0m\u001B[0me\u001B[0m\u001B[0;34m.\u001B[0m\u001B[0m__traceback__\u001B[0m\u001B[0;34m)\u001B[0m\u001B[0;34m\u001B[0m\u001B[0;34m\u001B[0m\u001B[0m\n",
      "\u001B[0;32m/usr/local/lib/python3.8/dist-packages/tensorflow/python/eager/def_function.py\u001B[0m in \u001B[0;36m__call__\u001B[0;34m(self, *args, **kwds)\u001B[0m\n\u001B[1;32m    913\u001B[0m \u001B[0;34m\u001B[0m\u001B[0m\n\u001B[1;32m    914\u001B[0m       \u001B[0;32mwith\u001B[0m \u001B[0mOptionalXlaContext\u001B[0m\u001B[0;34m(\u001B[0m\u001B[0mself\u001B[0m\u001B[0;34m.\u001B[0m\u001B[0m_jit_compile\u001B[0m\u001B[0;34m)\u001B[0m\u001B[0;34m:\u001B[0m\u001B[0;34m\u001B[0m\u001B[0;34m\u001B[0m\u001B[0m\n\u001B[0;32m--> 915\u001B[0;31m         \u001B[0mresult\u001B[0m \u001B[0;34m=\u001B[0m \u001B[0mself\u001B[0m\u001B[0;34m.\u001B[0m\u001B[0m_call\u001B[0m\u001B[0;34m(\u001B[0m\u001B[0;34m*\u001B[0m\u001B[0margs\u001B[0m\u001B[0;34m,\u001B[0m \u001B[0;34m**\u001B[0m\u001B[0mkwds\u001B[0m\u001B[0;34m)\u001B[0m\u001B[0;34m\u001B[0m\u001B[0;34m\u001B[0m\u001B[0m\n\u001B[0m\u001B[1;32m    916\u001B[0m \u001B[0;34m\u001B[0m\u001B[0m\n\u001B[1;32m    917\u001B[0m       \u001B[0mnew_tracing_count\u001B[0m \u001B[0;34m=\u001B[0m \u001B[0mself\u001B[0m\u001B[0;34m.\u001B[0m\u001B[0mexperimental_get_tracing_count\u001B[0m\u001B[0;34m(\u001B[0m\u001B[0;34m)\u001B[0m\u001B[0;34m\u001B[0m\u001B[0;34m\u001B[0m\u001B[0m\n",
      "\u001B[0;32m/usr/local/lib/python3.8/dist-packages/tensorflow/python/eager/def_function.py\u001B[0m in \u001B[0;36m_call\u001B[0;34m(self, *args, **kwds)\u001B[0m\n\u001B[1;32m    945\u001B[0m       \u001B[0;31m# In this case we have created variables on the first call, so we run the\u001B[0m\u001B[0;34m\u001B[0m\u001B[0;34m\u001B[0m\u001B[0;34m\u001B[0m\u001B[0m\n\u001B[1;32m    946\u001B[0m       \u001B[0;31m# defunned version which is guaranteed to never create variables.\u001B[0m\u001B[0;34m\u001B[0m\u001B[0;34m\u001B[0m\u001B[0;34m\u001B[0m\u001B[0m\n\u001B[0;32m--> 947\u001B[0;31m       \u001B[0;32mreturn\u001B[0m \u001B[0mself\u001B[0m\u001B[0;34m.\u001B[0m\u001B[0m_stateless_fn\u001B[0m\u001B[0;34m(\u001B[0m\u001B[0;34m*\u001B[0m\u001B[0margs\u001B[0m\u001B[0;34m,\u001B[0m \u001B[0;34m**\u001B[0m\u001B[0mkwds\u001B[0m\u001B[0;34m)\u001B[0m  \u001B[0;31m# pylint: disable=not-callable\u001B[0m\u001B[0;34m\u001B[0m\u001B[0;34m\u001B[0m\u001B[0m\n\u001B[0m\u001B[1;32m    948\u001B[0m     \u001B[0;32melif\u001B[0m \u001B[0mself\u001B[0m\u001B[0;34m.\u001B[0m\u001B[0m_stateful_fn\u001B[0m \u001B[0;32mis\u001B[0m \u001B[0;32mnot\u001B[0m \u001B[0;32mNone\u001B[0m\u001B[0;34m:\u001B[0m\u001B[0;34m\u001B[0m\u001B[0;34m\u001B[0m\u001B[0m\n\u001B[1;32m    949\u001B[0m       \u001B[0;31m# Release the lock early so that multiple threads can perform the call\u001B[0m\u001B[0;34m\u001B[0m\u001B[0;34m\u001B[0m\u001B[0;34m\u001B[0m\u001B[0m\n",
      "\u001B[0;32m/usr/local/lib/python3.8/dist-packages/tensorflow/python/eager/function.py\u001B[0m in \u001B[0;36m__call__\u001B[0;34m(self, *args, **kwargs)\u001B[0m\n\u001B[1;32m   2451\u001B[0m       (graph_function,\n\u001B[1;32m   2452\u001B[0m        filtered_flat_args) = self._maybe_define_function(args, kwargs)\n\u001B[0;32m-> 2453\u001B[0;31m     return graph_function._call_flat(\n\u001B[0m\u001B[1;32m   2454\u001B[0m         filtered_flat_args, captured_inputs=graph_function.captured_inputs)  # pylint: disable=protected-access\n\u001B[1;32m   2455\u001B[0m \u001B[0;34m\u001B[0m\u001B[0m\n",
      "\u001B[0;32m/usr/local/lib/python3.8/dist-packages/tensorflow/python/eager/function.py\u001B[0m in \u001B[0;36m_call_flat\u001B[0;34m(self, args, captured_inputs, cancellation_manager)\u001B[0m\n\u001B[1;32m   1858\u001B[0m         and executing_eagerly):\n\u001B[1;32m   1859\u001B[0m       \u001B[0;31m# No tape is watching; skip to running the function.\u001B[0m\u001B[0;34m\u001B[0m\u001B[0;34m\u001B[0m\u001B[0;34m\u001B[0m\u001B[0m\n\u001B[0;32m-> 1860\u001B[0;31m       return self._build_call_outputs(self._inference_function.call(\n\u001B[0m\u001B[1;32m   1861\u001B[0m           ctx, args, cancellation_manager=cancellation_manager))\n\u001B[1;32m   1862\u001B[0m     forward_backward = self._select_forward_and_backward_functions(\n",
      "\u001B[0;32m/usr/local/lib/python3.8/dist-packages/tensorflow/python/eager/function.py\u001B[0m in \u001B[0;36mcall\u001B[0;34m(self, ctx, args, cancellation_manager)\u001B[0m\n\u001B[1;32m    495\u001B[0m       \u001B[0;32mwith\u001B[0m \u001B[0m_InterpolateFunctionError\u001B[0m\u001B[0;34m(\u001B[0m\u001B[0mself\u001B[0m\u001B[0;34m)\u001B[0m\u001B[0;34m:\u001B[0m\u001B[0;34m\u001B[0m\u001B[0;34m\u001B[0m\u001B[0m\n\u001B[1;32m    496\u001B[0m         \u001B[0;32mif\u001B[0m \u001B[0mcancellation_manager\u001B[0m \u001B[0;32mis\u001B[0m \u001B[0;32mNone\u001B[0m\u001B[0;34m:\u001B[0m\u001B[0;34m\u001B[0m\u001B[0;34m\u001B[0m\u001B[0m\n\u001B[0;32m--> 497\u001B[0;31m           outputs = execute.execute(\n\u001B[0m\u001B[1;32m    498\u001B[0m               \u001B[0mstr\u001B[0m\u001B[0;34m(\u001B[0m\u001B[0mself\u001B[0m\u001B[0;34m.\u001B[0m\u001B[0msignature\u001B[0m\u001B[0;34m.\u001B[0m\u001B[0mname\u001B[0m\u001B[0;34m)\u001B[0m\u001B[0;34m,\u001B[0m\u001B[0;34m\u001B[0m\u001B[0;34m\u001B[0m\u001B[0m\n\u001B[1;32m    499\u001B[0m               \u001B[0mnum_outputs\u001B[0m\u001B[0;34m=\u001B[0m\u001B[0mself\u001B[0m\u001B[0;34m.\u001B[0m\u001B[0m_num_outputs\u001B[0m\u001B[0;34m,\u001B[0m\u001B[0;34m\u001B[0m\u001B[0;34m\u001B[0m\u001B[0m\n",
      "\u001B[0;32m/usr/local/lib/python3.8/dist-packages/tensorflow/python/eager/execute.py\u001B[0m in \u001B[0;36mquick_execute\u001B[0;34m(op_name, num_outputs, inputs, attrs, ctx, name)\u001B[0m\n\u001B[1;32m     52\u001B[0m   \u001B[0;32mtry\u001B[0m\u001B[0;34m:\u001B[0m\u001B[0;34m\u001B[0m\u001B[0;34m\u001B[0m\u001B[0m\n\u001B[1;32m     53\u001B[0m     \u001B[0mctx\u001B[0m\u001B[0;34m.\u001B[0m\u001B[0mensure_initialized\u001B[0m\u001B[0;34m(\u001B[0m\u001B[0;34m)\u001B[0m\u001B[0;34m\u001B[0m\u001B[0;34m\u001B[0m\u001B[0m\n\u001B[0;32m---> 54\u001B[0;31m     tensors = pywrap_tfe.TFE_Py_Execute(ctx._handle, device_name, op_name,\n\u001B[0m\u001B[1;32m     55\u001B[0m                                         inputs, attrs, num_outputs)\n\u001B[1;32m     56\u001B[0m   \u001B[0;32mexcept\u001B[0m \u001B[0mcore\u001B[0m\u001B[0;34m.\u001B[0m\u001B[0m_NotOkStatusException\u001B[0m \u001B[0;32mas\u001B[0m \u001B[0me\u001B[0m\u001B[0;34m:\u001B[0m\u001B[0;34m\u001B[0m\u001B[0;34m\u001B[0m\u001B[0m\n",
      "\u001B[0;31mKeyboardInterrupt\u001B[0m: "
     ]
    }
   ],
   "source": [
    "history = model.fit(train_dataset,\n",
    "          validation_data=test_dataset,\n",
    "          epochs=200,\n",
    "          callbacks=callbacks_list).history"
   ],
   "metadata": {
    "colab": {
     "base_uri": "https://localhost:8080/",
     "height": 1000
    },
    "id": "AwveXbwywuHJ",
    "outputId": "8d13b29c-2e1f-4b78-d6fb-3b38df230b7d"
   }
  },
  {
   "cell_type": "markdown",
   "source": [
    "# LSTM, biLSTM and 1D conv"
   ],
   "metadata": {
    "id": "SDRHZ-GqrYJ3"
   }
  },
  {
   "cell_type": "code",
   "source": [
    "def make_model_conv(input_shape):\n",
    "    input_layer = keras.layers.Input(input_shape)\n",
    "\n",
    "    conv1 = keras.layers.Conv1D(filters=64, kernel_size=3, padding=\"same\")(input_layer)\n",
    "    conv1 = keras.layers.BatchNormalization()(conv1)\n",
    "    conv1 = keras.layers.ReLU()(conv1)\n",
    "\n",
    "    conv2 = keras.layers.Conv1D(filters=32, kernel_size=3, padding=\"same\")(conv1)\n",
    "    conv2 = keras.layers.BatchNormalization()(conv2)\n",
    "    conv2 = keras.layers.ReLU()(conv2)\n",
    "\n",
    "    conv3 = keras.layers.Conv1D(filters=8, kernel_size=3, padding=\"same\")(conv2)\n",
    "    conv3 = keras.layers.BatchNormalization()(conv3)\n",
    "    conv3 = keras.layers.ReLU()(conv3)\n",
    "\n",
    "    gap = keras.layers.GlobalAveragePooling1D()(conv3)\n",
    "\n",
    "    output_layer = keras.layers.Dense(12, activation=\"softmax\")(gap)\n",
    "\n",
    "    return keras.models.Model(inputs=input_layer, outputs=output_layer)"
   ],
   "metadata": {
    "id": "r5D8ax-wrz8h"
   },
   "execution_count": null,
   "outputs": []
  },
  {
   "cell_type": "code",
   "source": [
    "def build_LSTM_classifier(classes=12):\n",
    "    input_shape=x_train.shape[1:]\n",
    "    seed=0\n",
    "    # Build the neural network layer by layer\n",
    "    input_layer = tfkl.Input(shape=input_shape, name='Input')\n",
    "\n",
    "    # Feature extractor\n",
    "    lstm = tfkl.LSTM(12, return_sequences=True)(input_layer) #Number of neurons means dimension of the cell\n",
    "    #Return sequences is a parameter that decides to return each timestep output or only the final one (False)\n",
    "    lstm = tfkl.LSTM(12)(lstm)\n",
    "    dropout = tfkl.Dropout(0.3, seed=seed)(lstm)\n",
    "\n",
    "    # Classifier\n",
    "    classifier = tfkl.Dense(128, activation='relu')(dropout)\n",
    "    output_layer = tfkl.Dense(classes, activation='softmax')(classifier)\n",
    "\n",
    "    # Connect input and output through the Model class\n",
    "    model = tfk.Model(inputs=input_layer, outputs=output_layer, name='model')\n",
    "\n",
    "    # Compile the model\n",
    "    # model.compile(loss=tfk.losses.SparseCategoricalCrossentropy(), optimizer=tfk.optimizers.Adam(), metrics='accuracy')\n",
    "    model.compile(\n",
    "      optimizer=\"adam\",\n",
    "      loss=\"sparse_categorical_crossentropy\",\n",
    "      metrics=[\"sparse_categorical_accuracy\"],\n",
    ")\n",
    "    # Return the model\n",
    "    return model"
   ],
   "metadata": {
    "id": "poNBE5Cm4TjC"
   },
   "execution_count": null,
   "outputs": []
  },
  {
   "cell_type": "code",
   "source": [
    "from tensorflow.keras import regularizers\n",
    "\n",
    "def build_LSTM_classifier(input_shape):\n",
    "    REGULARIZING_FACTOR =1e-2\n",
    "    DROPOUT = 0.4\n",
    "    N = 56\n",
    "    B = 2\n",
    "    input_layer = keras.layers.Input(input_shape)\n",
    "    x = tfkl.LSTM(N, return_sequences=True)(input_layer)\n",
    "    x = keras.layers.Dropout(DROPOUT)(x)\n",
    "    for i in range(B):\n",
    "      x = tfkl.LSTM(N, return_sequences=True)(x)\n",
    "      x = keras.layers.Dropout(DROPOUT)(x)\n",
    "    x = tfkl.LSTM(N)(x)\n",
    "    # x = keras.layers.Dense(12, kernel_regularizer=regularizers.l2(REGULARIZING_FACTOR), activation=\"relu\")(x)\n",
    "    x = keras.layers.Dropout(DROPOUT)(x)\n",
    "    # x = keras.layers.Dense(12, activation=\"relu\")(x)\n",
    "    # x = keras.layers.Dropout(DROPOUT)(x)\n",
    "    # x = keras.layers.Dense(6, activation=\"relu\")(x)\n",
    "    # x = keras.layers.Dropout(DROPOUT)(x)\n",
    "    \n",
    "    output_layer = keras.layers.Dense(12, activation=\"softmax\")(x)\n",
    "\n",
    "    return keras.models.Model(inputs=input_layer, outputs=output_layer)"
   ],
   "metadata": {
    "id": "rQypxq4XweQA"
   },
   "execution_count": null,
   "outputs": []
  },
  {
   "cell_type": "code",
   "source": [
    "from tensorflow.keras import regularizers\n",
    "\n",
    "def bidirectional_LSTM(input_shape):\n",
    "    REGULARIZING_FACTOR =1e-2\n",
    "    DROPOUT = 0.3\n",
    "    N = 64\n",
    "    B = 3\n",
    "    input_layer = keras.layers.Input(input_shape)\n",
    "    x = input_layer\n",
    "    x = tfk.layers.Lambda(lambda x: x[:,:, :-2], input_shape=input_shape)(input_layer)\n",
    "    x = keras.layers.Bidirectional(keras.layers.LSTM(N, return_sequences=True))(x)\n",
    "    x = keras.layers.Dropout(DROPOUT)(x)\n",
    "    for i in range(B):\n",
    "      x = keras.layers.Bidirectional(keras.layers.LSTM(N, return_sequences=True))(x)\n",
    "      x = keras.layers.Dropout(DROPOUT)(x)\n",
    "    x = keras.layers.Bidirectional(keras.layers.LSTM(N))(x)\n",
    "    # x = keras.layers.Dense(12, kernel_regularizer=regularizers.l2(REGULARIZING_FACTOR), activation=\"relu\")(x)\n",
    "    x = keras.layers.Dropout(DROPOUT)(x)\n",
    "    # x = keras.layers.Dense(12, activation=\"relu\")(x)\n",
    "    # x = keras.layers.Dropout(DROPOUT)(x)\n",
    "    # x = keras.layers.Dense(6, activation=\"relu\")(x)\n",
    "    # x = keras.layers.Dropout(DROPOUT)(x)\n",
    "    output_layer = keras.layers.Dense(12, activation=\"softmax\")(x)\n",
    "\n",
    "    return keras.models.Model(inputs=input_layer, outputs=output_layer)"
   ],
   "metadata": {
    "id": "xfjcLB4_zk-r"
   },
   "execution_count": null,
   "outputs": []
  },
  {
   "cell_type": "code",
   "source": [
    "x_train.shape[1:]"
   ],
   "metadata": {
    "colab": {
     "base_uri": "https://localhost:8080/"
    },
    "id": "NYWVm23MNwiz",
    "outputId": "18e50fae-a16f-44fb-c0ad-92da1adf6813"
   },
   "execution_count": null,
   "outputs": [
    {
     "output_type": "execute_result",
     "data": {
      "text/plain": [
       "(36, 6)"
      ]
     },
     "metadata": {},
     "execution_count": 30
    }
   ]
  },
  {
   "cell_type": "code",
   "source": [
    "# model = make_model_conv(input_shape=x_train_norm.shape[1:])\n",
    "#keras.utils.plot_model(model, show_shapes=True)\n",
    "\n",
    "model = bidirectional_LSTM(input_shape=x_train.shape[1:])\n",
    "#model = build_LSTM_classifier(input_shape=x_train.shape[1:])\n",
    "\n",
    "model.summary()"
   ],
   "metadata": {
    "colab": {
     "base_uri": "https://localhost:8080/"
    },
    "id": "rnhw4KTAr5n5",
    "outputId": "581bc2e1-8d2f-470c-935e-25fe1fc32c82"
   },
   "execution_count": null,
   "outputs": [
    {
     "output_type": "stream",
     "name": "stdout",
     "text": [
      "Model: \"model_5\"\n",
      "_________________________________________________________________\n",
      " Layer (type)                Output Shape              Param #   \n",
      "=================================================================\n",
      " input_15 (InputLayer)       [(None, 36, 6)]           0         \n",
      "                                                                 \n",
      " lambda_12 (Lambda)          (None, 36, 4)             0         \n",
      "                                                                 \n",
      " bidirectional_21 (Bidirecti  (None, 36, 128)          35328     \n",
      " onal)                                                           \n",
      "                                                                 \n",
      " dropout_15 (Dropout)        (None, 36, 128)           0         \n",
      "                                                                 \n",
      " bidirectional_22 (Bidirecti  (None, 36, 128)          98816     \n",
      " onal)                                                           \n",
      "                                                                 \n",
      " dropout_16 (Dropout)        (None, 36, 128)           0         \n",
      "                                                                 \n",
      " bidirectional_23 (Bidirecti  (None, 36, 128)          98816     \n",
      " onal)                                                           \n",
      "                                                                 \n",
      " dropout_17 (Dropout)        (None, 36, 128)           0         \n",
      "                                                                 \n",
      " bidirectional_24 (Bidirecti  (None, 36, 128)          98816     \n",
      " onal)                                                           \n",
      "                                                                 \n",
      " dropout_18 (Dropout)        (None, 36, 128)           0         \n",
      "                                                                 \n",
      " bidirectional_25 (Bidirecti  (None, 128)              98816     \n",
      " onal)                                                           \n",
      "                                                                 \n",
      " dropout_19 (Dropout)        (None, 128)               0         \n",
      "                                                                 \n",
      " dense_5 (Dense)             (None, 12)                1548      \n",
      "                                                                 \n",
      "=================================================================\n",
      "Total params: 432,140\n",
      "Trainable params: 432,140\n",
      "Non-trainable params: 0\n",
      "_________________________________________________________________\n"
     ]
    }
   ]
  },
  {
   "cell_type": "code",
   "source": [
    "BATCH_SIZE = 64\n",
    "#train_dataset = tf.data.Dataset.from_tensor_slices((x_train_norm, y_train_norm)).batch(BATCH_SIZE)\n",
    "#test_dataset = tf.data.Dataset.from_tensor_slices((x_test_norm, y_test_norm)).batch(BATCH_SIZE)\n",
    "\n",
    "BATCH_SIZE = 64\n",
    "train_dataset = tf.data.Dataset.from_tensor_slices((x_train_norm, y_train_norm)).batch(BATCH_SIZE)\n",
    "test_dataset = tf.data.Dataset.from_tensor_slices((x_test_norm, y_test_norm)).batch(BATCH_SIZE)"
   ],
   "metadata": {
    "id": "dY9DiG5dshxr"
   },
   "execution_count": null,
   "outputs": []
  },
  {
   "cell_type": "code",
   "source": [
    "# callback list\n",
    "callbacks_list = []\n",
    "es_callback = tf.keras.callbacks.EarlyStopping(monitor='val_sparse_categorical_accuracy', patience=40, restore_best_weights=True)\n",
    "callbacks_list.append(es_callback)\n",
    "\n",
    "model.compile(\n",
    "    optimizer=\"adam\",\n",
    "    loss=\"sparse_categorical_crossentropy\",\n",
    "    metrics=[\"sparse_categorical_accuracy\"],\n",
    ")\n",
    "history = model.fit(\n",
    "          train_dataset,\n",
    "          validation_data=test_dataset,\n",
    "          epochs=400,\n",
    "          callbacks=callbacks_list).history"
   ],
   "metadata": {
    "colab": {
     "base_uri": "https://localhost:8080/"
    },
    "id": "_gQuWr-5sL8S",
    "outputId": "ccfd8820-21cc-4d87-dfcc-ec7cd0503f01"
   },
   "execution_count": null,
   "outputs": [
    {
     "output_type": "stream",
     "name": "stdout",
     "text": [
      "Epoch 1/400\n",
      "31/31 [==============================] - 16s 136ms/step - loss: 1.9332 - sparse_categorical_accuracy: 0.3886 - val_loss: 1.6006 - val_sparse_categorical_accuracy: 0.4444\n",
      "Epoch 2/400\n",
      "31/31 [==============================] - 1s 34ms/step - loss: 1.4851 - sparse_categorical_accuracy: 0.4956 - val_loss: 1.3398 - val_sparse_categorical_accuracy: 0.5391\n",
      "Epoch 3/400\n",
      "31/31 [==============================] - 1s 34ms/step - loss: 1.3165 - sparse_categorical_accuracy: 0.5584 - val_loss: 1.3072 - val_sparse_categorical_accuracy: 0.5700\n",
      "Epoch 4/400\n",
      "31/31 [==============================] - 1s 32ms/step - loss: 1.2387 - sparse_categorical_accuracy: 0.5672 - val_loss: 1.2814 - val_sparse_categorical_accuracy: 0.5679\n",
      "Epoch 5/400\n",
      "31/31 [==============================] - 1s 33ms/step - loss: 1.1814 - sparse_categorical_accuracy: 0.6063 - val_loss: 1.2538 - val_sparse_categorical_accuracy: 0.5720\n",
      "Epoch 6/400\n",
      "31/31 [==============================] - 1s 33ms/step - loss: 1.1558 - sparse_categorical_accuracy: 0.6109 - val_loss: 1.2472 - val_sparse_categorical_accuracy: 0.5679\n",
      "Epoch 7/400\n",
      "31/31 [==============================] - 1s 33ms/step - loss: 1.1085 - sparse_categorical_accuracy: 0.6243 - val_loss: 1.2272 - val_sparse_categorical_accuracy: 0.6173\n",
      "Epoch 8/400\n",
      "31/31 [==============================] - 1s 33ms/step - loss: 1.0735 - sparse_categorical_accuracy: 0.6294 - val_loss: 1.2307 - val_sparse_categorical_accuracy: 0.5947\n",
      "Epoch 9/400\n",
      "31/31 [==============================] - 1s 33ms/step - loss: 1.0446 - sparse_categorical_accuracy: 0.6464 - val_loss: 1.2207 - val_sparse_categorical_accuracy: 0.6091\n",
      "Epoch 10/400\n",
      "31/31 [==============================] - 1s 33ms/step - loss: 0.9795 - sparse_categorical_accuracy: 0.6711 - val_loss: 1.2247 - val_sparse_categorical_accuracy: 0.6276\n",
      "Epoch 11/400\n",
      "31/31 [==============================] - 1s 33ms/step - loss: 0.9641 - sparse_categorical_accuracy: 0.6773 - val_loss: 1.2173 - val_sparse_categorical_accuracy: 0.6255\n",
      "Epoch 12/400\n",
      "31/31 [==============================] - 1s 33ms/step - loss: 0.9463 - sparse_categorical_accuracy: 0.6866 - val_loss: 1.2441 - val_sparse_categorical_accuracy: 0.6091\n",
      "Epoch 13/400\n",
      "31/31 [==============================] - 1s 33ms/step - loss: 0.9172 - sparse_categorical_accuracy: 0.6943 - val_loss: 1.2128 - val_sparse_categorical_accuracy: 0.5947\n",
      "Epoch 14/400\n",
      "31/31 [==============================] - 1s 32ms/step - loss: 0.8700 - sparse_categorical_accuracy: 0.7030 - val_loss: 1.1731 - val_sparse_categorical_accuracy: 0.5864\n",
      "Epoch 15/400\n",
      "31/31 [==============================] - 1s 32ms/step - loss: 0.8380 - sparse_categorical_accuracy: 0.7138 - val_loss: 1.2622 - val_sparse_categorical_accuracy: 0.5967\n",
      "Epoch 16/400\n",
      "31/31 [==============================] - 1s 31ms/step - loss: 0.8482 - sparse_categorical_accuracy: 0.7144 - val_loss: 1.1761 - val_sparse_categorical_accuracy: 0.5988\n",
      "Epoch 17/400\n",
      "31/31 [==============================] - 1s 31ms/step - loss: 0.8075 - sparse_categorical_accuracy: 0.7283 - val_loss: 1.1674 - val_sparse_categorical_accuracy: 0.6152\n",
      "Epoch 18/400\n",
      "31/31 [==============================] - 1s 33ms/step - loss: 0.7919 - sparse_categorical_accuracy: 0.7339 - val_loss: 1.2530 - val_sparse_categorical_accuracy: 0.5926\n",
      "Epoch 19/400\n",
      "31/31 [==============================] - 1s 33ms/step - loss: 0.7681 - sparse_categorical_accuracy: 0.7442 - val_loss: 1.1851 - val_sparse_categorical_accuracy: 0.6214\n",
      "Epoch 20/400\n",
      "31/31 [==============================] - 1s 33ms/step - loss: 0.7382 - sparse_categorical_accuracy: 0.7560 - val_loss: 1.2851 - val_sparse_categorical_accuracy: 0.6296\n",
      "Epoch 21/400\n",
      "31/31 [==============================] - 1s 33ms/step - loss: 0.6991 - sparse_categorical_accuracy: 0.7638 - val_loss: 1.2783 - val_sparse_categorical_accuracy: 0.6111\n",
      "Epoch 22/400\n",
      "31/31 [==============================] - 1s 33ms/step - loss: 0.6953 - sparse_categorical_accuracy: 0.7756 - val_loss: 1.2134 - val_sparse_categorical_accuracy: 0.6173\n",
      "Epoch 23/400\n",
      "31/31 [==============================] - 1s 33ms/step - loss: 0.6554 - sparse_categorical_accuracy: 0.7782 - val_loss: 1.3122 - val_sparse_categorical_accuracy: 0.5823\n",
      "Epoch 24/400\n",
      "31/31 [==============================] - 1s 33ms/step - loss: 0.6802 - sparse_categorical_accuracy: 0.7735 - val_loss: 1.2441 - val_sparse_categorical_accuracy: 0.5967\n",
      "Epoch 25/400\n",
      "31/31 [==============================] - 1s 33ms/step - loss: 0.6282 - sparse_categorical_accuracy: 0.7905 - val_loss: 1.2736 - val_sparse_categorical_accuracy: 0.6193\n",
      "Epoch 26/400\n",
      "31/31 [==============================] - 1s 34ms/step - loss: 0.6186 - sparse_categorical_accuracy: 0.7977 - val_loss: 1.3271 - val_sparse_categorical_accuracy: 0.6049\n",
      "Epoch 27/400\n",
      "31/31 [==============================] - 1s 33ms/step - loss: 0.6122 - sparse_categorical_accuracy: 0.7967 - val_loss: 1.3493 - val_sparse_categorical_accuracy: 0.5823\n",
      "Epoch 28/400\n",
      "31/31 [==============================] - 1s 34ms/step - loss: 0.6128 - sparse_categorical_accuracy: 0.7957 - val_loss: 1.2911 - val_sparse_categorical_accuracy: 0.6358\n",
      "Epoch 29/400\n",
      "31/31 [==============================] - 1s 33ms/step - loss: 0.5975 - sparse_categorical_accuracy: 0.7941 - val_loss: 1.3037 - val_sparse_categorical_accuracy: 0.6173\n",
      "Epoch 30/400\n",
      "31/31 [==============================] - 1s 33ms/step - loss: 0.5592 - sparse_categorical_accuracy: 0.8121 - val_loss: 1.3081 - val_sparse_categorical_accuracy: 0.6399\n",
      "Epoch 31/400\n",
      "31/31 [==============================] - 1s 33ms/step - loss: 0.4938 - sparse_categorical_accuracy: 0.8291 - val_loss: 1.4023 - val_sparse_categorical_accuracy: 0.6317\n",
      "Epoch 32/400\n",
      "31/31 [==============================] - 1s 33ms/step - loss: 0.5298 - sparse_categorical_accuracy: 0.8204 - val_loss: 1.3889 - val_sparse_categorical_accuracy: 0.6193\n",
      "Epoch 33/400\n",
      "31/31 [==============================] - 1s 33ms/step - loss: 0.4984 - sparse_categorical_accuracy: 0.8317 - val_loss: 1.3966 - val_sparse_categorical_accuracy: 0.6317\n",
      "Epoch 34/400\n",
      "31/31 [==============================] - 1s 34ms/step - loss: 0.4329 - sparse_categorical_accuracy: 0.8610 - val_loss: 1.3690 - val_sparse_categorical_accuracy: 0.6543\n",
      "Epoch 35/400\n",
      "31/31 [==============================] - 1s 31ms/step - loss: 0.4408 - sparse_categorical_accuracy: 0.8487 - val_loss: 1.5052 - val_sparse_categorical_accuracy: 0.6276\n",
      "Epoch 36/400\n",
      "31/31 [==============================] - 1s 31ms/step - loss: 0.4170 - sparse_categorical_accuracy: 0.8564 - val_loss: 1.4265 - val_sparse_categorical_accuracy: 0.6235\n",
      "Epoch 37/400\n",
      "31/31 [==============================] - 1s 33ms/step - loss: 0.4276 - sparse_categorical_accuracy: 0.8580 - val_loss: 1.4371 - val_sparse_categorical_accuracy: 0.6337\n",
      "Epoch 38/400\n",
      "31/31 [==============================] - 1s 32ms/step - loss: 0.4466 - sparse_categorical_accuracy: 0.8466 - val_loss: 1.5471 - val_sparse_categorical_accuracy: 0.6111\n",
      "Epoch 39/400\n",
      "31/31 [==============================] - 1s 33ms/step - loss: 0.4024 - sparse_categorical_accuracy: 0.8657 - val_loss: 1.4788 - val_sparse_categorical_accuracy: 0.6379\n",
      "Epoch 40/400\n",
      "31/31 [==============================] - 1s 33ms/step - loss: 0.3587 - sparse_categorical_accuracy: 0.8760 - val_loss: 1.5080 - val_sparse_categorical_accuracy: 0.6296\n",
      "Epoch 41/400\n",
      "31/31 [==============================] - 1s 33ms/step - loss: 0.3415 - sparse_categorical_accuracy: 0.8893 - val_loss: 1.5000 - val_sparse_categorical_accuracy: 0.6296\n",
      "Epoch 42/400\n",
      "31/31 [==============================] - 1s 34ms/step - loss: 0.3472 - sparse_categorical_accuracy: 0.8852 - val_loss: 1.5333 - val_sparse_categorical_accuracy: 0.6255\n",
      "Epoch 43/400\n",
      "31/31 [==============================] - 1s 33ms/step - loss: 0.3519 - sparse_categorical_accuracy: 0.8842 - val_loss: 1.6555 - val_sparse_categorical_accuracy: 0.6193\n",
      "Epoch 44/400\n",
      "31/31 [==============================] - 1s 33ms/step - loss: 0.3710 - sparse_categorical_accuracy: 0.8801 - val_loss: 1.5197 - val_sparse_categorical_accuracy: 0.6193\n",
      "Epoch 45/400\n",
      "31/31 [==============================] - 1s 33ms/step - loss: 0.3502 - sparse_categorical_accuracy: 0.8873 - val_loss: 1.5727 - val_sparse_categorical_accuracy: 0.6070\n",
      "Epoch 46/400\n",
      "31/31 [==============================] - 1s 32ms/step - loss: 0.3351 - sparse_categorical_accuracy: 0.8863 - val_loss: 1.5404 - val_sparse_categorical_accuracy: 0.6152\n",
      "Epoch 47/400\n",
      "31/31 [==============================] - 1s 32ms/step - loss: 0.3250 - sparse_categorical_accuracy: 0.8914 - val_loss: 1.5706 - val_sparse_categorical_accuracy: 0.5967\n",
      "Epoch 48/400\n",
      "31/31 [==============================] - 1s 32ms/step - loss: 0.3325 - sparse_categorical_accuracy: 0.8888 - val_loss: 1.5907 - val_sparse_categorical_accuracy: 0.6255\n",
      "Epoch 49/400\n",
      "31/31 [==============================] - 1s 32ms/step - loss: 0.3107 - sparse_categorical_accuracy: 0.8935 - val_loss: 1.7096 - val_sparse_categorical_accuracy: 0.6152\n",
      "Epoch 50/400\n",
      "31/31 [==============================] - 1s 33ms/step - loss: 0.2909 - sparse_categorical_accuracy: 0.9012 - val_loss: 1.7292 - val_sparse_categorical_accuracy: 0.6173\n",
      "Epoch 51/400\n",
      "31/31 [==============================] - 1s 32ms/step - loss: 0.2892 - sparse_categorical_accuracy: 0.9048 - val_loss: 1.7183 - val_sparse_categorical_accuracy: 0.6276\n",
      "Epoch 52/400\n",
      "31/31 [==============================] - 1s 32ms/step - loss: 0.2668 - sparse_categorical_accuracy: 0.9156 - val_loss: 1.7336 - val_sparse_categorical_accuracy: 0.6214\n",
      "Epoch 53/400\n",
      "31/31 [==============================] - 1s 32ms/step - loss: 0.2536 - sparse_categorical_accuracy: 0.9213 - val_loss: 1.7170 - val_sparse_categorical_accuracy: 0.6235\n",
      "Epoch 54/400\n",
      "31/31 [==============================] - 1s 33ms/step - loss: 0.2352 - sparse_categorical_accuracy: 0.9228 - val_loss: 1.7726 - val_sparse_categorical_accuracy: 0.6111\n",
      "Epoch 55/400\n",
      "31/31 [==============================] - 1s 34ms/step - loss: 0.2148 - sparse_categorical_accuracy: 0.9254 - val_loss: 1.6864 - val_sparse_categorical_accuracy: 0.6502\n",
      "Epoch 56/400\n",
      "31/31 [==============================] - 1s 34ms/step - loss: 0.2089 - sparse_categorical_accuracy: 0.9300 - val_loss: 1.8354 - val_sparse_categorical_accuracy: 0.5720\n",
      "Epoch 57/400\n",
      "31/31 [==============================] - 1s 34ms/step - loss: 0.2356 - sparse_categorical_accuracy: 0.9254 - val_loss: 1.7269 - val_sparse_categorical_accuracy: 0.6379\n",
      "Epoch 58/400\n",
      "31/31 [==============================] - 1s 33ms/step - loss: 0.2624 - sparse_categorical_accuracy: 0.9130 - val_loss: 1.6844 - val_sparse_categorical_accuracy: 0.6564\n",
      "Epoch 59/400\n",
      "31/31 [==============================] - 1s 33ms/step - loss: 0.2992 - sparse_categorical_accuracy: 0.8940 - val_loss: 1.6280 - val_sparse_categorical_accuracy: 0.6173\n",
      "Epoch 60/400\n",
      "31/31 [==============================] - 1s 33ms/step - loss: 0.2062 - sparse_categorical_accuracy: 0.9264 - val_loss: 1.6287 - val_sparse_categorical_accuracy: 0.6481\n",
      "Epoch 61/400\n",
      "31/31 [==============================] - 1s 33ms/step - loss: 0.1877 - sparse_categorical_accuracy: 0.9331 - val_loss: 1.7064 - val_sparse_categorical_accuracy: 0.6317\n",
      "Epoch 62/400\n",
      "31/31 [==============================] - 1s 33ms/step - loss: 0.1580 - sparse_categorical_accuracy: 0.9465 - val_loss: 1.7518 - val_sparse_categorical_accuracy: 0.6235\n",
      "Epoch 63/400\n",
      "31/31 [==============================] - 1s 33ms/step - loss: 0.1310 - sparse_categorical_accuracy: 0.9532 - val_loss: 1.7074 - val_sparse_categorical_accuracy: 0.6420\n",
      "Epoch 64/400\n",
      "31/31 [==============================] - 1s 34ms/step - loss: 0.1302 - sparse_categorical_accuracy: 0.9588 - val_loss: 1.7764 - val_sparse_categorical_accuracy: 0.6337\n",
      "Epoch 65/400\n",
      "31/31 [==============================] - 1s 33ms/step - loss: 0.1497 - sparse_categorical_accuracy: 0.9511 - val_loss: 1.8605 - val_sparse_categorical_accuracy: 0.6091\n",
      "Epoch 66/400\n",
      "31/31 [==============================] - 1s 33ms/step - loss: 0.2409 - sparse_categorical_accuracy: 0.9171 - val_loss: 1.7192 - val_sparse_categorical_accuracy: 0.6626\n",
      "Epoch 67/400\n",
      "31/31 [==============================] - 1s 33ms/step - loss: 0.1776 - sparse_categorical_accuracy: 0.9444 - val_loss: 1.8695 - val_sparse_categorical_accuracy: 0.6337\n",
      "Epoch 68/400\n",
      "31/31 [==============================] - 1s 33ms/step - loss: 0.1539 - sparse_categorical_accuracy: 0.9516 - val_loss: 1.9488 - val_sparse_categorical_accuracy: 0.6358\n",
      "Epoch 69/400\n",
      "31/31 [==============================] - 1s 34ms/step - loss: 0.1861 - sparse_categorical_accuracy: 0.9403 - val_loss: 1.8501 - val_sparse_categorical_accuracy: 0.6358\n",
      "Epoch 70/400\n",
      "31/31 [==============================] - 1s 33ms/step - loss: 0.1559 - sparse_categorical_accuracy: 0.9439 - val_loss: 1.8401 - val_sparse_categorical_accuracy: 0.6461\n",
      "Epoch 71/400\n",
      "31/31 [==============================] - 1s 32ms/step - loss: 0.1727 - sparse_categorical_accuracy: 0.9341 - val_loss: 1.9070 - val_sparse_categorical_accuracy: 0.6091\n",
      "Epoch 72/400\n",
      "31/31 [==============================] - 1s 33ms/step - loss: 0.1349 - sparse_categorical_accuracy: 0.9532 - val_loss: 1.8931 - val_sparse_categorical_accuracy: 0.6379\n",
      "Epoch 73/400\n",
      "31/31 [==============================] - 1s 32ms/step - loss: 0.1553 - sparse_categorical_accuracy: 0.9490 - val_loss: 1.9572 - val_sparse_categorical_accuracy: 0.6173\n",
      "Epoch 74/400\n",
      "31/31 [==============================] - 1s 31ms/step - loss: 0.1369 - sparse_categorical_accuracy: 0.9568 - val_loss: 1.9974 - val_sparse_categorical_accuracy: 0.6255\n",
      "Epoch 75/400\n",
      "31/31 [==============================] - 1s 33ms/step - loss: 0.1270 - sparse_categorical_accuracy: 0.9557 - val_loss: 2.1121 - val_sparse_categorical_accuracy: 0.6132\n",
      "Epoch 76/400\n",
      "31/31 [==============================] - 1s 32ms/step - loss: 0.1196 - sparse_categorical_accuracy: 0.9629 - val_loss: 2.0222 - val_sparse_categorical_accuracy: 0.6379\n",
      "Epoch 77/400\n",
      "31/31 [==============================] - 1s 33ms/step - loss: 0.1574 - sparse_categorical_accuracy: 0.9506 - val_loss: 1.9748 - val_sparse_categorical_accuracy: 0.6502\n",
      "Epoch 78/400\n",
      "31/31 [==============================] - 1s 33ms/step - loss: 0.1165 - sparse_categorical_accuracy: 0.9665 - val_loss: 1.9235 - val_sparse_categorical_accuracy: 0.6317\n",
      "Epoch 79/400\n",
      "31/31 [==============================] - 1s 33ms/step - loss: 0.0853 - sparse_categorical_accuracy: 0.9738 - val_loss: 2.0630 - val_sparse_categorical_accuracy: 0.6420\n",
      "Epoch 80/400\n",
      "31/31 [==============================] - 1s 33ms/step - loss: 0.0714 - sparse_categorical_accuracy: 0.9774 - val_loss: 2.0961 - val_sparse_categorical_accuracy: 0.6276\n",
      "Epoch 81/400\n",
      "31/31 [==============================] - 1s 33ms/step - loss: 0.0869 - sparse_categorical_accuracy: 0.9727 - val_loss: 2.2003 - val_sparse_categorical_accuracy: 0.6255\n",
      "Epoch 82/400\n",
      "31/31 [==============================] - 1s 34ms/step - loss: 0.0891 - sparse_categorical_accuracy: 0.9686 - val_loss: 2.2608 - val_sparse_categorical_accuracy: 0.6049\n",
      "Epoch 83/400\n",
      "31/31 [==============================] - 1s 33ms/step - loss: 0.0993 - sparse_categorical_accuracy: 0.9696 - val_loss: 2.1078 - val_sparse_categorical_accuracy: 0.6296\n",
      "Epoch 84/400\n",
      "31/31 [==============================] - 1s 35ms/step - loss: 0.0879 - sparse_categorical_accuracy: 0.9665 - val_loss: 2.2420 - val_sparse_categorical_accuracy: 0.6255\n",
      "Epoch 85/400\n",
      "31/31 [==============================] - 1s 33ms/step - loss: 0.0941 - sparse_categorical_accuracy: 0.9686 - val_loss: 2.2037 - val_sparse_categorical_accuracy: 0.6070\n",
      "Epoch 86/400\n",
      "31/31 [==============================] - 1s 33ms/step - loss: 0.1358 - sparse_categorical_accuracy: 0.9552 - val_loss: 2.1746 - val_sparse_categorical_accuracy: 0.6193\n",
      "Epoch 87/400\n",
      "31/31 [==============================] - 1s 33ms/step - loss: 0.1447 - sparse_categorical_accuracy: 0.9547 - val_loss: 2.1538 - val_sparse_categorical_accuracy: 0.6132\n",
      "Epoch 88/400\n",
      "31/31 [==============================] - 1s 33ms/step - loss: 0.2370 - sparse_categorical_accuracy: 0.9249 - val_loss: 2.0263 - val_sparse_categorical_accuracy: 0.6214\n",
      "Epoch 89/400\n",
      "31/31 [==============================] - 1s 32ms/step - loss: 0.1693 - sparse_categorical_accuracy: 0.9444 - val_loss: 2.0514 - val_sparse_categorical_accuracy: 0.6111\n",
      "Epoch 90/400\n",
      "31/31 [==============================] - 1s 32ms/step - loss: 0.1075 - sparse_categorical_accuracy: 0.9640 - val_loss: 2.0483 - val_sparse_categorical_accuracy: 0.6132\n",
      "Epoch 91/400\n",
      "31/31 [==============================] - 1s 33ms/step - loss: 0.1303 - sparse_categorical_accuracy: 0.9604 - val_loss: 1.9634 - val_sparse_categorical_accuracy: 0.6337\n",
      "Epoch 92/400\n",
      "31/31 [==============================] - 1s 38ms/step - loss: 0.0763 - sparse_categorical_accuracy: 0.9763 - val_loss: 1.9713 - val_sparse_categorical_accuracy: 0.6379\n",
      "Epoch 93/400\n",
      "31/31 [==============================] - 1s 41ms/step - loss: 0.0801 - sparse_categorical_accuracy: 0.9707 - val_loss: 2.0766 - val_sparse_categorical_accuracy: 0.6584\n",
      "Epoch 94/400\n",
      "31/31 [==============================] - 1s 43ms/step - loss: 0.0937 - sparse_categorical_accuracy: 0.9753 - val_loss: 2.1254 - val_sparse_categorical_accuracy: 0.6440\n",
      "Epoch 95/400\n",
      "31/31 [==============================] - 1s 38ms/step - loss: 0.0859 - sparse_categorical_accuracy: 0.9717 - val_loss: 2.1294 - val_sparse_categorical_accuracy: 0.6317\n",
      "Epoch 96/400\n",
      "31/31 [==============================] - 1s 33ms/step - loss: 0.1248 - sparse_categorical_accuracy: 0.9609 - val_loss: 2.0955 - val_sparse_categorical_accuracy: 0.6193\n",
      "Epoch 97/400\n",
      "31/31 [==============================] - 1s 32ms/step - loss: 0.1589 - sparse_categorical_accuracy: 0.9485 - val_loss: 1.9459 - val_sparse_categorical_accuracy: 0.6296\n",
      "Epoch 98/400\n",
      "31/31 [==============================] - 1s 33ms/step - loss: 0.1664 - sparse_categorical_accuracy: 0.9485 - val_loss: 1.9929 - val_sparse_categorical_accuracy: 0.6276\n",
      "Epoch 99/400\n",
      "31/31 [==============================] - 1s 33ms/step - loss: 0.1344 - sparse_categorical_accuracy: 0.9578 - val_loss: 2.0057 - val_sparse_categorical_accuracy: 0.6214\n",
      "Epoch 100/400\n",
      "31/31 [==============================] - 1s 33ms/step - loss: 0.0981 - sparse_categorical_accuracy: 0.9671 - val_loss: 2.1772 - val_sparse_categorical_accuracy: 0.6296\n",
      "Epoch 101/400\n",
      "31/31 [==============================] - 1s 33ms/step - loss: 0.0825 - sparse_categorical_accuracy: 0.9748 - val_loss: 2.1731 - val_sparse_categorical_accuracy: 0.6317\n",
      "Epoch 102/400\n",
      "31/31 [==============================] - 1s 32ms/step - loss: 0.0835 - sparse_categorical_accuracy: 0.9743 - val_loss: 2.0973 - val_sparse_categorical_accuracy: 0.6152\n",
      "Epoch 103/400\n",
      "31/31 [==============================] - 1s 34ms/step - loss: 0.0586 - sparse_categorical_accuracy: 0.9784 - val_loss: 2.0766 - val_sparse_categorical_accuracy: 0.6461\n",
      "Epoch 104/400\n",
      "31/31 [==============================] - 1s 32ms/step - loss: 0.0533 - sparse_categorical_accuracy: 0.9815 - val_loss: 2.1972 - val_sparse_categorical_accuracy: 0.6379\n",
      "Epoch 105/400\n",
      "31/31 [==============================] - 1s 32ms/step - loss: 0.0609 - sparse_categorical_accuracy: 0.9820 - val_loss: 2.2391 - val_sparse_categorical_accuracy: 0.6276\n",
      "Epoch 106/400\n",
      "31/31 [==============================] - 1s 34ms/step - loss: 0.0503 - sparse_categorical_accuracy: 0.9804 - val_loss: 2.3240 - val_sparse_categorical_accuracy: 0.5967\n"
     ]
    }
   ]
  },
  {
   "cell_type": "code",
   "source": [
    "np.bincount(y_train)"
   ],
   "metadata": {
    "id": "_aeB2dt5vOfy"
   },
   "execution_count": null,
   "outputs": []
  },
  {
   "cell_type": "markdown",
   "source": [
    "# Evaluation"
   ],
   "metadata": {
    "id": "tRHRIHV6-1ds"
   }
  },
  {
   "cell_type": "code",
   "execution_count": null,
   "outputs": [],
   "source": [
    "from sklearn.metrics import ConfusionMatrixDisplay\n",
    "from sklearn.metrics import confusion_matrix, f1_score, accuracy_score\n",
    "import matplotlib.pyplot as plt\n",
    "import numpy as np\n",
    "import os\n",
    "import random"
   ],
   "metadata": {
    "id": "0BXRkHcQwuHK"
   }
  },
  {
   "cell_type": "code",
   "source": [
    "def show_confusion(model, validation_dataset):\n",
    "  Y_pred = model.predict(validation_dataset)\n",
    "  y_pred = np.argmax(Y_pred, axis=1)\n",
    "  y_test= np.concatenate([y for x, y in validation_dataset], axis=0)\n",
    "\n",
    "  cm = confusion_matrix(y_test, y_pred)\n",
    "\n",
    "  disp = ConfusionMatrixDisplay(confusion_matrix=cm)\n",
    "\n",
    "  disp.plot(cmap=plt.cm.Blues)\n",
    "  plt.show()\n",
    "\n",
    "  f1_scores = f1_score(y_test, y_pred, average=None)\n",
    "  mean_f1 = np.mean(f1_scores)\n",
    "\n",
    "  print(f\"\\nF1 scores: {f1_scores}\")\n",
    "  print(f\"\\nMean F1 : {mean_f1}\")\n",
    "  print(f\"\\nAccuracy : {accuracy_score(y_test, y_pred)}\")"
   ],
   "metadata": {
    "id": "v7ppEj9J7MRc"
   },
   "execution_count": null,
   "outputs": []
  },
  {
   "cell_type": "code",
   "source": [
    "show_confusion(model, test_dataset)"
   ],
   "metadata": {
    "colab": {
     "base_uri": "https://localhost:8080/",
     "height": 427
    },
    "id": "Z9Y-3YJv7iUO",
    "outputId": "058f101f-7c67-4ce7-ef2f-c3e48ff3d01f"
   },
   "execution_count": null,
   "outputs": [
    {
     "output_type": "stream",
     "name": "stdout",
     "text": [
      "8/8 [==============================] - 2s 9ms/step\n"
     ]
    },
    {
     "output_type": "display_data",
     "data": {
      "text/plain": [
       "<Figure size 432x288 with 2 Axes>"
      ],
      "image/png": "[encoded data removed]"
     },
     "metadata": {
      "needs_background": "light"
     }
    },
    {
     "output_type": "stream",
     "name": "stdout",
     "text": [
      "\n",
      "F1 scores: [0.         0.48       0.44444444 0.19230769 0.         0.05714286\n",
      " 0.3697479  0.         0.57692308 0.57206208 0.74285714 0.        ]\n",
      "\n",
      "Mean F1 : 0.286290433091007\n",
      "\n",
      "Accuracy : 0.4567901234567901\n"
     ]
    }
   ]
  },
  {
   "cell_type": "code",
   "source": [
    "import matplotlib.pyplot as plt\n"
   ],
   "metadata": {
    "id": "4Ug8HB6kyS2l"
   },
   "execution_count": null,
   "outputs": []
  },
  {
   "cell_type": "code",
   "source": [
    "metric = \"sparse_categorical_accuracy\"\n",
    "plt.figure()\n",
    "plt.plot(history[metric])\n",
    "plt.plot(history[\"val_\" + metric])\n",
    "plt.title(\"model \" + metric)\n",
    "plt.ylabel(metric, fontsize=\"large\")\n",
    "plt.xlabel(\"epoch\", fontsize=\"large\")\n",
    "plt.legend([\"train\", \"val\"], loc=\"best\")\n",
    "plt.show()\n",
    "plt.close()"
   ],
   "metadata": {
    "colab": {
     "base_uri": "https://localhost:8080/",
     "height": 298
    },
    "id": "LS7Bp_RRyQFE",
    "outputId": "5e9fbbd9-caae-4dd3-aa0a-012fa8d32acc"
   },
   "execution_count": null,
   "outputs": [
    {
     "output_type": "display_data",
     "data": {
      "text/plain": [
       "<Figure size 432x288 with 1 Axes>"
      ],
      "image/png": "[encoded data removed]"
     },
     "metadata": {
      "needs_background": "light"
     }
    }
   ]
  },
  {
   "cell_type": "code",
   "source": [
    "metric = \"loss\"\n",
    "plt.figure()\n",
    "plt.plot(history[metric])\n",
    "plt.plot(history[\"val_\" + metric])\n",
    "plt.title(\"model \" + metric)\n",
    "plt.ylabel(metric, fontsize=\"large\")\n",
    "plt.xlabel(\"epoch\", fontsize=\"large\")\n",
    "plt.legend([\"train\", \"val\"], loc=\"best\")\n",
    "plt.show()\n",
    "plt.close()"
   ],
   "metadata": {
    "colab": {
     "base_uri": "https://localhost:8080/",
     "height": 298
    },
    "id": "aUlsiHx0ykYy",
    "outputId": "4ffd8d9c-4e92-41d6-d59b-029e5013f4a7"
   },
   "execution_count": null,
   "outputs": [
    {
     "output_type": "display_data",
     "data": {
      "text/plain": [
       "<Figure size 432x288 with 1 Axes>"
      ],
      "image/png": "[encoded data removed]"
     },
     "metadata": {
      "needs_background": "light"
     }
    }
   ]
  },
  {
   "cell_type": "code",
   "source": [
    "name = \"./gdrive/MyDrive/ann_dataset/modelss/M0709\"\n",
    "model.save(name)"
   ],
   "metadata": {
    "colab": {
     "base_uri": "https://localhost:8080/"
    },
    "id": "CX1SzRk2M407",
    "outputId": "7604b102-2b78-4439-b551-c251a054c3b8"
   },
   "execution_count": null,
   "outputs": [
    {
     "output_type": "stream",
     "name": "stderr",
     "text": [
      "WARNING:absl:Found untraced functions such as lstm_cell_1_layer_call_fn, lstm_cell_1_layer_call_and_return_conditional_losses, lstm_cell_2_layer_call_fn, lstm_cell_2_layer_call_and_return_conditional_losses, lstm_cell_4_layer_call_fn while saving (showing 5 of 12). These functions will not be directly callable after loading.\n"
     ]
    }
   ]
  },
  {
   "cell_type": "code",
   "source": [
    "\"\"\"with open(\"./scaler.p\", \"wb\") as f:\n",
    "  pickle.dump(scaler,f)\n",
    "!zip -r ./gdrive/MyDrive/ann_dataset/HW2/scaler.zip ./scaler.p\"\"\""
   ],
   "metadata": {
    "colab": {
     "base_uri": "https://localhost:8080/"
    },
    "id": "D7PVBUlq58HE",
    "outputId": "beaaeb5a-a29d-47b8-8212-17741d086878"
   },
   "execution_count": null,
   "outputs": [
    {
     "output_type": "stream",
     "name": "stdout",
     "text": [
      "  adding: scaler.p (deflated 23%)\n"
     ]
    }
   ]
  },
  {
   "cell_type": "markdown",
   "source": [
    "# Adaboost trial\n",
    "here we tried to use scikit learn ada boost implementation but the compatibility from version 2.5 of tensorflow is not guaranteed and we could not solve in reasonable time the compatibility issues"
   ],
   "metadata": {
    "id": "lqSI87RwH3tH"
   }
  },
  {
   "cell_type": "code",
   "source": [
    "def wrapper_boost(model):\n",
    "  model.compile(\n",
    "    optimizer=\"adam\",\n",
    "    loss=\"sparse_categorical_crossentropy\",\n",
    "    metrics=[\"sparse_categorical_accuracy\"],\n",
    "  )\n",
    "  return model\n"
   ],
   "metadata": {
    "id": "AV_3a3Tv_mix"
   },
   "execution_count": null,
   "outputs": []
  },
  {
   "cell_type": "code",
   "source": [
    "from keras.wrappers.scikit_learn import KerasClassifier\n",
    "from sklearn.ensemble import AdaBoostRegressor\n",
    "from sklearn.ensemble import AdaBoostClassifier"
   ],
   "metadata": {
    "id": "Of2DLMw0BBu1"
   },
   "execution_count": null,
   "outputs": []
  },
  {
   "cell_type": "code",
   "source": [
    "class MyKerasClassifier(KerasClassifier):\n",
    "    def fit(self, x, y, sample_weight=None, **kwargs):\n",
    "      y = np.array(y)\n",
    "      if len(y.shape) == 2 and y.shape[1] > 1:\n",
    "          self.classes_ = np.arange(y.shape[1])\n",
    "      elif (len(y.shape) == 2 and y.shape[1] == 1) or len(y.shape) == 1:\n",
    "          self.classes_ = np.unique(y)\n",
    "          y = np.searchsorted(self.classes_, y)\n",
    "      else:\n",
    "          raise ValueError('Invalid shape for y: ' + str(y.shape))\n",
    "      self.n_classes_ = len(self.classes_)\n",
    "      if sample_weight is not None:\n",
    "          kwargs['sample_weight'] = sample_weight\n",
    "          print(type(sample_weight))\n",
    "      return super(MyKerasClassifier, self).fit(x, y, **kwargs)\n",
    "    #return super(KerasClassifier, self).fit(x, y, sample_weight=sample_weight)\n",
    "    def predict(self, x, **kwargs):\n",
    "      kwargs = self.filter_sk_params(Sequential.predict_classes, kwargs)\n",
    "      classes = self.model.predict_classes(x, **kwargs)\n",
    "      return self.classes_[classes].flatten()\n",
    "      #return super(KerasClassifier, self).fit(x, y, sample_weight=sample_weight)"
   ],
   "metadata": {
    "id": "B_vUzoFQClhL"
   },
   "execution_count": null,
   "outputs": []
  },
  {
   "cell_type": "code",
   "source": [
    "ann_estimator = KerasRegressor(build_fn= wrapper_boost(build_LSTM_classifier(input_shape=x_train.shape[1:])), epochs=100, batch_size=10, verbose=0)"
   ],
   "metadata": {
    "colab": {
     "base_uri": "https://localhost:8080/"
    },
    "id": "dABIMGmv_d5g",
    "outputId": "910d6ee4-7fed-4d46-88e3-087805330475"
   },
   "execution_count": null,
   "outputs": [
    {
     "output_type": "stream",
     "name": "stderr",
     "text": [
      "<ipython-input-154-bdc2e53dcd43>:1: DeprecationWarning: KerasRegressor is deprecated, use Sci-Keras (https://github.com/adriangb/scikeras) instead. See https://www.adriangb.com/scikeras/stable/migration.html for help migrating.\n",
      "  ann_estimator = KerasRegressor(build_fn= wrapper_boost(build_LSTM_classifier(input_shape=x_train.shape[1:])), epochs=100, batch_size=10, verbose=0)\n"
     ]
    }
   ]
  },
  {
   "cell_type": "code",
   "source": [
    "boosted_ann = AdaBoostRegressor(base_estimator= ann_estimator)\n",
    "boosted_ann.fit(x_train_norm, y_train_norm)# scale your training data "
   ],
   "metadata": {
    "colab": {
     "base_uri": "https://localhost:8080/",
     "height": 400
    },
    "id": "Jy9RKEQh_h1s",
    "outputId": "d3a887b6-63bf-44bd-95cc-fd5ef2816e16"
   },
   "execution_count": null,
   "outputs": [
    {
     "output_type": "stream",
     "name": "stderr",
     "text": [
      "WARNING:absl:Function `_wrapped_model` contains input name(s) Input with unsupported characters which will be renamed to input in the SavedModel.\n",
      "WARNING:absl:Found untraced functions such as lstm_cell_36_layer_call_fn, lstm_cell_36_layer_call_and_return_conditional_losses, lstm_cell_37_layer_call_fn, lstm_cell_37_layer_call_and_return_conditional_losses while saving (showing 4 of 4). These functions will not be directly callable after loading.\n"
     ]
    },
    {
     "output_type": "error",
     "ename": "ValueError",
     "evalue": "ignored",
     "traceback": [
      "\u001B[0;31m---------------------------------------------------------------------------\u001B[0m",
      "\u001B[0;31mValueError\u001B[0m                                Traceback (most recent call last)",
      "\u001B[0;32m<ipython-input-158-b9df99fcb82d>\u001B[0m in \u001B[0;36m<module>\u001B[0;34m\u001B[0m\n\u001B[1;32m      1\u001B[0m \u001B[0mboosted_ann\u001B[0m \u001B[0;34m=\u001B[0m \u001B[0mAdaBoostRegressor\u001B[0m\u001B[0;34m(\u001B[0m\u001B[0mbase_estimator\u001B[0m\u001B[0;34m=\u001B[0m \u001B[0mann_estimator\u001B[0m\u001B[0;34m)\u001B[0m\u001B[0;34m\u001B[0m\u001B[0;34m\u001B[0m\u001B[0m\n\u001B[0;32m----> 2\u001B[0;31m \u001B[0mboosted_ann\u001B[0m\u001B[0;34m.\u001B[0m\u001B[0mfit\u001B[0m\u001B[0;34m(\u001B[0m\u001B[0mx_train_norm\u001B[0m\u001B[0;34m,\u001B[0m \u001B[0my_train_norm\u001B[0m\u001B[0;34m)\u001B[0m\u001B[0;31m# scale your training data\u001B[0m\u001B[0;34m\u001B[0m\u001B[0;34m\u001B[0m\u001B[0m\n\u001B[0m",
      "\u001B[0;32m/usr/local/lib/python3.8/dist-packages/sklearn/ensemble/_weight_boosting.py\u001B[0m in \u001B[0;36mfit\u001B[0;34m(self, X, y, sample_weight)\u001B[0m\n\u001B[1;32m   1063\u001B[0m \u001B[0;34m\u001B[0m\u001B[0m\n\u001B[1;32m   1064\u001B[0m         \u001B[0;31m# Fit\u001B[0m\u001B[0;34m\u001B[0m\u001B[0;34m\u001B[0m\u001B[0;34m\u001B[0m\u001B[0m\n\u001B[0;32m-> 1065\u001B[0;31m         \u001B[0;32mreturn\u001B[0m \u001B[0msuper\u001B[0m\u001B[0;34m(\u001B[0m\u001B[0;34m)\u001B[0m\u001B[0;34m.\u001B[0m\u001B[0mfit\u001B[0m\u001B[0;34m(\u001B[0m\u001B[0mX\u001B[0m\u001B[0;34m,\u001B[0m \u001B[0my\u001B[0m\u001B[0;34m,\u001B[0m \u001B[0msample_weight\u001B[0m\u001B[0;34m)\u001B[0m\u001B[0;34m\u001B[0m\u001B[0;34m\u001B[0m\u001B[0m\n\u001B[0m\u001B[1;32m   1066\u001B[0m \u001B[0;34m\u001B[0m\u001B[0m\n\u001B[1;32m   1067\u001B[0m     \u001B[0;32mdef\u001B[0m \u001B[0m_validate_estimator\u001B[0m\u001B[0;34m(\u001B[0m\u001B[0mself\u001B[0m\u001B[0;34m)\u001B[0m\u001B[0;34m:\u001B[0m\u001B[0;34m\u001B[0m\u001B[0;34m\u001B[0m\u001B[0m\n",
      "\u001B[0;32m/usr/local/lib/python3.8/dist-packages/sklearn/ensemble/_weight_boosting.py\u001B[0m in \u001B[0;36mfit\u001B[0;34m(self, X, y, sample_weight)\u001B[0m\n\u001B[1;32m    143\u001B[0m         \u001B[0;32mfor\u001B[0m \u001B[0miboost\u001B[0m \u001B[0;32min\u001B[0m \u001B[0mrange\u001B[0m\u001B[0;34m(\u001B[0m\u001B[0mself\u001B[0m\u001B[0;34m.\u001B[0m\u001B[0mn_estimators\u001B[0m\u001B[0;34m)\u001B[0m\u001B[0;34m:\u001B[0m\u001B[0;34m\u001B[0m\u001B[0;34m\u001B[0m\u001B[0m\n\u001B[1;32m    144\u001B[0m             \u001B[0;31m# Boosting step\u001B[0m\u001B[0;34m\u001B[0m\u001B[0;34m\u001B[0m\u001B[0;34m\u001B[0m\u001B[0m\n\u001B[0;32m--> 145\u001B[0;31m             sample_weight, estimator_weight, estimator_error = self._boost(\n\u001B[0m\u001B[1;32m    146\u001B[0m                 \u001B[0miboost\u001B[0m\u001B[0;34m,\u001B[0m \u001B[0mX\u001B[0m\u001B[0;34m,\u001B[0m \u001B[0my\u001B[0m\u001B[0;34m,\u001B[0m \u001B[0msample_weight\u001B[0m\u001B[0;34m,\u001B[0m \u001B[0mrandom_state\u001B[0m\u001B[0;34m\u001B[0m\u001B[0;34m\u001B[0m\u001B[0m\n\u001B[1;32m    147\u001B[0m             )\n",
      "\u001B[0;32m/usr/local/lib/python3.8/dist-packages/sklearn/ensemble/_weight_boosting.py\u001B[0m in \u001B[0;36m_boost\u001B[0;34m(self, iboost, X, y, sample_weight, random_state)\u001B[0m\n\u001B[1;32m   1125\u001B[0m         \u001B[0mX_\u001B[0m \u001B[0;34m=\u001B[0m \u001B[0m_safe_indexing\u001B[0m\u001B[0;34m(\u001B[0m\u001B[0mX\u001B[0m\u001B[0;34m,\u001B[0m \u001B[0mbootstrap_idx\u001B[0m\u001B[0;34m)\u001B[0m\u001B[0;34m\u001B[0m\u001B[0;34m\u001B[0m\u001B[0m\n\u001B[1;32m   1126\u001B[0m         \u001B[0my_\u001B[0m \u001B[0;34m=\u001B[0m \u001B[0m_safe_indexing\u001B[0m\u001B[0;34m(\u001B[0m\u001B[0my\u001B[0m\u001B[0;34m,\u001B[0m \u001B[0mbootstrap_idx\u001B[0m\u001B[0;34m)\u001B[0m\u001B[0;34m\u001B[0m\u001B[0;34m\u001B[0m\u001B[0m\n\u001B[0;32m-> 1127\u001B[0;31m         \u001B[0mestimator\u001B[0m\u001B[0;34m.\u001B[0m\u001B[0mfit\u001B[0m\u001B[0;34m(\u001B[0m\u001B[0mX_\u001B[0m\u001B[0;34m,\u001B[0m \u001B[0my_\u001B[0m\u001B[0;34m)\u001B[0m\u001B[0;34m\u001B[0m\u001B[0;34m\u001B[0m\u001B[0m\n\u001B[0m\u001B[1;32m   1128\u001B[0m         \u001B[0my_predict\u001B[0m \u001B[0;34m=\u001B[0m \u001B[0mestimator\u001B[0m\u001B[0;34m.\u001B[0m\u001B[0mpredict\u001B[0m\u001B[0;34m(\u001B[0m\u001B[0mX\u001B[0m\u001B[0;34m)\u001B[0m\u001B[0;34m\u001B[0m\u001B[0;34m\u001B[0m\u001B[0m\n\u001B[1;32m   1129\u001B[0m \u001B[0;34m\u001B[0m\u001B[0m\n",
      "\u001B[0;32m/usr/local/lib/python3.8/dist-packages/keras/wrappers/scikit_learn.py\u001B[0m in \u001B[0;36mfit\u001B[0;34m(self, x, y, **kwargs)\u001B[0m\n\u001B[1;32m    150\u001B[0m     elif (not isinstance(self.build_fn, types.FunctionType) and\n\u001B[1;32m    151\u001B[0m           not isinstance(self.build_fn, types.MethodType)):\n\u001B[0;32m--> 152\u001B[0;31m       self.model = self.build_fn(\n\u001B[0m\u001B[1;32m    153\u001B[0m           **self.filter_sk_params(self.build_fn.__call__))\n\u001B[1;32m    154\u001B[0m     \u001B[0;32melse\u001B[0m\u001B[0;34m:\u001B[0m\u001B[0;34m\u001B[0m\u001B[0;34m\u001B[0m\u001B[0m\n",
      "\u001B[0;32m/usr/local/lib/python3.8/dist-packages/keras/utils/traceback_utils.py\u001B[0m in \u001B[0;36merror_handler\u001B[0;34m(*args, **kwargs)\u001B[0m\n\u001B[1;32m     65\u001B[0m     \u001B[0;32mexcept\u001B[0m \u001B[0mException\u001B[0m \u001B[0;32mas\u001B[0m \u001B[0me\u001B[0m\u001B[0;34m:\u001B[0m  \u001B[0;31m# pylint: disable=broad-except\u001B[0m\u001B[0;34m\u001B[0m\u001B[0;34m\u001B[0m\u001B[0m\n\u001B[1;32m     66\u001B[0m       \u001B[0mfiltered_tb\u001B[0m \u001B[0;34m=\u001B[0m \u001B[0m_process_traceback_frames\u001B[0m\u001B[0;34m(\u001B[0m\u001B[0me\u001B[0m\u001B[0;34m.\u001B[0m\u001B[0m__traceback__\u001B[0m\u001B[0;34m)\u001B[0m\u001B[0;34m\u001B[0m\u001B[0;34m\u001B[0m\u001B[0m\n\u001B[0;32m---> 67\u001B[0;31m       \u001B[0;32mraise\u001B[0m \u001B[0me\u001B[0m\u001B[0;34m.\u001B[0m\u001B[0mwith_traceback\u001B[0m\u001B[0;34m(\u001B[0m\u001B[0mfiltered_tb\u001B[0m\u001B[0;34m)\u001B[0m \u001B[0;32mfrom\u001B[0m \u001B[0;32mNone\u001B[0m\u001B[0;34m\u001B[0m\u001B[0;34m\u001B[0m\u001B[0m\n\u001B[0m\u001B[1;32m     68\u001B[0m     \u001B[0;32mfinally\u001B[0m\u001B[0;34m:\u001B[0m\u001B[0;34m\u001B[0m\u001B[0;34m\u001B[0m\u001B[0m\n\u001B[1;32m     69\u001B[0m       \u001B[0;32mdel\u001B[0m \u001B[0mfiltered_tb\u001B[0m\u001B[0;34m\u001B[0m\u001B[0;34m\u001B[0m\u001B[0m\n",
      "\u001B[0;32m/usr/local/lib/python3.8/dist-packages/keras/engine/base_layer.py\u001B[0m in \u001B[0;36m_split_out_first_arg\u001B[0;34m(self, args, kwargs)\u001B[0m\n\u001B[1;32m   3098\u001B[0m       \u001B[0minputs\u001B[0m \u001B[0;34m=\u001B[0m \u001B[0mkwargs\u001B[0m\u001B[0;34m.\u001B[0m\u001B[0mpop\u001B[0m\u001B[0;34m(\u001B[0m\u001B[0mself\u001B[0m\u001B[0;34m.\u001B[0m\u001B[0m_call_fn_args\u001B[0m\u001B[0;34m[\u001B[0m\u001B[0;36m0\u001B[0m\u001B[0;34m]\u001B[0m\u001B[0;34m)\u001B[0m\u001B[0;34m\u001B[0m\u001B[0;34m\u001B[0m\u001B[0m\n\u001B[1;32m   3099\u001B[0m     \u001B[0;32melse\u001B[0m\u001B[0;34m:\u001B[0m\u001B[0;34m\u001B[0m\u001B[0;34m\u001B[0m\u001B[0m\n\u001B[0;32m-> 3100\u001B[0;31m       raise ValueError(\n\u001B[0m\u001B[1;32m   3101\u001B[0m           'The first argument to `Layer.call` must always be passed.')\n\u001B[1;32m   3102\u001B[0m     \u001B[0;32mreturn\u001B[0m \u001B[0minputs\u001B[0m\u001B[0;34m,\u001B[0m \u001B[0margs\u001B[0m\u001B[0;34m,\u001B[0m \u001B[0mkwargs\u001B[0m\u001B[0;34m\u001B[0m\u001B[0;34m\u001B[0m\u001B[0m\n",
      "\u001B[0;31mValueError\u001B[0m: The first argument to `Layer.call` must always be passed."
     ]
    }
   ]
  },
  {
   "cell_type": "code",
   "source": [
    "boosted_ann.predict(test_dataset)"
   ],
   "metadata": {
    "id": "C_FYMYhvB0sa"
   },
   "execution_count": null,
   "outputs": []
  },
  {
   "cell_type": "code",
   "source": [
    "!pip install tensorflow==2.5"
   ],
   "metadata": {
    "colab": {
     "base_uri": "https://localhost:8080/",
     "height": 1000
    },
    "id": "dcEIHwb2G-_N",
    "outputId": "bc08f998-99cd-4cb3-ffe2-13e671bf5344"
   },
   "execution_count": null,
   "outputs": [
    {
     "output_type": "stream",
     "name": "stdout",
     "text": [
      "Looking in indexes: https://pypi.org/simple, https://us-python.pkg.dev/colab-wheels/public/simple/\n",
      "Collecting tensorflow==2.5\n",
      "  Downloading tensorflow-2.5.0-cp38-cp38-manylinux2010_x86_64.whl (454.4 MB)\n",
      "\u001B[K     |████████████████████████████████| 454.4 MB 36 kB/s \n",
      "\u001B[?25hCollecting termcolor~=1.1.0\n",
      "  Downloading termcolor-1.1.0.tar.gz (3.9 kB)\n",
      "Collecting numpy~=1.19.2\n",
      "  Downloading numpy-1.19.5-cp38-cp38-manylinux2010_x86_64.whl (14.9 MB)\n",
      "\u001B[K     |████████████████████████████████| 14.9 MB 59.4 MB/s \n",
      "\u001B[?25hRequirement already satisfied: tensorboard~=2.5 in /usr/local/lib/python3.8/dist-packages (from tensorflow==2.5) (2.9.1)\n",
      "Requirement already satisfied: h5py~=3.1.0 in /usr/local/lib/python3.8/dist-packages (from tensorflow==2.5) (3.1.0)\n",
      "Requirement already satisfied: opt-einsum~=3.3.0 in /usr/local/lib/python3.8/dist-packages (from tensorflow==2.5) (3.3.0)\n",
      "Requirement already satisfied: keras-preprocessing~=1.1.2 in /usr/local/lib/python3.8/dist-packages (from tensorflow==2.5) (1.1.2)\n",
      "Collecting absl-py~=0.10\n",
      "  Downloading absl_py-0.15.0-py3-none-any.whl (132 kB)\n",
      "\u001B[K     |████████████████████████████████| 132 kB 66.6 MB/s \n",
      "\u001B[?25hCollecting grpcio~=1.34.0\n",
      "  Downloading grpcio-1.34.1-cp38-cp38-manylinux2014_x86_64.whl (4.0 MB)\n",
      "\u001B[K     |████████████████████████████████| 4.0 MB 48.9 MB/s \n",
      "\u001B[?25hRequirement already satisfied: protobuf>=3.9.2 in /usr/local/lib/python3.8/dist-packages (from tensorflow==2.5) (3.19.6)\n",
      "Requirement already satisfied: google-pasta~=0.2 in /usr/local/lib/python3.8/dist-packages (from tensorflow==2.5) (0.2.0)\n",
      "Requirement already satisfied: wheel~=0.35 in /usr/local/lib/python3.8/dist-packages (from tensorflow==2.5) (0.38.4)\n",
      "Collecting tensorflow-estimator<2.6.0,>=2.5.0rc0\n",
      "  Downloading tensorflow_estimator-2.5.0-py2.py3-none-any.whl (462 kB)\n",
      "\u001B[K     |████████████████████████████████| 462 kB 58.5 MB/s \n",
      "\u001B[?25hRequirement already satisfied: gast==0.4.0 in /usr/local/lib/python3.8/dist-packages (from tensorflow==2.5) (0.4.0)\n",
      "Requirement already satisfied: astunparse~=1.6.3 in /usr/local/lib/python3.8/dist-packages (from tensorflow==2.5) (1.6.3)\n",
      "Collecting wrapt~=1.12.1\n",
      "  Downloading wrapt-1.12.1.tar.gz (27 kB)\n",
      "Requirement already satisfied: six~=1.15.0 in /usr/local/lib/python3.8/dist-packages (from tensorflow==2.5) (1.15.0)\n",
      "Collecting typing-extensions~=3.7.4\n",
      "  Downloading typing_extensions-3.7.4.3-py3-none-any.whl (22 kB)\n",
      "Requirement already satisfied: flatbuffers~=1.12.0 in /usr/local/lib/python3.8/dist-packages (from tensorflow==2.5) (1.12)\n",
      "Collecting keras-nightly~=2.5.0.dev\n",
      "  Downloading keras_nightly-2.5.0.dev2021032900-py2.py3-none-any.whl (1.2 MB)\n",
      "\u001B[K     |████████████████████████████████| 1.2 MB 51.9 MB/s \n",
      "\u001B[?25hRequirement already satisfied: tensorboard-plugin-wit>=1.6.0 in /usr/local/lib/python3.8/dist-packages (from tensorboard~=2.5->tensorflow==2.5) (1.8.1)\n",
      "Requirement already satisfied: google-auth-oauthlib<0.5,>=0.4.1 in /usr/local/lib/python3.8/dist-packages (from tensorboard~=2.5->tensorflow==2.5) (0.4.6)\n",
      "Requirement already satisfied: markdown>=2.6.8 in /usr/local/lib/python3.8/dist-packages (from tensorboard~=2.5->tensorflow==2.5) (3.4.1)\n",
      "Requirement already satisfied: setuptools>=41.0.0 in /usr/local/lib/python3.8/dist-packages (from tensorboard~=2.5->tensorflow==2.5) (57.4.0)\n",
      "Requirement already satisfied: tensorboard-data-server<0.7.0,>=0.6.0 in /usr/local/lib/python3.8/dist-packages (from tensorboard~=2.5->tensorflow==2.5) (0.6.1)\n",
      "Requirement already satisfied: werkzeug>=1.0.1 in /usr/local/lib/python3.8/dist-packages (from tensorboard~=2.5->tensorflow==2.5) (1.0.1)\n",
      "Requirement already satisfied: google-auth<3,>=1.6.3 in /usr/local/lib/python3.8/dist-packages (from tensorboard~=2.5->tensorflow==2.5) (2.15.0)\n",
      "Requirement already satisfied: requests<3,>=2.21.0 in /usr/local/lib/python3.8/dist-packages (from tensorboard~=2.5->tensorflow==2.5) (2.23.0)\n",
      "Requirement already satisfied: pyasn1-modules>=0.2.1 in /usr/local/lib/python3.8/dist-packages (from google-auth<3,>=1.6.3->tensorboard~=2.5->tensorflow==2.5) (0.2.8)\n",
      "Requirement already satisfied: rsa<5,>=3.1.4 in /usr/local/lib/python3.8/dist-packages (from google-auth<3,>=1.6.3->tensorboard~=2.5->tensorflow==2.5) (4.9)\n",
      "Requirement already satisfied: cachetools<6.0,>=2.0.0 in /usr/local/lib/python3.8/dist-packages (from google-auth<3,>=1.6.3->tensorboard~=2.5->tensorflow==2.5) (5.2.0)\n",
      "Requirement already satisfied: requests-oauthlib>=0.7.0 in /usr/local/lib/python3.8/dist-packages (from google-auth-oauthlib<0.5,>=0.4.1->tensorboard~=2.5->tensorflow==2.5) (1.3.1)\n",
      "Requirement already satisfied: importlib-metadata>=4.4 in /usr/local/lib/python3.8/dist-packages (from markdown>=2.6.8->tensorboard~=2.5->tensorflow==2.5) (5.1.0)\n",
      "Requirement already satisfied: zipp>=0.5 in /usr/local/lib/python3.8/dist-packages (from importlib-metadata>=4.4->markdown>=2.6.8->tensorboard~=2.5->tensorflow==2.5) (3.11.0)\n",
      "Requirement already satisfied: pyasn1<0.5.0,>=0.4.6 in /usr/local/lib/python3.8/dist-packages (from pyasn1-modules>=0.2.1->google-auth<3,>=1.6.3->tensorboard~=2.5->tensorflow==2.5) (0.4.8)\n",
      "Requirement already satisfied: idna<3,>=2.5 in /usr/local/lib/python3.8/dist-packages (from requests<3,>=2.21.0->tensorboard~=2.5->tensorflow==2.5) (2.10)\n",
      "Requirement already satisfied: chardet<4,>=3.0.2 in /usr/local/lib/python3.8/dist-packages (from requests<3,>=2.21.0->tensorboard~=2.5->tensorflow==2.5) (3.0.4)\n",
      "Requirement already satisfied: certifi>=2017.4.17 in /usr/local/lib/python3.8/dist-packages (from requests<3,>=2.21.0->tensorboard~=2.5->tensorflow==2.5) (2022.12.7)\n",
      "Requirement already satisfied: urllib3!=1.25.0,!=1.25.1,<1.26,>=1.21.1 in /usr/local/lib/python3.8/dist-packages (from requests<3,>=2.21.0->tensorboard~=2.5->tensorflow==2.5) (1.24.3)\n",
      "Requirement already satisfied: oauthlib>=3.0.0 in /usr/local/lib/python3.8/dist-packages (from requests-oauthlib>=0.7.0->google-auth-oauthlib<0.5,>=0.4.1->tensorboard~=2.5->tensorflow==2.5) (3.2.2)\n",
      "Building wheels for collected packages: termcolor, wrapt\n",
      "  Building wheel for termcolor (setup.py) ... \u001B[?25l\u001B[?25hdone\n",
      "  Created wheel for termcolor: filename=termcolor-1.1.0-py3-none-any.whl size=4849 sha256=d9af5510b93359ff64cbf41cfd5fba8da00158720522275e04c2876249410c9e\n",
      "  Stored in directory: /root/.cache/pip/wheels/a0/16/9c/5473df82468f958445479c59e784896fa24f4a5fc024b0f501\n",
      "  Building wheel for wrapt (setup.py) ... \u001B[?25l\u001B[?25hdone\n",
      "  Created wheel for wrapt: filename=wrapt-1.12.1-cp38-cp38-linux_x86_64.whl size=72343 sha256=60c75a49b0efd67ed81997536e2761ddd5703c1469ae18b7bc77a43c70739ce3\n",
      "  Stored in directory: /root/.cache/pip/wheels/5f/fd/9e/b6cf5890494cb8ef0b5eaff72e5d55a70fb56316007d6dfe73\n",
      "Successfully built termcolor wrapt\n",
      "Installing collected packages: numpy, grpcio, absl-py, wrapt, typing-extensions, termcolor, tensorflow-estimator, keras-nightly, tensorflow\n",
      "  Attempting uninstall: numpy\n",
      "    Found existing installation: numpy 1.21.6\n",
      "    Uninstalling numpy-1.21.6:\n",
      "      Successfully uninstalled numpy-1.21.6\n",
      "  Attempting uninstall: grpcio\n",
      "    Found existing installation: grpcio 1.51.1\n",
      "    Uninstalling grpcio-1.51.1:\n",
      "      Successfully uninstalled grpcio-1.51.1\n",
      "  Attempting uninstall: absl-py\n",
      "    Found existing installation: absl-py 1.3.0\n",
      "    Uninstalling absl-py-1.3.0:\n",
      "      Successfully uninstalled absl-py-1.3.0\n",
      "  Attempting uninstall: wrapt\n",
      "    Found existing installation: wrapt 1.14.1\n",
      "    Uninstalling wrapt-1.14.1:\n",
      "      Successfully uninstalled wrapt-1.14.1\n",
      "  Attempting uninstall: typing-extensions\n",
      "    Found existing installation: typing-extensions 4.4.0\n",
      "    Uninstalling typing-extensions-4.4.0:\n",
      "      Successfully uninstalled typing-extensions-4.4.0\n",
      "  Attempting uninstall: termcolor\n",
      "    Found existing installation: termcolor 2.1.1\n",
      "    Uninstalling termcolor-2.1.1:\n",
      "      Successfully uninstalled termcolor-2.1.1\n",
      "  Attempting uninstall: tensorflow-estimator\n",
      "    Found existing installation: tensorflow-estimator 2.9.0\n",
      "    Uninstalling tensorflow-estimator-2.9.0:\n",
      "      Successfully uninstalled tensorflow-estimator-2.9.0\n",
      "  Attempting uninstall: tensorflow\n",
      "    Found existing installation: tensorflow 2.9.2\n",
      "    Uninstalling tensorflow-2.9.2:\n",
      "      Successfully uninstalled tensorflow-2.9.2\n",
      "\u001B[31mERROR: pip's dependency resolver does not currently take into account all the packages that are installed. This behaviour is the source of the following dependency conflicts.\n",
      "xarray 2022.12.0 requires numpy>=1.20, but you have numpy 1.19.5 which is incompatible.\n",
      "xarray-einstats 0.4.0 requires numpy>=1.20, but you have numpy 1.19.5 which is incompatible.\n",
      "pydantic 1.10.2 requires typing-extensions>=4.1.0, but you have typing-extensions 3.7.4.3 which is incompatible.\n",
      "jaxlib 0.3.25+cuda11.cudnn805 requires numpy>=1.20, but you have numpy 1.19.5 which is incompatible.\n",
      "jax 0.3.25 requires numpy>=1.20, but you have numpy 1.19.5 which is incompatible.\n",
      "grpcio-status 1.48.2 requires grpcio>=1.48.2, but you have grpcio 1.34.1 which is incompatible.\n",
      "google-cloud-bigquery 3.3.6 requires grpcio<2.0dev,>=1.47.0, but you have grpcio 1.34.1 which is incompatible.\n",
      "cupy-cuda11x 11.0.0 requires numpy<1.26,>=1.20, but you have numpy 1.19.5 which is incompatible.\n",
      "cmdstanpy 1.0.8 requires numpy>=1.21, but you have numpy 1.19.5 which is incompatible.\u001B[0m\n",
      "Successfully installed absl-py-0.15.0 grpcio-1.34.1 keras-nightly-2.5.0.dev2021032900 numpy-1.19.5 tensorflow-2.5.0 tensorflow-estimator-2.5.0 termcolor-1.1.0 typing-extensions-3.7.4.3 wrapt-1.12.1\n"
     ]
    },
    {
     "output_type": "display_data",
     "data": {
      "application/vnd.colab-display-data+json": {
       "pip_warning": {
        "packages": [
         "absl",
         "keras",
         "numpy",
         "tensorflow",
         "termcolor",
         "typing_extensions",
         "wrapt"
        ]
       }
      }
     },
     "metadata": {}
    }
   ]
  },
  {
   "cell_type": "code",
   "source": [
    "%tensorflow_version 2.5\n",
    "boosted_classifier = AdaBoostClassifier(\n",
    "    base_estimator=MyKerasClassifier(build_fn=build_LSTM_classifier, \n",
    "                                     epochs=5,\n",
    "                                     batch_size=32, \n",
    "                                     verbose=0),\n",
    "                                      n_estimators=2,\n",
    "                                      random_state=0,\n",
    "                                      algorithm=\"SAMME\")\n",
    "\n",
    "boosted_classifier.fit(x_train_norm,y_train_norm)"
   ],
   "metadata": {
    "colab": {
     "base_uri": "https://localhost:8080/",
     "height": 456
    },
    "id": "rbUz59CGC_P-",
    "outputId": "c2f2b638-cb10-4f64-cf77-a303eea6d96f"
   },
   "execution_count": null,
   "outputs": [
    {
     "output_type": "stream",
     "name": "stdout",
     "text": [
      "Colab only includes TensorFlow 2.x; %tensorflow_version has no effect.\n",
      "<class 'numpy.ndarray'>\n"
     ]
    },
    {
     "output_type": "stream",
     "name": "stderr",
     "text": [
      "<ipython-input-179-40833adcfede>:3: DeprecationWarning: KerasClassifier is deprecated, use Sci-Keras (https://github.com/adriangb/scikeras) instead. See https://www.adriangb.com/scikeras/stable/migration.html for help migrating.\n",
      "  base_estimator=MyKerasClassifier(build_fn=build_LSTM_classifier,\n"
     ]
    },
    {
     "output_type": "error",
     "ename": "AttributeError",
     "evalue": "ignored",
     "traceback": [
      "\u001B[0;31m---------------------------------------------------------------------------\u001B[0m",
      "\u001B[0;31mAttributeError\u001B[0m                            Traceback (most recent call last)",
      "\u001B[0;32m<ipython-input-179-40833adcfede>\u001B[0m in \u001B[0;36m<module>\u001B[0;34m\u001B[0m\n\u001B[1;32m      9\u001B[0m                                       algorithm=\"SAMME\")\n\u001B[1;32m     10\u001B[0m \u001B[0;34m\u001B[0m\u001B[0m\n\u001B[0;32m---> 11\u001B[0;31m \u001B[0mboosted_classifier\u001B[0m\u001B[0;34m.\u001B[0m\u001B[0mfit\u001B[0m\u001B[0;34m(\u001B[0m\u001B[0mx_train_norm\u001B[0m\u001B[0;34m,\u001B[0m\u001B[0my_train_norm\u001B[0m\u001B[0;34m)\u001B[0m\u001B[0;34m\u001B[0m\u001B[0;34m\u001B[0m\u001B[0m\n\u001B[0m",
      "\u001B[0;32m/usr/local/lib/python3.8/dist-packages/sklearn/ensemble/_weight_boosting.py\u001B[0m in \u001B[0;36mfit\u001B[0;34m(self, X, y, sample_weight)\u001B[0m\n\u001B[1;32m    484\u001B[0m \u001B[0;34m\u001B[0m\u001B[0m\n\u001B[1;32m    485\u001B[0m         \u001B[0;31m# Fit\u001B[0m\u001B[0;34m\u001B[0m\u001B[0;34m\u001B[0m\u001B[0;34m\u001B[0m\u001B[0m\n\u001B[0;32m--> 486\u001B[0;31m         \u001B[0;32mreturn\u001B[0m \u001B[0msuper\u001B[0m\u001B[0;34m(\u001B[0m\u001B[0;34m)\u001B[0m\u001B[0;34m.\u001B[0m\u001B[0mfit\u001B[0m\u001B[0;34m(\u001B[0m\u001B[0mX\u001B[0m\u001B[0;34m,\u001B[0m \u001B[0my\u001B[0m\u001B[0;34m,\u001B[0m \u001B[0msample_weight\u001B[0m\u001B[0;34m)\u001B[0m\u001B[0;34m\u001B[0m\u001B[0;34m\u001B[0m\u001B[0m\n\u001B[0m\u001B[1;32m    487\u001B[0m \u001B[0;34m\u001B[0m\u001B[0m\n\u001B[1;32m    488\u001B[0m     \u001B[0;32mdef\u001B[0m \u001B[0m_validate_estimator\u001B[0m\u001B[0;34m(\u001B[0m\u001B[0mself\u001B[0m\u001B[0;34m)\u001B[0m\u001B[0;34m:\u001B[0m\u001B[0;34m\u001B[0m\u001B[0;34m\u001B[0m\u001B[0m\n",
      "\u001B[0;32m/usr/local/lib/python3.8/dist-packages/sklearn/ensemble/_weight_boosting.py\u001B[0m in \u001B[0;36mfit\u001B[0;34m(self, X, y, sample_weight)\u001B[0m\n\u001B[1;32m    143\u001B[0m         \u001B[0;32mfor\u001B[0m \u001B[0miboost\u001B[0m \u001B[0;32min\u001B[0m \u001B[0mrange\u001B[0m\u001B[0;34m(\u001B[0m\u001B[0mself\u001B[0m\u001B[0;34m.\u001B[0m\u001B[0mn_estimators\u001B[0m\u001B[0;34m)\u001B[0m\u001B[0;34m:\u001B[0m\u001B[0;34m\u001B[0m\u001B[0;34m\u001B[0m\u001B[0m\n\u001B[1;32m    144\u001B[0m             \u001B[0;31m# Boosting step\u001B[0m\u001B[0;34m\u001B[0m\u001B[0;34m\u001B[0m\u001B[0;34m\u001B[0m\u001B[0m\n\u001B[0;32m--> 145\u001B[0;31m             sample_weight, estimator_weight, estimator_error = self._boost(\n\u001B[0m\u001B[1;32m    146\u001B[0m                 \u001B[0miboost\u001B[0m\u001B[0;34m,\u001B[0m \u001B[0mX\u001B[0m\u001B[0;34m,\u001B[0m \u001B[0my\u001B[0m\u001B[0;34m,\u001B[0m \u001B[0msample_weight\u001B[0m\u001B[0;34m,\u001B[0m \u001B[0mrandom_state\u001B[0m\u001B[0;34m\u001B[0m\u001B[0;34m\u001B[0m\u001B[0m\n\u001B[1;32m    147\u001B[0m             )\n",
      "\u001B[0;32m/usr/local/lib/python3.8/dist-packages/sklearn/ensemble/_weight_boosting.py\u001B[0m in \u001B[0;36m_boost\u001B[0;34m(self, iboost, X, y, sample_weight, random_state)\u001B[0m\n\u001B[1;32m    549\u001B[0m \u001B[0;34m\u001B[0m\u001B[0m\n\u001B[1;32m    550\u001B[0m         \u001B[0;32melse\u001B[0m\u001B[0;34m:\u001B[0m  \u001B[0;31m# elif self.algorithm == \"SAMME\":\u001B[0m\u001B[0;34m\u001B[0m\u001B[0;34m\u001B[0m\u001B[0m\n\u001B[0;32m--> 551\u001B[0;31m             \u001B[0;32mreturn\u001B[0m \u001B[0mself\u001B[0m\u001B[0;34m.\u001B[0m\u001B[0m_boost_discrete\u001B[0m\u001B[0;34m(\u001B[0m\u001B[0miboost\u001B[0m\u001B[0;34m,\u001B[0m \u001B[0mX\u001B[0m\u001B[0;34m,\u001B[0m \u001B[0my\u001B[0m\u001B[0;34m,\u001B[0m \u001B[0msample_weight\u001B[0m\u001B[0;34m,\u001B[0m \u001B[0mrandom_state\u001B[0m\u001B[0;34m)\u001B[0m\u001B[0;34m\u001B[0m\u001B[0;34m\u001B[0m\u001B[0m\n\u001B[0m\u001B[1;32m    552\u001B[0m \u001B[0;34m\u001B[0m\u001B[0m\n\u001B[1;32m    553\u001B[0m     \u001B[0;32mdef\u001B[0m \u001B[0m_boost_real\u001B[0m\u001B[0;34m(\u001B[0m\u001B[0mself\u001B[0m\u001B[0;34m,\u001B[0m \u001B[0miboost\u001B[0m\u001B[0;34m,\u001B[0m \u001B[0mX\u001B[0m\u001B[0;34m,\u001B[0m \u001B[0my\u001B[0m\u001B[0;34m,\u001B[0m \u001B[0msample_weight\u001B[0m\u001B[0;34m,\u001B[0m \u001B[0mrandom_state\u001B[0m\u001B[0;34m)\u001B[0m\u001B[0;34m:\u001B[0m\u001B[0;34m\u001B[0m\u001B[0;34m\u001B[0m\u001B[0m\n",
      "\u001B[0;32m/usr/local/lib/python3.8/dist-packages/sklearn/ensemble/_weight_boosting.py\u001B[0m in \u001B[0;36m_boost_discrete\u001B[0;34m(self, iboost, X, y, sample_weight, random_state)\u001B[0m\n\u001B[1;32m    616\u001B[0m         \u001B[0mestimator\u001B[0m\u001B[0;34m.\u001B[0m\u001B[0mfit\u001B[0m\u001B[0;34m(\u001B[0m\u001B[0mX\u001B[0m\u001B[0;34m,\u001B[0m \u001B[0my\u001B[0m\u001B[0;34m,\u001B[0m \u001B[0msample_weight\u001B[0m\u001B[0;34m=\u001B[0m\u001B[0msample_weight\u001B[0m\u001B[0;34m)\u001B[0m\u001B[0;34m\u001B[0m\u001B[0;34m\u001B[0m\u001B[0m\n\u001B[1;32m    617\u001B[0m \u001B[0;34m\u001B[0m\u001B[0m\n\u001B[0;32m--> 618\u001B[0;31m         \u001B[0my_predict\u001B[0m \u001B[0;34m=\u001B[0m \u001B[0mestimator\u001B[0m\u001B[0;34m.\u001B[0m\u001B[0mpredict\u001B[0m\u001B[0;34m(\u001B[0m\u001B[0mX\u001B[0m\u001B[0;34m)\u001B[0m\u001B[0;34m\u001B[0m\u001B[0;34m\u001B[0m\u001B[0m\n\u001B[0m\u001B[1;32m    619\u001B[0m \u001B[0;34m\u001B[0m\u001B[0m\n\u001B[1;32m    620\u001B[0m         \u001B[0;32mif\u001B[0m \u001B[0miboost\u001B[0m \u001B[0;34m==\u001B[0m \u001B[0;36m0\u001B[0m\u001B[0;34m:\u001B[0m\u001B[0;34m\u001B[0m\u001B[0;34m\u001B[0m\u001B[0m\n",
      "\u001B[0;32m<ipython-input-165-574e89867a73>\u001B[0m in \u001B[0;36mpredict\u001B[0;34m(self, x, **kwargs)\u001B[0m\n\u001B[1;32m     16\u001B[0m     \u001B[0;31m#return super(KerasClassifier, self).fit(x, y, sample_weight=sample_weight)\u001B[0m\u001B[0;34m\u001B[0m\u001B[0;34m\u001B[0m\u001B[0;34m\u001B[0m\u001B[0m\n\u001B[1;32m     17\u001B[0m     \u001B[0;32mdef\u001B[0m \u001B[0mpredict\u001B[0m\u001B[0;34m(\u001B[0m\u001B[0mself\u001B[0m\u001B[0;34m,\u001B[0m \u001B[0mx\u001B[0m\u001B[0;34m,\u001B[0m \u001B[0;34m**\u001B[0m\u001B[0mkwargs\u001B[0m\u001B[0;34m)\u001B[0m\u001B[0;34m:\u001B[0m\u001B[0;34m\u001B[0m\u001B[0;34m\u001B[0m\u001B[0m\n\u001B[0;32m---> 18\u001B[0;31m       \u001B[0mkwargs\u001B[0m \u001B[0;34m=\u001B[0m \u001B[0mself\u001B[0m\u001B[0;34m.\u001B[0m\u001B[0mfilter_sk_params\u001B[0m\u001B[0;34m(\u001B[0m\u001B[0mSequential\u001B[0m\u001B[0;34m.\u001B[0m\u001B[0mpredict_classes\u001B[0m\u001B[0;34m,\u001B[0m \u001B[0mkwargs\u001B[0m\u001B[0;34m)\u001B[0m\u001B[0;34m\u001B[0m\u001B[0;34m\u001B[0m\u001B[0m\n\u001B[0m\u001B[1;32m     19\u001B[0m       \u001B[0mclasses\u001B[0m \u001B[0;34m=\u001B[0m \u001B[0mself\u001B[0m\u001B[0;34m.\u001B[0m\u001B[0mmodel\u001B[0m\u001B[0;34m.\u001B[0m\u001B[0mpredict_classes\u001B[0m\u001B[0;34m(\u001B[0m\u001B[0mx\u001B[0m\u001B[0;34m,\u001B[0m \u001B[0;34m**\u001B[0m\u001B[0mkwargs\u001B[0m\u001B[0;34m)\u001B[0m\u001B[0;34m\u001B[0m\u001B[0;34m\u001B[0m\u001B[0m\n\u001B[1;32m     20\u001B[0m       \u001B[0;32mreturn\u001B[0m \u001B[0mself\u001B[0m\u001B[0;34m.\u001B[0m\u001B[0mclasses_\u001B[0m\u001B[0;34m[\u001B[0m\u001B[0mclasses\u001B[0m\u001B[0;34m]\u001B[0m\u001B[0;34m.\u001B[0m\u001B[0mflatten\u001B[0m\u001B[0;34m(\u001B[0m\u001B[0;34m)\u001B[0m\u001B[0;34m\u001B[0m\u001B[0;34m\u001B[0m\u001B[0m\n",
      "\u001B[0;31mAttributeError\u001B[0m: type object 'Sequential' has no attribute 'predict_classes'"
     ]
    }
   ]
  }
 ]
}

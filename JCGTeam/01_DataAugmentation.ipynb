{
 "cells": [
  {
   "cell_type": "markdown",
   "source": [
    "Here there is the code to augment the data with all the four techniques discussed in the repo over the train test split saved locally using the same BDLSTM model used for benchmark"
   ],
   "metadata": {
    "collapsed": false
   }
  },
  {
   "cell_type": "code",
   "source": [
    "from google.colab import drive\n",
    "drive.mount('/gdrive')"
   ],
   "metadata": {
    "colab": {
     "base_uri": "https://localhost:8080/"
    },
    "id": "3s2q9ZWpUdgd",
    "executionInfo": {
     "status": "ok",
     "timestamp": 1671809258737,
     "user_tz": -60,
     "elapsed": 2254,
     "user": {
      "displayName": "Jody Roberto Battistini",
      "userId": "10272988566122784742"
     }
    },
    "outputId": "27456082-4585-44e6-d896-a42add56f20a"
   },
   "execution_count": 1,
   "outputs": [
    {
     "output_type": "stream",
     "name": "stdout",
     "text": [
      "Drive already mounted at /gdrive; to attempt to forcibly remount, call drive.mount(\"/gdrive\", force_remount=True).\n"
     ]
    }
   ]
  },
  {
   "cell_type": "code",
   "source": [
    "%cd /gdrive/My Drive/Colab\\ Notebooks/AN2DL/Homework2"
   ],
   "metadata": {
    "colab": {
     "base_uri": "https://localhost:8080/"
    },
    "id": "ho9DEa5WUdd9",
    "executionInfo": {
     "status": "ok",
     "timestamp": 1671809258738,
     "user_tz": -60,
     "elapsed": 8,
     "user": {
      "displayName": "Jody Roberto Battistini",
      "userId": "10272988566122784742"
     }
    },
    "outputId": "ad8593b3-982a-4fb6-8392-9a1421764b96"
   },
   "execution_count": 2,
   "outputs": [
    {
     "output_type": "stream",
     "name": "stdout",
     "text": [
      "/gdrive/My Drive/Colab Notebooks/AN2DL/Homework2\n"
     ]
    }
   ]
  },
  {
   "cell_type": "markdown",
   "metadata": {
    "id": "5vMdN93qZWWB"
   },
   "source": [
    "# Load data from disck"
   ]
  },
  {
   "cell_type": "code",
   "execution_count": 3,
   "metadata": {
    "id": "eY7DVVcRlKc4",
    "colab": {
     "base_uri": "https://localhost:8080/"
    },
    "executionInfo": {
     "status": "ok",
     "timestamp": 1671809273316,
     "user_tz": -60,
     "elapsed": 14582,
     "user": {
      "displayName": "Jody Roberto Battistini",
      "userId": "10272988566122784742"
     }
    },
    "outputId": "b380c08e-ae6a-450a-8de5-8bec6750fea0"
   },
   "outputs": [
    {
     "output_type": "stream",
     "name": "stdout",
     "text": [
      "Looking in indexes: https://pypi.org/simple, https://us-python.pkg.dev/colab-wheels/public/simple/\n",
      "Requirement already satisfied: visualkeras in /usr/local/lib/python3.8/dist-packages (0.0.2)\n",
      "Requirement already satisfied: pillow>=6.2.0 in /usr/local/lib/python3.8/dist-packages (from visualkeras) (7.1.2)\n",
      "Requirement already satisfied: aggdraw>=1.3.11 in /usr/local/lib/python3.8/dist-packages (from visualkeras) (1.3.15)\n",
      "Requirement already satisfied: numpy>=1.18.1 in /usr/local/lib/python3.8/dist-packages (from visualkeras) (1.21.6)\n",
      "2.9.2\n"
     ]
    }
   ],
   "source": [
    "import pickle\n",
    "import tensorflow as tf\n",
    "import pandas as pd\n",
    "import numpy as np\n",
    "from sklearn.preprocessing import MinMaxScaler, RobustScaler\n",
    "\n",
    "import tensorflow as tf\n",
    "import numpy as np\n",
    "import os\n",
    "import random\n",
    "import pandas as pd\n",
    "import seaborn as sns\n",
    "import matplotlib.pyplot as plt\n",
    "plt.rc('font', size=16) \n",
    "from sklearn.metrics import accuracy_score, f1_score, precision_score, recall_score\n",
    "from sklearn.metrics import confusion_matrix\n",
    "from sklearn.preprocessing import MinMaxScaler\n",
    "from sklearn.model_selection import train_test_split\n",
    "import warnings\n",
    "import logging\n",
    "from tensorflow import keras\n",
    "!pip install visualkeras\n",
    "import visualkeras\n",
    "from datetime import datetime\n",
    "from random import shuffle\n",
    "import pickle\n",
    "\n",
    "tfk = tf.keras\n",
    "tfkl = tf.keras.layers\n",
    "print(tf.__version__)"
   ]
  },
  {
   "cell_type": "code",
   "execution_count": 4,
   "metadata": {
    "id": "kdCBNtbEHgkm",
    "executionInfo": {
     "status": "ok",
     "timestamp": 1671809273316,
     "user_tz": -60,
     "elapsed": 10,
     "user": {
      "displayName": "Jody Roberto Battistini",
      "userId": "10272988566122784742"
     }
    }
   },
   "outputs": [],
   "source": [
    "BATCH_SIZE = 64\n",
    "DROPOUT = 0.0\n",
    "REGULARIZATION = False\n",
    "PATIENCE = 10"
   ]
  },
  {
   "cell_type": "code",
   "execution_count": 5,
   "metadata": {
    "id": "vV0sdYVrNwnr",
    "executionInfo": {
     "status": "ok",
     "timestamp": 1671809273317,
     "user_tz": -60,
     "elapsed": 10,
     "user": {
      "displayName": "Jody Roberto Battistini",
      "userId": "10272988566122784742"
     }
    }
   },
   "outputs": [],
   "source": [
    "# load plain data split\n",
    "with open(\"./train_test_obj\", \"rb\") as f:\n",
    "  x_train, x_test, y_train, y_test = pickle.load(f)"
   ]
  },
  {
   "cell_type": "code",
   "source": [
    "print(x_train.shape)\n",
    "print(x_train.dtype)\n",
    "print(y_train.shape)\n",
    "print(x_test.shape)"
   ],
   "metadata": {
    "colab": {
     "base_uri": "https://localhost:8080/"
    },
    "id": "HBkqNc6zbB4E",
    "executionInfo": {
     "status": "ok",
     "timestamp": 1671809273317,
     "user_tz": -60,
     "elapsed": 9,
     "user": {
      "displayName": "Jody Roberto Battistini",
      "userId": "10272988566122784742"
     }
    },
    "outputId": "3ab0837e-f460-4bda-e991-f58dae52e1d0"
   },
   "execution_count": 6,
   "outputs": [
    {
     "output_type": "stream",
     "name": "stdout",
     "text": [
      "(1943, 36, 6)\n",
      "float64\n",
      "(1943,)\n",
      "(486, 36, 6)\n"
     ]
    }
   ]
  },
  {
   "cell_type": "code",
   "source": [
    "print(x_train[0][0], y_train[40:70])\n",
    "# Add Gaussian noise to the time series\n",
    "noise = np.random.normal(0, 0.5, 1943*36*6)\n",
    "noise = noise.reshape(1943, 36, 6)\n",
    "noisy_data = x_train + noise\n",
    "x_doubled = np.concatenate((x_train, noisy_data), axis = 0)\n",
    "y_doubled = np.concatenate((y_train, y_train), axis = 0)\n",
    "print(y_doubled[40:50])\n",
    "print(y_doubled[1943+40:1943+50])\n",
    "print(x_doubled.shape)\n",
    "print(y_doubled.shape)"
   ],
   "metadata": {
    "colab": {
     "base_uri": "https://localhost:8080/"
    },
    "id": "YlScUV5MbB10",
    "executionInfo": {
     "status": "ok",
     "timestamp": 1671809273318,
     "user_tz": -60,
     "elapsed": 8,
     "user": {
      "displayName": "Jody Roberto Battistini",
      "userId": "10272988566122784742"
     }
    },
    "outputId": "5608b4b9-42f2-4929-a3db-ac2d86f2b051"
   },
   "execution_count": 7,
   "outputs": [
    {
     "output_type": "stream",
     "name": "stdout",
     "text": [
      "[ 2.291     4.5307    3.1934   -0.059906  4.2041   14.324   ] [ 6  0  6  8  3  6  2  9  1  9  3  9  3  9  9  6 10  6  3  6  9 11  6  6\n",
      "  1  6  3  9  6  6]\n",
      "[6 0 6 8 3 6 2 9 1 9]\n",
      "[6 0 6 8 3 6 2 9 1 9]\n",
      "(3886, 36, 6)\n",
      "(3886,)\n"
     ]
    }
   ]
  },
  {
   "cell_type": "code",
   "source": [
    "# Scale the time series by multiplying it by 2\n",
    "scaled_data = x_train * 2\n",
    "x_tripled = np.concatenate((x_doubled, scaled_data), axis = 0)\n",
    "y_tripled = np.concatenate((y_doubled, y_train), axis = 0)\n",
    "print(y_tripled[40:50])\n",
    "print(y_tripled[1943+40:1943+50])\n",
    "print(y_tripled[1943*2+40:1943*2+50])\n",
    "print(x_tripled.shape)\n",
    "print(y_tripled.shape)"
   ],
   "metadata": {
    "colab": {
     "base_uri": "https://localhost:8080/"
    },
    "id": "UBRT-E4fgaS_",
    "executionInfo": {
     "status": "ok",
     "timestamp": 1671809273777,
     "user_tz": -60,
     "elapsed": 24,
     "user": {
      "displayName": "Jody Roberto Battistini",
      "userId": "10272988566122784742"
     }
    },
    "outputId": "2c2ad3d9-7092-4adc-bd05-c6bb92015a73"
   },
   "execution_count": 8,
   "outputs": [
    {
     "output_type": "stream",
     "name": "stdout",
     "text": [
      "[6 0 6 8 3 6 2 9 1 9]\n",
      "[6 0 6 8 3 6 2 9 1 9]\n",
      "[6 0 6 8 3 6 2 9 1 9]\n",
      "(5829, 36, 6)\n",
      "(5829,)\n"
     ]
    }
   ]
  },
  {
   "cell_type": "code",
   "source": [
    "# Change the period of the time series by dividing it by 3\n",
    "periodic_data = x_train / 3\n",
    "x_quadrupled = np.concatenate((x_tripled, periodic_data), axis = 0)\n",
    "y_quadrupled = np.concatenate((y_tripled, y_train), axis = 0)\n",
    "print(y_quadrupled.shape)\n",
    "print(x_quadrupled.shape)"
   ],
   "metadata": {
    "colab": {
     "base_uri": "https://localhost:8080/"
    },
    "id": "_ZuoE3NSgaQX",
    "executionInfo": {
     "status": "ok",
     "timestamp": 1671809273778,
     "user_tz": -60,
     "elapsed": 23,
     "user": {
      "displayName": "Jody Roberto Battistini",
      "userId": "10272988566122784742"
     }
    },
    "outputId": "f3e70f06-3805-4f58-84ba-e10fd0f47967"
   },
   "execution_count": 9,
   "outputs": [
    {
     "output_type": "stream",
     "name": "stdout",
     "text": [
      "(7772,)\n",
      "(7772, 36, 6)\n"
     ]
    }
   ]
  },
  {
   "cell_type": "code",
   "source": [
    "# Rotate the time series by shifting it 10 steps in the future\n",
    "rotated_data = np.roll(x_train, 10)\n",
    "x_quintupled = np.concatenate((x_quadrupled, rotated_data), axis = 0)\n",
    "y_quintupled = np.concatenate((y_quadrupled, y_train), axis = 0)"
   ],
   "metadata": {
    "id": "dRmMDXylgaIl",
    "executionInfo": {
     "status": "ok",
     "timestamp": 1671809273778,
     "user_tz": -60,
     "elapsed": 20,
     "user": {
      "displayName": "Jody Roberto Battistini",
      "userId": "10272988566122784742"
     }
    }
   },
   "execution_count": 10,
   "outputs": []
  },
  {
   "cell_type": "code",
   "execution_count": 11,
   "metadata": {
    "colab": {
     "base_uri": "https://localhost:8080/",
     "height": 35
    },
    "id": "y5mE8gb5Hgkm",
    "executionInfo": {
     "status": "ok",
     "timestamp": 1671809273779,
     "user_tz": -60,
     "elapsed": 21,
     "user": {
      "displayName": "Jody Roberto Battistini",
      "userId": "10272988566122784742"
     }
    },
    "outputId": "429924bd-3df7-43b5-f41a-d5fa2c4b8583"
   },
   "outputs": [
    {
     "output_type": "execute_result",
     "data": {
      "text/plain": [
       "'# load scaler\\nwith open(\"./scaler.p\", \"rb\") as f:\\n    scaler = pickle.load(f)'"
      ],
      "application/vnd.google.colaboratory.intrinsic+json": {
       "type": "string"
      }
     },
     "metadata": {},
     "execution_count": 11
    }
   ],
   "source": [
    "'''# load scaler\n",
    "with open(\"./scaler.p\", \"rb\") as f:\n",
    "    scaler = pickle.load(f)'''"
   ]
  },
  {
   "cell_type": "markdown",
   "metadata": {
    "id": "DcCb7qSFauQc"
   },
   "source": [
    "# Utils Functions"
   ]
  },
  {
   "cell_type": "code",
   "execution_count": 12,
   "metadata": {
    "id": "VnIrgOM4bIJ4",
    "colab": {
     "base_uri": "https://localhost:8080/",
     "height": 89
    },
    "executionInfo": {
     "status": "ok",
     "timestamp": 1671809273779,
     "user_tz": -60,
     "elapsed": 19,
     "user": {
      "displayName": "Jody Roberto Battistini",
      "userId": "10272988566122784742"
     }
    },
    "outputId": "a5a5a18e-3516-49d5-8b61-81c3255b560d"
   },
   "outputs": [
    {
     "output_type": "execute_result",
     "data": {
      "text/plain": [
       "\"def from_raw_to_dataframe(x_raw, y_raw):\\n    tabular_list = []\\n    for i_sample, x in enumerate(x_raw):\\n        for i_time, xx in enumerate(x):\\n            tabular_list.append([i_sample, i_time] + list(xx) + [y_raw[i_sample]])\\n    df_res = pd.DataFrame(tabular_list).rename(columns={\\n        0: 'sample_id',\\n        1: 'time',\\n        2: 'feat_1',\\n        3: 'feat_2',\\n        4: 'feat_3',\\n        5: 'feat_4',\\n        6: 'feat_5',\\n        7: 'feat_6',\\n        8: 'label'}, inplace=False, errors='raise')\\n    return df_res\""
      ],
      "application/vnd.google.colaboratory.intrinsic+json": {
       "type": "string"
      }
     },
     "metadata": {},
     "execution_count": 12
    }
   ],
   "source": [
    "'''def from_raw_to_dataframe(x_raw, y_raw):\n",
    "    tabular_list = []\n",
    "    for i_sample, x in enumerate(x_raw):\n",
    "        for i_time, xx in enumerate(x):\n",
    "            tabular_list.append([i_sample, i_time] + list(xx) + [y_raw[i_sample]])\n",
    "    df_res = pd.DataFrame(tabular_list).rename(columns={\n",
    "        0: 'sample_id',\n",
    "        1: 'time',\n",
    "        2: 'feat_1',\n",
    "        3: 'feat_2',\n",
    "        4: 'feat_3',\n",
    "        5: 'feat_4',\n",
    "        6: 'feat_5',\n",
    "        7: 'feat_6',\n",
    "        8: 'label'}, inplace=False, errors='raise')\n",
    "    return df_res'''"
   ]
  },
  {
   "cell_type": "code",
   "execution_count": 13,
   "metadata": {
    "id": "j-ffxE8Pa4el",
    "colab": {
     "base_uri": "https://localhost:8080/",
     "height": 89
    },
    "executionInfo": {
     "status": "ok",
     "timestamp": 1671809273780,
     "user_tz": -60,
     "elapsed": 19,
     "user": {
      "displayName": "Jody Roberto Battistini",
      "userId": "10272988566122784742"
     }
    },
    "outputId": "ee6e7ebd-ae99-4289-ab75-2f5b1bc1f728"
   },
   "outputs": [
    {
     "output_type": "execute_result",
     "data": {
      "text/plain": [
       "\"def build_sequences(df):\\n    # Sanity check to avoid runtime errors\\n    #assert window % stride == 0\\n    dataset = []\\n    labels = []\\n    for id in df['sample_id'].unique():\\n        # Take only meaningful features\\n        temp = df[df['sample_id'] == id][['feat_1','feat_2','feat_3','feat_4','feat_5','feat_6']].values\\n        # Save the label\\n        label = df[df['sample_id'] == id]['label'].values[0]\\n        labels.append(label)\\n        dataset.append(temp)\\n\\n    dataset = np.array(dataset)\\n    labels = np.array(labels)\\n    return dataset, labels\""
      ],
      "application/vnd.google.colaboratory.intrinsic+json": {
       "type": "string"
      }
     },
     "metadata": {},
     "execution_count": 13
    }
   ],
   "source": [
    "'''def build_sequences(df):\n",
    "    # Sanity check to avoid runtime errors\n",
    "    #assert window % stride == 0\n",
    "    dataset = []\n",
    "    labels = []\n",
    "    for id in df['sample_id'].unique():\n",
    "        # Take only meaningful features\n",
    "        temp = df[df['sample_id'] == id][['feat_1','feat_2','feat_3','feat_4','feat_5','feat_6']].values\n",
    "        # Save the label\n",
    "        label = df[df['sample_id'] == id]['label'].values[0]\n",
    "        labels.append(label)\n",
    "        dataset.append(temp)\n",
    "\n",
    "    dataset = np.array(dataset)\n",
    "    labels = np.array(labels)\n",
    "    return dataset, labels'''"
   ]
  },
  {
   "cell_type": "code",
   "execution_count": 14,
   "metadata": {
    "id": "3ytxr0_WatAJ",
    "colab": {
     "base_uri": "https://localhost:8080/",
     "height": 107
    },
    "executionInfo": {
     "status": "ok",
     "timestamp": 1671809273780,
     "user_tz": -60,
     "elapsed": 18,
     "user": {
      "displayName": "Jody Roberto Battistini",
      "userId": "10272988566122784742"
     }
    },
    "outputId": "7bbd3a74-c97b-442d-bea0-230c5bded05f"
   },
   "outputs": [
    {
     "output_type": "execute_result",
     "data": {
      "text/plain": [
       "\"def normalize_data_feature_wise(x_original, y_original, max_value=1, quantile=False):\\n    x_original_tabular = from_raw_to_dataframe(x_original, y_original)\\n    if quantile:\\n        scaler = RobustScaler()\\n    else:\\n        scaler = MinMaxScaler(feature_range=(0, max_value))\\n    scaler.fit_transform(x_original_tabular[['feat_1', 'feat_2', 'feat_3', 'feat_4', 'feat_5', 'feat_6']])\\n    x_original_tabular[['feat_1', 'feat_2', 'feat_3', 'feat_4', 'feat_5', 'feat_6']] = scaler.transform(\\n        x_original_tabular[['feat_1', 'feat_2', 'feat_3', 'feat_4', 'feat_5', 'feat_6']])\\n\\n    agg_x, agg_y = build_sequences(x_original_tabular)\\n    return agg_x, agg_y, scaler\""
      ],
      "application/vnd.google.colaboratory.intrinsic+json": {
       "type": "string"
      }
     },
     "metadata": {},
     "execution_count": 14
    }
   ],
   "source": [
    "'''def normalize_data_feature_wise(x_original, y_original, max_value=1, quantile=False):\n",
    "    x_original_tabular = from_raw_to_dataframe(x_original, y_original)\n",
    "    if quantile:\n",
    "        scaler = RobustScaler()\n",
    "    else:\n",
    "        scaler = MinMaxScaler(feature_range=(0, max_value))\n",
    "    scaler.fit_transform(x_original_tabular[['feat_1', 'feat_2', 'feat_3', 'feat_4', 'feat_5', 'feat_6']])\n",
    "    x_original_tabular[['feat_1', 'feat_2', 'feat_3', 'feat_4', 'feat_5', 'feat_6']] = scaler.transform(\n",
    "        x_original_tabular[['feat_1', 'feat_2', 'feat_3', 'feat_4', 'feat_5', 'feat_6']])\n",
    "\n",
    "    agg_x, agg_y = build_sequences(x_original_tabular)\n",
    "    return agg_x, agg_y, scaler'''"
   ]
  },
  {
   "cell_type": "code",
   "execution_count": 15,
   "metadata": {
    "id": "DGhNXrmkc_S0",
    "colab": {
     "base_uri": "https://localhost:8080/",
     "height": 71
    },
    "executionInfo": {
     "status": "ok",
     "timestamp": 1671809273781,
     "user_tz": -60,
     "elapsed": 18,
     "user": {
      "displayName": "Jody Roberto Battistini",
      "userId": "10272988566122784742"
     }
    },
    "outputId": "424b30d9-d7bd-4c8c-9144-f573cee074c8"
   },
   "outputs": [
    {
     "output_type": "execute_result",
     "data": {
      "text/plain": [
       "\"def apply_scaler_to_new_data(x,y,scaler):\\n  x_original_tabular = from_raw_to_dataframe(x, y)\\n  x_original_tabular[['feat_1', 'feat_2', 'feat_3', 'feat_4', 'feat_5', 'feat_6']] = scaler.transform(x_original_tabular[['feat_1', 'feat_2', 'feat_3', 'feat_4', 'feat_5', 'feat_6']])\\n  agg_x, agg_y = build_sequences(x_original_tabular)\\n  return agg_x, agg_y\""
      ],
      "application/vnd.google.colaboratory.intrinsic+json": {
       "type": "string"
      }
     },
     "metadata": {},
     "execution_count": 15
    }
   ],
   "source": [
    "'''def apply_scaler_to_new_data(x,y,scaler):\n",
    "  x_original_tabular = from_raw_to_dataframe(x, y)\n",
    "  x_original_tabular[['feat_1', 'feat_2', 'feat_3', 'feat_4', 'feat_5', 'feat_6']] = scaler.transform(x_original_tabular[['feat_1', 'feat_2', 'feat_3', 'feat_4', 'feat_5', 'feat_6']])\n",
    "  agg_x, agg_y = build_sequences(x_original_tabular)\n",
    "  return agg_x, agg_y'''"
   ]
  },
  {
   "cell_type": "markdown",
   "metadata": {
    "id": "ZqffsmXAhgkt"
   },
   "source": [
    "# Data processing"
   ]
  },
  {
   "cell_type": "code",
   "execution_count": 16,
   "metadata": {
    "id": "sX_mvj8MHgkq",
    "executionInfo": {
     "status": "ok",
     "timestamp": 1671809273781,
     "user_tz": -60,
     "elapsed": 17,
     "user": {
      "displayName": "Jody Roberto Battistini",
      "userId": "10272988566122784742"
     }
    }
   },
   "outputs": [],
   "source": [
    "'''x_train_norm, y_train_norm = apply_scaler_to_new_data(x_train, y_train, scaler)\n",
    "x_test_norm, y_test_norm = apply_scaler_to_new_data(x_test, y_test, scaler)'''\n",
    "\n",
    "train_dataset = tf.data.Dataset.from_tensor_slices((x_quintupled, y_quintupled)).batch(BATCH_SIZE)\n",
    "test_dataset = tf.data.Dataset.from_tensor_slices((x_test, y_test)).batch(BATCH_SIZE)"
   ]
  },
  {
   "cell_type": "markdown",
   "metadata": {
    "id": "u3q9VABGHgkq"
   },
   "source": [
    "## Weights"
   ]
  },
  {
   "cell_type": "code",
   "execution_count": 17,
   "metadata": {
    "id": "BxLa8uZzHgkq",
    "executionInfo": {
     "status": "ok",
     "timestamp": 1671809273782,
     "user_tz": -60,
     "elapsed": 18,
     "user": {
      "displayName": "Jody Roberto Battistini",
      "userId": "10272988566122784742"
     }
    }
   },
   "outputs": [],
   "source": [
    "# Formula used - Naive method where\n",
    "# weight = 1 - (no. of samples present / total no. of samples)\n",
    "# So more the samples, lower the weight\n",
    "NUM_CLASSES = 12\n",
    "def get_class_weight(y):\n",
    "    total_samples = len(y)\n",
    "    class_weight = {}\n",
    "    for i in range(NUM_CLASSES):\n",
    "        class_weight[i] = 1 - (np.bincount(y)[i] / total_samples)\n",
    "    return class_weight\n",
    "\n",
    "#class_weight = get_class_weight(y_train_norm)\n",
    "#class_weight"
   ]
  },
  {
   "cell_type": "code",
   "execution_count": 17,
   "metadata": {
    "id": "7MZiYyo_Hgkr",
    "executionInfo": {
     "status": "ok",
     "timestamp": 1671809273782,
     "user_tz": -60,
     "elapsed": 18,
     "user": {
      "displayName": "Jody Roberto Battistini",
      "userId": "10272988566122784742"
     }
    }
   },
   "outputs": [],
   "source": []
  },
  {
   "cell_type": "markdown",
   "metadata": {
    "id": "SDRHZ-GqrYJ3"
   },
   "source": [
    "# Model Usage"
   ]
  },
  {
   "cell_type": "markdown",
   "metadata": {
    "id": "T8BV5yHKHgkr"
   },
   "source": [
    "## 1DConv"
   ]
  },
  {
   "cell_type": "code",
   "execution_count": 18,
   "metadata": {
    "id": "necu7l2HHgkr",
    "executionInfo": {
     "status": "ok",
     "timestamp": 1671809273783,
     "user_tz": -60,
     "elapsed": 18,
     "user": {
      "displayName": "Jody Roberto Battistini",
      "userId": "10272988566122784742"
     }
    }
   },
   "outputs": [],
   "source": [
    "def Conv1D_BN_ReLu_model(input_shape):\n",
    "    input_layer = keras.layers.Input(input_shape)\n",
    "\n",
    "    x = keras.layers.Conv1D(filters=64, kernel_size=3, padding=\"same\")(input_layer)\n",
    "    x = keras.layers.BatchNormalization()(x)\n",
    "    x = keras.layers.ReLU()(x)\n",
    "\n",
    "    x = keras.layers.Conv1D(filters=64, kernel_size=3, padding=\"same\")(x)\n",
    "    x = keras.layers.BatchNormalization()(x)\n",
    "    x = keras.layers.ReLU()(x)\n",
    "\n",
    "    x = keras.layers.Conv1D(filters=64, kernel_size=3, padding=\"same\")(x)\n",
    "    x = keras.layers.BatchNormalization()(x)\n",
    "    x = keras.layers.ReLU()(x)\n",
    "    \n",
    "    x = keras.layers.Conv1D(filters=64, kernel_size=3, padding=\"same\")(x)\n",
    "    x = keras.layers.BatchNormalization()(x)\n",
    "    x = keras.layers.ReLU()(x)\n",
    "\n",
    "    x = keras.layers.GlobalAveragePooling1D()(x)\n",
    "\n",
    "    output_layer = keras.layers.Dense(NUM_CLASSES, activation=\"softmax\")(x)\n",
    "\n",
    "    return keras.models.Model(inputs=input_layer, outputs=output_layer)"
   ]
  },
  {
   "cell_type": "markdown",
   "metadata": {
    "id": "SW1UIMivHgks"
   },
   "source": [
    "## LSTM"
   ]
  },
  {
   "cell_type": "code",
   "execution_count": 19,
   "metadata": {
    "id": "uY089M7qHgks",
    "executionInfo": {
     "status": "ok",
     "timestamp": 1671809274167,
     "user_tz": -60,
     "elapsed": 402,
     "user": {
      "displayName": "Jody Roberto Battistini",
      "userId": "10272988566122784742"
     }
    }
   },
   "outputs": [],
   "source": [
    "def build_LSTM_classifier(input_shape, classes):\n",
    "    # Build the neural network layer by layer\n",
    "    input_layer = tfkl.Input(shape=input_shape, name='Input')\n",
    "\n",
    "    # Feature extractor\n",
    "    lstm = tfkl.LSTM(32, return_sequences=True)(input_layer) #Number of neurons means dimension of the cell\n",
    "    #Return sequences is a parameter that decides to return each timestep output or only the final one (False)\n",
    "    lstm = tfkl.LSTM(32)(lstm)\n",
    "    dropout = tfkl.Dropout(DROPOUT, seed=seed)(lstm)\n",
    "\n",
    "    # Classifier\n",
    "    classifier = tfkl.Dense(64, activation='relu')(dropout)\n",
    "    output_layer = tfkl.Dense(classes, activation='softmax')(classifier)\n",
    "\n",
    "    # Connect input and output through the Model class\n",
    "    model = tfk.Model(inputs=input_layer, outputs=output_layer, name='model')\n",
    "\n",
    "    # Compile the model\n",
    "    model.compile(loss=tfk.losses.SparseCategoricalCrossentropy(), optimizer=tfk.optimizers.Adam(), metrics='accuracy')\n",
    "\n",
    "    # Return the model\n",
    "    return model"
   ]
  },
  {
   "cell_type": "markdown",
   "metadata": {
    "id": "qRCnFBLhHgks"
   },
   "source": [
    "## Bidrectional LSTM"
   ]
  },
  {
   "cell_type": "code",
   "execution_count": 20,
   "metadata": {
    "id": "APBYVXIMHgks",
    "executionInfo": {
     "status": "ok",
     "timestamp": 1671809274168,
     "user_tz": -60,
     "elapsed": 5,
     "user": {
      "displayName": "Jody Roberto Battistini",
      "userId": "10272988566122784742"
     }
    }
   },
   "outputs": [],
   "source": [
    "from tensorflow.keras import regularizers\n",
    "\n",
    "def bidirectional_LSTM(input_shape):\n",
    "    input_layer = keras.layers.Input(input_shape)\n",
    "\n",
    "    x = keras.layers.Bidirectional(keras.layers.LSTM(32, return_sequences=True))(input_layer)\n",
    "    x = keras.layers.Bidirectional(keras.layers.LSTM(32))(x)\n",
    "    if REGULARIZATION:\n",
    "        x = keras.layers.Dense(32, kernel_regularizer=regularizers.l2(REGULARIZING_FACTOR), activation=\"relu\")(x)\n",
    "    x = keras.layers.Dropout(DROPOUT)(x)\n",
    "    x = keras.layers.Dense(32, activation=\"relu\")(x)\n",
    "    x = keras.layers.Dense(32, activation=\"relu\")(x)\n",
    "    \n",
    "    output_layer = keras.layers.Dense(NUM_CLASSES, activation=\"softmax\")(x)\n",
    "\n",
    "    return keras.models.Model(inputs=input_layer, outputs=output_layer)"
   ]
  },
  {
   "cell_type": "markdown",
   "metadata": {
    "id": "LMee2s5sHgks"
   },
   "source": [
    "## CNN from Lab"
   ]
  },
  {
   "cell_type": "code",
   "execution_count": 21,
   "metadata": {
    "id": "1y0ck7pDHgkt",
    "executionInfo": {
     "status": "ok",
     "timestamp": 1671809274168,
     "user_tz": -60,
     "elapsed": 5,
     "user": {
      "displayName": "Jody Roberto Battistini",
      "userId": "10272988566122784742"
     }
    }
   },
   "outputs": [],
   "source": [
    "def CC_from_Lab(input_shape):\n",
    "    input_layer = keras.layers.Input(input_shape)\n",
    "\n",
    "    x = keras.layers.Conv1D(filters=64, kernel_size=3, padding=\"same\")(input_layer)\n",
    "    x = keras.layers.MaxPool1D()(x)\n",
    "    x = keras.layers.Conv1D(filters=64, kernel_size=3, padding=\"same\")(x)\n",
    "    x = keras.layers.GlobalAveragePooling1D()(x)\n",
    "    x = keras.layers.Dropout(DROPOUT)(x)\n",
    "    x = keras.layers.Dense(64, activation=\"relu\")(x)\n",
    "    \n",
    "    output_layer = keras.layers.Dense(NUM_CLASSES, activation=\"softmax\")(x)\n",
    "\n",
    "    return keras.models.Model(inputs=input_layer, outputs=output_layer)"
   ]
  },
  {
   "cell_type": "markdown",
   "metadata": {
    "id": "LKJXt4M7Hgkt"
   },
   "source": [
    "# Choose Model"
   ]
  },
  {
   "cell_type": "code",
   "execution_count": 22,
   "metadata": {
    "id": "Kc_Qp502Hgkt",
    "executionInfo": {
     "status": "ok",
     "timestamp": 1671809275893,
     "user_tz": -60,
     "elapsed": 1730,
     "user": {
      "displayName": "Jody Roberto Battistini",
      "userId": "10272988566122784742"
     }
    }
   },
   "outputs": [],
   "source": [
    "model = bidirectional_LSTM((x_train.shape[1], x_train.shape[2]))\n",
    "#model = CC_from_Lab((x_train_norm.shape[1], x_train_norm.shape[2]))\n",
    "#model = Conv1D_BN_ReLu_model((x_train_norm.shape[1], x_train_norm.shape[2]))\n",
    "#model = build_LSTM_classifier((x_train_norm.shape[1], x_train_norm.shape[2]), NUM_CLASSES)"
   ]
  },
  {
   "cell_type": "code",
   "execution_count": 23,
   "metadata": {
    "colab": {
     "base_uri": "https://localhost:8080/"
    },
    "id": "-tby9qaeHgkt",
    "executionInfo": {
     "status": "ok",
     "timestamp": 1671809511058,
     "user_tz": -60,
     "elapsed": 235171,
     "user": {
      "displayName": "Jody Roberto Battistini",
      "userId": "10272988566122784742"
     }
    },
    "outputId": "df8a3383-081f-42c3-8086-4455d5d68961"
   },
   "outputs": [
    {
     "output_type": "stream",
     "name": "stdout",
     "text": [
      "Epoch 1/200\n",
      "152/152 [==============================] - 35s 139ms/step - loss: 1.8270 - sparse_categorical_accuracy: 0.4237 - val_loss: 1.7051 - val_sparse_categorical_accuracy: 0.4527\n",
      "Epoch 2/200\n",
      "152/152 [==============================] - 10s 66ms/step - loss: 1.3661 - sparse_categorical_accuracy: 0.5399 - val_loss: 1.4034 - val_sparse_categorical_accuracy: 0.5226\n",
      "Epoch 3/200\n",
      "152/152 [==============================] - 10s 64ms/step - loss: 1.1623 - sparse_categorical_accuracy: 0.6024 - val_loss: 1.3625 - val_sparse_categorical_accuracy: 0.5082\n",
      "Epoch 4/200\n",
      "152/152 [==============================] - 10s 66ms/step - loss: 1.0255 - sparse_categorical_accuracy: 0.6529 - val_loss: 1.2831 - val_sparse_categorical_accuracy: 0.5247\n",
      "Epoch 5/200\n",
      "152/152 [==============================] - 10s 64ms/step - loss: 0.9139 - sparse_categorical_accuracy: 0.6858 - val_loss: 1.3256 - val_sparse_categorical_accuracy: 0.5391\n",
      "Epoch 6/200\n",
      "152/152 [==============================] - 10s 65ms/step - loss: 0.8292 - sparse_categorical_accuracy: 0.7139 - val_loss: 1.3105 - val_sparse_categorical_accuracy: 0.5432\n",
      "Epoch 7/200\n",
      "152/152 [==============================] - 10s 63ms/step - loss: 0.7434 - sparse_categorical_accuracy: 0.7432 - val_loss: 1.3599 - val_sparse_categorical_accuracy: 0.5514\n",
      "Epoch 8/200\n",
      "152/152 [==============================] - 10s 67ms/step - loss: 0.6682 - sparse_categorical_accuracy: 0.7725 - val_loss: 1.4141 - val_sparse_categorical_accuracy: 0.5494\n",
      "Epoch 9/200\n",
      "152/152 [==============================] - 11s 71ms/step - loss: 0.6003 - sparse_categorical_accuracy: 0.8001 - val_loss: 1.4565 - val_sparse_categorical_accuracy: 0.5617\n",
      "Epoch 10/200\n",
      "152/152 [==============================] - 11s 73ms/step - loss: 0.5536 - sparse_categorical_accuracy: 0.8127 - val_loss: 1.5578 - val_sparse_categorical_accuracy: 0.5391\n",
      "Epoch 11/200\n",
      "152/152 [==============================] - 9s 59ms/step - loss: 0.4966 - sparse_categorical_accuracy: 0.8342 - val_loss: 1.8426 - val_sparse_categorical_accuracy: 0.4959\n",
      "Epoch 12/200\n",
      "152/152 [==============================] - 10s 64ms/step - loss: 0.4645 - sparse_categorical_accuracy: 0.8428 - val_loss: 1.9423 - val_sparse_categorical_accuracy: 0.4856\n",
      "Epoch 13/200\n",
      "152/152 [==============================] - 10s 65ms/step - loss: 0.4120 - sparse_categorical_accuracy: 0.8644 - val_loss: 1.9092 - val_sparse_categorical_accuracy: 0.5226\n",
      "Epoch 14/200\n",
      "152/152 [==============================] - 10s 68ms/step - loss: 0.3785 - sparse_categorical_accuracy: 0.8722 - val_loss: 2.0061 - val_sparse_categorical_accuracy: 0.5185\n",
      "Epoch 15/200\n",
      "152/152 [==============================] - 10s 65ms/step - loss: 0.3521 - sparse_categorical_accuracy: 0.8826 - val_loss: 2.1226 - val_sparse_categorical_accuracy: 0.4979\n",
      "Epoch 16/200\n",
      "152/152 [==============================] - 10s 66ms/step - loss: 0.3137 - sparse_categorical_accuracy: 0.8968 - val_loss: 2.2642 - val_sparse_categorical_accuracy: 0.5041\n",
      "Epoch 17/200\n",
      "152/152 [==============================] - 10s 64ms/step - loss: 0.2824 - sparse_categorical_accuracy: 0.9074 - val_loss: 2.5225 - val_sparse_categorical_accuracy: 0.5021\n",
      "Epoch 18/200\n",
      "152/152 [==============================] - 10s 65ms/step - loss: 0.2595 - sparse_categorical_accuracy: 0.9127 - val_loss: 2.6921 - val_sparse_categorical_accuracy: 0.4938\n",
      "Epoch 19/200\n",
      "152/152 [==============================] - ETA: 0s - loss: 0.2345 - sparse_categorical_accuracy: 0.9256Restoring model weights from the end of the best epoch: 9.\n",
      "152/152 [==============================] - 10s 66ms/step - loss: 0.2345 - sparse_categorical_accuracy: 0.9256 - val_loss: 2.8732 - val_sparse_categorical_accuracy: 0.4774\n",
      "Epoch 19: early stopping\n"
     ]
    }
   ],
   "source": [
    "'''# callback list\n",
    "callbacks_list = []\n",
    "es_callback = tf.keras.callbacks.EarlyStopping(monitor='val_sparse_categorical_accuracy', patience=40, restore_best_weights=True)\n",
    "callbacks_list.append(es_callback)'''\n",
    "\n",
    "callbacks = [\n",
    "        keras.callbacks.EarlyStopping(\n",
    "            monitor='val_sparse_categorical_accuracy', \n",
    "            patience = PATIENCE, \n",
    "            verbose=1,\n",
    "            restore_best_weights=True\n",
    "        ),\n",
    "    ]\n",
    "\n",
    "model.compile(\n",
    "    optimizer= keras.optimizers.Adam(),\n",
    "    #loss=\"sparse_categorical_crossentropy\",\n",
    "    loss = tf.keras.losses.SparseCategoricalCrossentropy(),\n",
    "    metrics=[\"sparse_categorical_accuracy\"],\n",
    ")\n",
    "history = model.fit(\n",
    "    train_dataset,\n",
    "    epochs=200,\n",
    "    callbacks=callbacks,\n",
    "    validation_data= test_dataset,\n",
    "    verbose=1,\n",
    "    #class_weight=class_weight,\n",
    ")"
   ]
  },
  {
   "cell_type": "code",
   "execution_count": 24,
   "metadata": {
    "colab": {
     "base_uri": "https://localhost:8080/"
    },
    "id": "zjC--7fLHgku",
    "executionInfo": {
     "status": "ok",
     "timestamp": 1671809511490,
     "user_tz": -60,
     "elapsed": 450,
     "user": {
      "displayName": "Jody Roberto Battistini",
      "userId": "10272988566122784742"
     }
    },
    "outputId": "1e61f508-a00a-4032-f510-fed50ea0eda0"
   },
   "outputs": [
    {
     "output_type": "stream",
     "name": "stdout",
     "text": [
      "8/8 - 0s - loss: 1.4565 - sparse_categorical_accuracy: 0.5617 - 153ms/epoch - 19ms/step\n",
      "\n",
      "\n",
      "Test accuracy 0.5617284178733826\n",
      "Test loss 1.4565250873565674\n"
     ]
    }
   ],
   "source": [
    "#model = keras.models.load_model(\"./Fully_Convolutional_Neural_Network/\")\n",
    "test_loss, test_acc = model.evaluate(test_dataset, verbose=2)\n",
    "print(\"\\n\")\n",
    "print(\"Test accuracy\", test_acc)\n",
    "print(\"Test loss\", test_loss)"
   ]
  },
  {
   "cell_type": "code",
   "execution_count": 25,
   "metadata": {
    "colab": {
     "base_uri": "https://localhost:8080/"
    },
    "id": "5u3DDjwYHgku",
    "executionInfo": {
     "status": "ok",
     "timestamp": 1671809515276,
     "user_tz": -60,
     "elapsed": 3788,
     "user": {
      "displayName": "Jody Roberto Battistini",
      "userId": "10272988566122784742"
     }
    },
    "outputId": "4c1d2ab5-1c36-40fe-e5c4-def7222e6430"
   },
   "outputs": [
    {
     "output_type": "stream",
     "name": "stdout",
     "text": [
      "8/8 [==============================] - 2s 18ms/step\n"
     ]
    }
   ],
   "source": [
    "# Predict the test set \n",
    "predictions = model.predict(test_dataset)"
   ]
  },
  {
   "cell_type": "code",
   "execution_count": 26,
   "metadata": {
    "colab": {
     "base_uri": "https://localhost:8080/"
    },
    "id": "5BRHEfjGHgku",
    "executionInfo": {
     "status": "ok",
     "timestamp": 1671809515277,
     "user_tz": -60,
     "elapsed": 17,
     "user": {
      "displayName": "Jody Roberto Battistini",
      "userId": "10272988566122784742"
     }
    },
    "outputId": "1db72a1a-c5c0-425a-c1f2-169a8775b250"
   },
   "outputs": [
    {
     "output_type": "stream",
     "name": "stdout",
     "text": [
      "F1 score 0.3889973734147214\n"
     ]
    }
   ],
   "source": [
    "import sklearn\n",
    "from sklearn.metrics import confusion_matrix\n",
    "f1_score = sklearn.metrics.f1_score(y_test, predictions.argmax(axis=1), average='macro')\n",
    "print(\"F1 score\", f1_score)"
   ]
  },
  {
   "cell_type": "code",
   "execution_count": 27,
   "metadata": {
    "colab": {
     "base_uri": "https://localhost:8080/",
     "height": 620
    },
    "id": "6NKGPfxaHgku",
    "executionInfo": {
     "status": "ok",
     "timestamp": 1671809515277,
     "user_tz": -60,
     "elapsed": 15,
     "user": {
      "displayName": "Jody Roberto Battistini",
      "userId": "10272988566122784742"
     }
    },
    "outputId": "c7a42502-3a00-4a96-b809-c98fbf8b811b"
   },
   "outputs": [
    {
     "output_type": "display_data",
     "data": {
      "text/plain": [
       "<Figure size 432x288 with 1 Axes>"
      ],
      "image/png": "[encoded data removed]"
     },
     "metadata": {
      "needs_background": "light"
     }
    },
    {
     "output_type": "display_data",
     "data": {
      "text/plain": [
       "<Figure size 432x288 with 1 Axes>"
      ],
      "image/png": "[encoded data removed]"
     },
     "metadata": {
      "needs_background": "light"
     }
    }
   ],
   "source": [
    "metric = \"sparse_categorical_accuracy\"\n",
    "plt.figure()\n",
    "plt.plot(history.history[metric])\n",
    "plt.plot(history.history[\"val_\" + metric])\n",
    "plt.title(\"Model \" + metric)\n",
    "plt.ylabel(metric, fontsize=\"large\")\n",
    "plt.xlabel(\"Epoch\", fontsize=\"large\")\n",
    "plt.legend([\"train\", \"val\"], loc=\"best\")\n",
    "plt.show()\n",
    "plt.close()\n",
    "\n",
    "# Plot the loss function\n",
    "plt.figure()\n",
    "plt.plot(history.history[\"loss\"])\n",
    "plt.plot(history.history[\"val_loss\"])\n",
    "plt.title(\"Model Loss\")\n",
    "plt.ylabel(\"loss\", fontsize=\"large\")\n",
    "plt.xlabel(\"Epoch\", fontsize=\"large\")\n",
    "plt.legend([\"train\", \"val\"], loc=\"best\")\n",
    "plt.show()"
   ]
  },
  {
   "cell_type": "code",
   "execution_count": 28,
   "metadata": {
    "id": "wdI90nBwHgkv",
    "executionInfo": {
     "status": "ok",
     "timestamp": 1671809515277,
     "user_tz": -60,
     "elapsed": 13,
     "user": {
      "displayName": "Jody Roberto Battistini",
      "userId": "10272988566122784742"
     }
    }
   },
   "outputs": [],
   "source": [
    "Classes = [\"Wish\", \"Another\", \"Comfortably\", \"Money\", \"Breathe\", \"Time\", \"Brain\", \"Echoes\", \"Wearing\", \"Sorrow\", \"Hey\", \"Shine\"]"
   ]
  },
  {
   "cell_type": "code",
   "execution_count": 29,
   "metadata": {
    "colab": {
     "base_uri": "https://localhost:8080/",
     "height": 1000
    },
    "id": "rdvXAn_wHgkv",
    "executionInfo": {
     "status": "ok",
     "timestamp": 1671809515277,
     "user_tz": -60,
     "elapsed": 12,
     "user": {
      "displayName": "Jody Roberto Battistini",
      "userId": "10272988566122784742"
     }
    },
    "outputId": "04a178b9-b0db-4e95-ba7b-d813cc2cf105"
   },
   "outputs": [
    {
     "output_type": "stream",
     "name": "stdout",
     "text": [
      "Normalized confusion matrix\n",
      "[[0.         0.         0.         0.         0.         0.\n",
      "  0.25       0.         0.25       0.         0.         0.5       ]\n",
      " [0.         0.31818182 0.         0.36363636 0.         0.\n",
      "  0.         0.         0.         0.31818182 0.         0.        ]\n",
      " [0.         0.02222222 0.84444444 0.         0.         0.\n",
      "  0.02222222 0.         0.         0.         0.11111111 0.        ]\n",
      " [0.         0.10843373 0.01204819 0.40963855 0.         0.02409639\n",
      "  0.03614458 0.         0.01204819 0.38554217 0.         0.01204819]\n",
      " [0.         0.         0.         0.07692308 0.         0.15384615\n",
      "  0.         0.         0.         0.76923077 0.         0.        ]\n",
      " [0.         0.21875    0.         0.21875    0.         0.125\n",
      "  0.09375    0.         0.         0.34375    0.         0.        ]\n",
      " [0.         0.04347826 0.04347826 0.02898551 0.         0.\n",
      "  0.71014493 0.         0.01449275 0.11594203 0.04347826 0.        ]\n",
      " [0.         0.125      0.         0.625      0.         0.\n",
      "  0.         0.         0.         0.25       0.         0.        ]\n",
      " [0.04       0.         0.04       0.         0.         0.\n",
      "  0.2        0.         0.72       0.         0.         0.        ]\n",
      " [0.         0.07643312 0.01910828 0.15286624 0.01910828 0.01910828\n",
      "  0.03184713 0.00636943 0.         0.67515924 0.         0.        ]\n",
      " [0.         0.         0.11111111 0.         0.         0.\n",
      "  0.         0.         0.         0.         0.88888889 0.        ]\n",
      " [0.         0.         0.         0.6        0.         0.\n",
      "  0.         0.         0.         0.3        0.         0.1       ]]\n"
     ]
    },
    {
     "output_type": "display_data",
     "data": {
      "text/plain": [
       "<Figure size 1080x1080 with 2 Axes>"
      ],
      "image/png": "[encoded data removed]"
     },
     "metadata": {
      "needs_background": "light"
     }
    }
   ],
   "source": [
    "# Funtion that plots the confusion matrix\n",
    "import itertools\n",
    "\n",
    "def plot_confusion_matrix(cm, classes, normalize=False, title='Confusion matrix', cmap=plt.cm.Blues):\n",
    "    \"\"\"\n",
    "    This function prints and plots the confusion matrix.\n",
    "    Normalization can be applied by setting `normalize=True`.\n",
    "    \"\"\"\n",
    "    if normalize:\n",
    "        cm = cm.astype('float') / cm.sum(axis=1)[:, np.newaxis]\n",
    "        print(\"Normalized confusion matrix\")\n",
    "    else:\n",
    "        print('Confusion matrix, without normalization')\n",
    "\n",
    "    print(cm)\n",
    "\n",
    "    plt.figure(figsize=(15,15))\n",
    "    plt.imshow(cm, interpolation='nearest', cmap=cmap)\n",
    "    plt.title(title)\n",
    "    plt.colorbar()\n",
    "    tick_marks = np.arange(len(classes))\n",
    "    plt.xticks(tick_marks, classes, rotation=45)\n",
    "    plt.yticks(tick_marks, classes)\n",
    "\n",
    "    fmt = '.2f' if normalize else 'd'\n",
    "    thresh = cm.max() / 2.\n",
    "    for i, j in itertools.product(range(cm.shape[0]), range(cm.shape[1])):\n",
    "        plt.text(j, i, format(cm[i, j], fmt),\n",
    "                 horizontalalignment=\"center\",\n",
    "                 color=\"white\" if cm[i, j] > thresh else \"black\")\n",
    "\n",
    "    #plt.tight_layout()\n",
    "    plt.ylabel('True label')\n",
    "    plt.xlabel('Predicted label')\n",
    "    plt.show()\n",
    "\n",
    "plot_confusion_matrix(confusion_matrix(y_test, predictions.argmax(axis=1)), classes=Classes, normalize=True) "
   ]
  },
  {
   "cell_type": "code",
   "execution_count": 30,
   "metadata": {
    "colab": {
     "base_uri": "https://localhost:8080/"
    },
    "id": "0typ6mAPHgkv",
    "executionInfo": {
     "status": "ok",
     "timestamp": 1671809515278,
     "user_tz": -60,
     "elapsed": 11,
     "user": {
      "displayName": "Jody Roberto Battistini",
      "userId": "10272988566122784742"
     }
    },
    "outputId": "d42ff939-7413-4584-e947-41f19d768a67"
   },
   "outputs": [
    {
     "output_type": "stream",
     "name": "stdout",
     "text": [
      "Recall:  0.39928815574475335\n",
      "Specificity:  0.39928815574475335\n",
      "Accuracy:  0.5617283950617284\n"
     ]
    }
   ],
   "source": [
    "# Print recall, precision, specificity, accuracy, F1 score\n",
    "def print_metrics(y_true, y_pred):\n",
    "    print(\"Recall: \", recall_score(y_true, y_pred, average='macro'))\n",
    "    #print(\"Precision: \", precision_score(y_true, y_pred, average='macro'))\n",
    "    print(\"Specificity: \", recall_score(y_true, y_pred, average='macro'))\n",
    "    print(\"Accuracy: \", accuracy_score(y_true, y_pred))\n",
    "    \n",
    "    \n",
    "print_metrics(y_test, predictions.argmax(axis=1))"
   ]
  }
 ],
 "metadata": {
  "colab": {
   "provenance": []
  },
  "gpuClass": "standard",
  "kernelspec": {
   "display_name": "tf",
   "language": "python",
   "name": "python3"
  },
  "language_info": {
   "codemirror_mode": {
    "name": "ipython",
    "version": 3
   },
   "file_extension": ".py",
   "mimetype": "text/x-python",
   "name": "python",
   "nbconvert_exporter": "python",
   "pygments_lexer": "ipython3",
   "version": "3.10.6"
  },
  "vscode": {
   "interpreter": {
    "hash": "40527a5e21a0fe71350810bdaf893be95d4327fbe99858a2d25f6483c406c492"
   }
  }
 },
 "nbformat": 4,
 "nbformat_minor": 0
}

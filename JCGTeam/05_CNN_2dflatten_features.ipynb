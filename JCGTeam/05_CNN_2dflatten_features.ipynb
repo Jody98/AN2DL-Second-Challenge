{
 "cells": [
  {
   "cell_type": "markdown",
   "source": [
    "Notebook for the CNN 2D with flatten dataset feature wise and images scaled image wise"
   ],
   "metadata": {
    "collapsed": false
   }
  },
  {
   "cell_type": "code",
   "source": [
    "from google.colab import drive\n",
    "drive.mount('./gdrive')"
   ],
   "metadata": {
    "colab": {
     "base_uri": "https://localhost:8080/"
    },
    "id": "1JSZK7hGxStT",
    "outputId": "a5213e2f-2e08-4fc0-f288-bd4e7d7ccae8"
   },
   "execution_count": null,
   "outputs": [
    {
     "output_type": "stream",
     "name": "stdout",
     "text": [
      "Mounted at ./gdrive\n"
     ]
    }
   ]
  },
  {
   "cell_type": "code",
   "source": [
    "DRIVE = \"../gdrive/MyDrive/ann_dataset/HW2\""
   ],
   "metadata": {
    "id": "-rdbumSYwur6"
   },
   "execution_count": null,
   "outputs": []
  },
  {
   "cell_type": "code",
   "execution_count": null,
   "metadata": {
    "collapsed": true,
    "id": "OAM8FNjMwuG_"
   },
   "outputs": [],
   "source": [
    "import pickle\n",
    "import tensorflow as tf\n",
    "import tensorflow.keras as tfk\n",
    "import tensorflow.keras.layers as tfkl\n",
    "import pandas as pd"
   ]
  },
  {
   "cell_type": "code",
   "execution_count": null,
   "outputs": [],
   "source": [
    "from keras.models import Sequential\n",
    "from keras.layers import Dense, Flatten, Conv2D, MaxPool2D, Dropout, BatchNormalization, Rescaling, RandomFlip, RandomRotation, RandomZoom, RandomTranslation, RandomContrast, Rescaling, AveragePooling2D\n",
    "import numpy as np"
   ],
   "metadata": {
    "id": "75gD0dGfwuHC"
   }
  },
  {
   "cell_type": "markdown",
   "source": [
    "# Load data\n",
    "\n",
    "The data is ingested as labeled 36x36 images"
   ],
   "metadata": {
    "id": "N8vvU-vIBGqo"
   }
  },
  {
   "cell_type": "code",
   "execution_count": null,
   "metadata": {
    "id": "gtr1IqB6JrY9"
   },
   "outputs": [],
   "source": [
    "# load data split\n",
    "with open(\"./gdrive/MyDrive/ann_dataset/HW2/dataUsed/train_test_objKeep9\", \"rb\") as f:\n",
    "  x_train, x_test, y_train, y_test = pickle.load(f)"
   ]
  },
  {
   "cell_type": "code",
   "execution_count": null,
   "metadata": {
    "id": "l8dcg3T3KfxP"
   },
   "outputs": [],
   "source": [
    "# load scaler\n",
    "with open(\"./gdrive/MyDrive/ann_dataset/modelss/scaler.p\", \"rb\") as f:\n",
    "  scaler = pickle.load(f)"
   ]
  },
  {
   "cell_type": "code",
   "execution_count": null,
   "outputs": [],
   "source": [
    "# lead data\n",
    "# Separate the test data\n",
    "with open(f\"{DRIVE}/dataUsed/test_obj_flatten_images_255value\", \"rb\") as f:\n",
    "    x, x_test, y, y_test = pickle.load(f)\n",
    "with open(f\"{DRIVE}/dataUsed/trainANDval_obj_flatten_images_255value\", \"rb\") as f:\n",
    "    x_train, y_train = pickle.load(f)"
   ],
   "metadata": {
    "id": "e-QMRT8wwuHD"
   }
  },
  {
   "cell_type": "code",
   "execution_count": null,
   "outputs": [],
   "source": [
    "def augment_data(x_train, y_train, oversample=True):\n",
    "    \"\"\" Oversample the images up to the majority class \"\"\"\n",
    "    lengths = []\n",
    "    for label in np.unique(y_train):\n",
    "        lengths.append(np.sum(y_train == label))\n",
    "    id_max = np.argmax(lengths)\n",
    "    max_len = lengths[id_max]\n",
    "\n",
    "    x_train_aug = []\n",
    "    y_train_aug = []\n",
    "    for label in np.unique(y_train):\n",
    "        samples = x_train[y_train == label]\n",
    "        labels = y_train[y_train == label]\n",
    "        indexes = list(np.random.randint(len(samples), size=max_len-len(samples)))\n",
    "        extra_samples = samples[indexes]\n",
    "        extra_labels = labels[indexes]\n",
    "        x_train_aug += list(samples) + list(extra_samples)\n",
    "        y_train_aug += list(labels) + list(extra_labels)\n",
    "\n",
    "    idx_shuffle = list(range(len(y_train_aug)))\n",
    "    np.random.shuffle(idx_shuffle)\n",
    "    return np.array(x_train_aug)[idx_shuffle], np.array(y_train_aug)[idx_shuffle]"
   ],
   "metadata": {
    "id": "RHRmvrJHwuHD"
   }
  },
  {
   "cell_type": "code",
   "execution_count": null,
   "outputs": [],
   "source": [
    "# reproduce the same image for all 3 channels of the cnn\n",
    "\n",
    "x_train = np.repeat(x_train[..., np.newaxis], 3, -1)\n",
    "x_test = np.repeat(x_test[..., np.newaxis], 3, -1)"
   ],
   "metadata": {
    "id": "b0PDS6L8wuHF"
   }
  },
  {
   "cell_type": "code",
   "execution_count": null,
   "outputs": [],
   "source": [
    "train_dataset = tf.data.Dataset.from_tensor_slices((x_train, y_train))\n",
    "test_dataset = tf.data.Dataset.from_tensor_slices((x_test, y_test))"
   ],
   "metadata": {
    "id": "rF_96u7CwuHF"
   }
  },
  {
   "cell_type": "code",
   "execution_count": null,
   "outputs": [],
   "source": [
    "BATCH_SIZE = 64\n",
    "train_dataset = train_dataset.batch(BATCH_SIZE)\n",
    "test_dataset = test_dataset.batch(BATCH_SIZE)"
   ],
   "metadata": {
    "id": "j6lWSvF4wuHG"
   }
  },
  {
   "cell_type": "markdown",
   "source": [
    " # Plot images"
   ],
   "metadata": {
    "id": "rwA5nzYalPjq"
   }
  },
  {
   "cell_type": "code",
   "source": [
    "def from_raw_to_dataframe(x_raw, y_raw):\n",
    "    tabular_list = []\n",
    "    for i_sample, x in enumerate(x_raw):\n",
    "        for i_time, xx in enumerate(x):\n",
    "            tabular_list.append([i_sample, i_time] + list(xx) + [y_raw[i_sample]])\n",
    "    df_res = pd.DataFrame(tabular_list).rename(columns={\n",
    "        0: 'sample_id',\n",
    "        1: 'time',\n",
    "        2: 'feat_1',\n",
    "        3: 'feat_2',\n",
    "        4: 'feat_3',\n",
    "        5: 'feat_4',\n",
    "        6: 'feat_5',\n",
    "        7: 'feat_6',\n",
    "        8: 'label'}, inplace=False, errors='raise')\n",
    "    return df_res"
   ],
   "metadata": {
    "id": "VnIrgOM4bIJ4"
   },
   "execution_count": null,
   "outputs": []
  },
  {
   "cell_type": "code",
   "source": [
    "def build_sequences(df):\n",
    "    # Sanity check to avoid runtime errors\n",
    "    #assert window % stride == 0\n",
    "    dataset = []\n",
    "    labels = []\n",
    "    for id in df['sample_id'].unique():\n",
    "        # Take only meaningful features\n",
    "        temp = df[df['sample_id'] == id][['feat_1','feat_2','feat_3','feat_4','feat_5','feat_6']].values\n",
    "        # Save the label\n",
    "        label = df[df['sample_id'] == id]['label'].values[0]\n",
    "        labels.append(label)\n",
    "        dataset.append(temp)\n",
    "\n",
    "    dataset = np.array(dataset)\n",
    "    labels = np.array(labels)\n",
    "    return dataset, labels"
   ],
   "metadata": {
    "id": "j-ffxE8Pa4el"
   },
   "execution_count": null,
   "outputs": []
  },
  {
   "cell_type": "code",
   "source": [
    "from sklearn.preprocessing import MinMaxScaler, RobustScaler\n",
    "\n",
    "\n",
    "def normalize_data_feature_wise(x_original, y_original, max_value=1, quantile=False):\n",
    "    x_original_tabular = from_raw_to_dataframe(x_original, y_original)\n",
    "    if quantile:\n",
    "        scaler = RobustScaler()\n",
    "    else:\n",
    "        scaler = MinMaxScaler(feature_range=(0, max_value))\n",
    "    scaler.fit_transform(x_original_tabular[['feat_1', 'feat_2', 'feat_3', 'feat_4', 'feat_5', 'feat_6']])\n",
    "    x_original_tabular[['feat_1', 'feat_2', 'feat_3', 'feat_4', 'feat_5', 'feat_6']] = scaler.transform(\n",
    "        x_original_tabular[['feat_1', 'feat_2', 'feat_3', 'feat_4', 'feat_5', 'feat_6']])\n",
    "\n",
    "    agg_x, agg_y = build_sequences(x_original_tabular)\n",
    "    return agg_x, agg_y, scaler"
   ],
   "metadata": {
    "id": "3ytxr0_WatAJ"
   },
   "execution_count": null,
   "outputs": []
  },
  {
   "cell_type": "code",
   "source": [
    "def apply_scaler_to_new_data(x,y,scaler):\n",
    "  x_original_tabular = from_raw_to_dataframe(x, y)\n",
    "  x_original_tabular[['feat_1', 'feat_2', 'feat_3', 'feat_4', 'feat_5', 'feat_6']] = scaler.transform(x_original_tabular[['feat_1', 'feat_2', 'feat_3', 'feat_4', 'feat_5', 'feat_6']])\n",
    "  agg_x, agg_y = build_sequences(x_original_tabular)\n",
    "  return agg_x, agg_y"
   ],
   "metadata": {
    "id": "DGhNXrmkc_S0"
   },
   "execution_count": null,
   "outputs": []
  },
  {
   "cell_type": "code",
   "source": [
    "def shiftLeft(lst) :\n",
    "    return lst[1:] + lst[:1]\n",
    "\n",
    "def shiftRight(lst) :\n",
    "    return lst[-1:] + lst[:-1]\n",
    "\n",
    "def array_1D_to_2D(array, option=2):\n",
    "  \"\"\" mappind 1D arrays to 2D images like arrays with the specified option\"\"\"\n",
    "  base = list(array.copy())\n",
    "  twoD_array = []\n",
    "\n",
    "  if option == 0:\n",
    "  # every row do a right shift\n",
    "      for i in range(len(base)):\n",
    "          twoD_array.append(base)\n",
    "          base = shiftLeft(base)\n",
    "  elif option == 1:\n",
    "  # for iteration i do i right shifts of previous row\n",
    "      for i in range(len(base)):\n",
    "          twoD_array.append(base)\n",
    "          for _ in range(i):\n",
    "              base = shiftLeft(base)\n",
    "  elif option == 2:\n",
    "  # shift the same number of filter size (3)\n",
    "      for i in range(len(base)):\n",
    "          twoD_array.append(base)\n",
    "          for _ in range(3):\n",
    "              base = shiftLeft(base)\n",
    "  elif option == 3:\n",
    "  # shift the same number of filter size (3)\n",
    "    for i in range(len(base)):\n",
    "        # for i in range(len(base)):\n",
    "        twoD_array.append(base)\n",
    "          # base = shiftLeft(base)\n",
    "  return twoD_array"
   ],
   "metadata": {
    "id": "Wl1ujot8fdX-"
   },
   "execution_count": null,
   "outputs": []
  },
  {
   "cell_type": "code",
   "source": [
    "def original_data_to_image_data(x_original, y_original, option):\n",
    "    x_original_image = []\n",
    "    y_original_image = []\n",
    "\n",
    "\n",
    "    for i, label in enumerate(y_original):\n",
    "        images_block = []\n",
    "        for feat_id in range(x_original[i].shape[1]):\n",
    "            ts = np.array(x_original[i][:, feat_id])\n",
    "            image = array_1D_to_2D(ts, option)\n",
    "            images_block.append(image)\n",
    "\n",
    "        x_original_image.append(np.array(images_block))\n",
    "        y_original_image.append(np.array(label))\n",
    "        # x_original_image[0][0, :]\n",
    "        # x_original_image_r[0][:,:, 0]\n",
    "    # x_original_image_r = np.reshape(x_original_image, (len(x_original), 36, 36, 6))\n",
    "    return x_original_image, y_original_image"
   ],
   "metadata": {
    "id": "XpXQf-Fyuvcy"
   },
   "execution_count": null,
   "outputs": []
  },
  {
   "cell_type": "code",
   "source": [
    "def normalize_image_by_image(x_original, y_original):\n",
    "    x_tmp = x_original.copy()\n",
    "    for i,_ in enumerate(x_original):\n",
    "        for j in range(6):\n",
    "            minn = np.min(x_original[i][:, j])\n",
    "            maxx = np.max(x_original[i][:, j])\n",
    "            for x in range(36):\n",
    "                x_tmp[i, x, j] = (x_original[i, x, j] - minn) / (maxx - minn)\n",
    "    return x_tmp, y_original"
   ],
   "metadata": {
    "id": "nQLn07QbuCBV"
   },
   "execution_count": null,
   "outputs": []
  },
  {
   "cell_type": "code",
   "execution_count": null,
   "metadata": {
    "id": "k517BZGEKK4-"
   },
   "outputs": [],
   "source": [
    "x_train_norm, y_train_norm = apply_scaler_to_new_data(x_train, y_train, scaler)\n",
    "x_test_norm, y_test_norm = apply_scaler_to_new_data(x_test, y_test, scaler)"
   ]
  },
  {
   "cell_type": "code",
   "execution_count": null,
   "metadata": {
    "id": "Pnc1KEM9KXEx"
   },
   "outputs": [],
   "source": [
    "BATCH_SIZE = 128\n",
    "train_dataset = tf.data.Dataset.from_tensor_slices((x_train_norm, y_train_norm)).batch(BATCH_SIZE)\n",
    "test_dataset = tf.data.Dataset.from_tensor_slices((x_test_norm, y_test_norm)).batch(BATCH_SIZE)"
   ]
  },
  {
   "cell_type": "code",
   "source": [
    "import matplotlib.pyplot as plt\n"
   ],
   "metadata": {
    "id": "iSsOxXxwmJRh"
   },
   "execution_count": null,
   "outputs": []
  },
  {
   "cell_type": "code",
   "source": [
    "target = 1\n",
    "\n",
    "\"\"\"x_img,y_img = normalize_image_by_image(x_train, y_train)\n",
    "x_img,y_img = original_data_to_image_data(x_img, y_img, option)\n",
    "img_test = x_img[target]\"\"\"\n",
    "\n",
    "img, axs = plt.subplots(1,3, figsize=(28,26))\n",
    "options = [0,2,1]\n",
    "titles = ['One step Shift', 'Three step shift', 'i step incremental shift']\n",
    "\n",
    "for i in range(3):\n",
    "  x_img,y_img = normalize_image_by_image(x_train, y_train)\n",
    "  x_img,y_img = original_data_to_image_data(x_img, y_img, option=options[i])\n",
    "  img_test = x_img[target]\n",
    "  axs[i].imshow(255*img_test[0], cmap='gray', vmin=0, vmax=255)\n",
    "  axs[i].set_title(f\"{titles[i]}\", fontsize=30)"
   ],
   "metadata": {
    "colab": {
     "base_uri": "https://localhost:8080/",
     "height": 498
    },
    "id": "enljoCOl7FG3",
    "outputId": "6158324b-eba6-41e9-8861-f239a6916f81"
   },
   "execution_count": null,
   "outputs": [
    {
     "output_type": "display_data",
     "data": {
      "text/plain": [
       "<Figure size 2016x1872 with 3 Axes>"
      ],
      "image/png": "[encoded data removed]"
     },
     "metadata": {
      "needs_background": "light"
     }
    }
   ]
  },
  {
   "cell_type": "markdown",
   "source": [
    "# Functions"
   ],
   "metadata": {
    "id": "_kqr9iYgBoRu"
   }
  },
  {
   "cell_type": "code",
   "source": [
    "# wrapper function that return a model composed by  pretrained model + custom FFNN as classifier at the end\n",
    "def bottom_model_builder_classifier(\n",
    "    base_model,\n",
    "    dropout_rate=0.3,\n",
    "    size_dense =1000\n",
    "    ):\n",
    "  l2_lambda = 1e-2\n",
    "  inputs=tfk.Input(shape=(36, 36, 3))\n",
    "  x = base_model(inputs)\n",
    "  x = Flatten()(x)\n",
    "  x = Dense(size_dense, activation='swish', kernel_initializer = tfk.initializers.HeUniform())(x)\n",
    "  x = Dropout(dropout_rate, name=\"top_dropout_2\")(x)\n",
    "  x = Dense(256, activation='swish', kernel_initializer = tfk.initializers.HeUniform())(x)\n",
    "  x = Dropout(dropout_rate, name=\"top_dropout_3\")(x)\n",
    "  outputs = tfkl.Dense(\n",
    "      12, \n",
    "      activation='softmax',\n",
    "      kernel_initializer = tfk.initializers.GlorotUniform())(x)\n",
    "\n",
    "\n",
    "  # Connect input and output through the Model class\n",
    "  tl_model = tfk.Model(inputs=inputs, outputs=outputs, name='Densemodel')\n",
    "\n",
    "  return tl_model"
   ],
   "metadata": {
    "id": "nOx2Y3aV0Hk6"
   },
   "execution_count": null,
   "outputs": []
  },
  {
   "cell_type": "code",
   "execution_count": null,
   "outputs": [],
   "source": [
    "def bottom_model_builder_fully_conv(\n",
    "        base_model,\n",
    "        dropout_rate,\n",
    "):\n",
    "\n",
    "    inputs=tfk.Input(shape=(36, 36, 3))\n",
    "    x = base_model(inputs)\n",
    "    x = tfkl.GlobalAveragePooling2D()(x)\n",
    "    x = Dropout(dropout_rate, name=\"top_dropout\")(x)\n",
    "    outputs = tfkl.Dense(\n",
    "        12,\n",
    "        activation='softmax',\n",
    "        kernel_initializer = tfk.initializers.GlorotUniform())(x)\n",
    "\n",
    "\n",
    "    # Connect input and output through the Model class\n",
    "    tl_model = tfk.Model(inputs=inputs, outputs=outputs, name='FullConvmodel')\n",
    "\n",
    "    return tl_model"
   ],
   "metadata": {
    "id": "sF9dAEYHwuHG"
   }
  },
  {
   "cell_type": "code",
   "source": [],
   "metadata": {
    "id": "Iy0FUNKYn3_k"
   },
   "execution_count": null,
   "outputs": []
  },
  {
   "cell_type": "markdown",
   "source": [
    "# build and train"
   ],
   "metadata": {
    "id": "4KZ40OV1Buqh"
   }
  },
  {
   "cell_type": "code",
   "execution_count": null,
   "outputs": [],
   "source": [
    "# callback list\n",
    "callbacks_list = []\n",
    "es_callback = tf.keras.callbacks.EarlyStopping(monitor='val_sparse_categorical_accuracy', patience=8, restore_best_weights=True)\n",
    "callbacks_list.append(es_callback)\n"
   ],
   "metadata": {
    "id": "JP7ytXJvwuHH"
   }
  },
  {
   "cell_type": "code",
   "execution_count": null,
   "outputs": [],
   "source": [
    "SELECTED_MODEL = tfk.applications.EfficientNetV2B3"
   ],
   "metadata": {
    "id": "Pn2HcPdTwuHI"
   }
  },
  {
   "cell_type": "code",
   "execution_count": null,
   "outputs": [
    {
     "output_type": "stream",
     "name": "stdout",
     "text": [
      "Downloading data from https://storage.googleapis.com/tensorflow/keras-applications/efficientnet_v2/efficientnetv2-b3_notop.h5\n",
      "52606240/52606240 [==============================] - 0s 0us/step\n"
     ]
    }
   ],
   "source": [
    "base_model = SELECTED_MODEL(input_shape=(36,36,3),\n",
    "                          include_top=False,\n",
    "                          weights='imagenet')\n",
    "base_model.trainable = False"
   ],
   "metadata": {
    "id": "AtaBYGxTwuHI",
    "colab": {
     "base_uri": "https://localhost:8080/"
    },
    "outputId": "66a7b83d-bc5f-49c6-8765-bb6b64d14d5a"
   }
  },
  {
   "cell_type": "code",
   "execution_count": null,
   "outputs": [],
   "source": [
    "#model = bottom_model_builder_fully_conv(base_model, dropout_rate=0.3)\n",
    "model = bottom_model_builder_classifier(base_model, dropout_rate=0.3, size_dense=6000)"
   ],
   "metadata": {
    "id": "FyjSp1rVwuHI"
   }
  },
  {
   "cell_type": "code",
   "source": [
    "model.summary()"
   ],
   "metadata": {
    "colab": {
     "base_uri": "https://localhost:8080/"
    },
    "id": "Y2sWgPzp1Xkh",
    "outputId": "5e3fa8fa-13a6-43ee-c496-970c976cfa92"
   },
   "execution_count": null,
   "outputs": [
    {
     "output_type": "stream",
     "name": "stdout",
     "text": [
      "Model: \"Densemodel\"\n",
      "_________________________________________________________________\n",
      " Layer (type)                Output Shape              Param #   \n",
      "=================================================================\n",
      " input_2 (InputLayer)        [(None, 36, 36, 3)]       0         \n",
      "                                                                 \n",
      " efficientnetv2-b3 (Function  (None, 2, 2, 1536)       12930622  \n",
      " al)                                                             \n",
      "                                                                 \n",
      " flatten (Flatten)           (None, 6144)              0         \n",
      "                                                                 \n",
      " dense (Dense)               (None, 6000)              36870000  \n",
      "                                                                 \n",
      " top_dropout_2 (Dropout)     (None, 6000)              0         \n",
      "                                                                 \n",
      " dense_1 (Dense)             (None, 256)               1536256   \n",
      "                                                                 \n",
      " top_dropout_3 (Dropout)     (None, 256)               0         \n",
      "                                                                 \n",
      " dense_2 (Dense)             (None, 12)                3084      \n",
      "                                                                 \n",
      "=================================================================\n",
      "Total params: 51,339,962\n",
      "Trainable params: 38,409,340\n",
      "Non-trainable params: 12,930,622\n",
      "_________________________________________________________________\n"
     ]
    }
   ]
  },
  {
   "cell_type": "code",
   "source": [
    "base_model.trainable = False"
   ],
   "metadata": {
    "id": "r-Id9Y3narUn"
   },
   "execution_count": null,
   "outputs": []
  },
  {
   "cell_type": "code",
   "execution_count": null,
   "outputs": [],
   "source": [
    "model.compile(optimizer=tf.keras.optimizers.Adam(),\n",
    "              loss=tf.keras.losses.SparseCategoricalCrossentropy(),\n",
    "              metrics=['sparse_categorical_accuracy'])"
   ],
   "metadata": {
    "id": "ScIZkGtpwuHJ"
   }
  },
  {
   "cell_type": "code",
   "execution_count": null,
   "outputs": [
    {
     "output_type": "stream",
     "name": "stdout",
     "text": [
      "Epoch 1/100\n",
      "752/752 [==============================] - 27s 36ms/step - loss: 1.6320 - sparse_categorical_accuracy: 0.4219 - val_loss: 1.6513 - val_sparse_categorical_accuracy: 0.3237\n",
      "Epoch 2/100\n",
      "752/752 [==============================] - 26s 34ms/step - loss: 1.5577 - sparse_categorical_accuracy: 0.4463 - val_loss: 1.6216 - val_sparse_categorical_accuracy: 0.3192\n",
      "Epoch 3/100\n",
      "752/752 [==============================] - 26s 34ms/step - loss: 1.5021 - sparse_categorical_accuracy: 0.4703 - val_loss: 1.6025 - val_sparse_categorical_accuracy: 0.3411\n",
      "Epoch 4/100\n",
      "752/752 [==============================] - 26s 34ms/step - loss: 1.4197 - sparse_categorical_accuracy: 0.4975 - val_loss: 1.5624 - val_sparse_categorical_accuracy: 0.3388\n",
      "Epoch 5/100\n",
      "752/752 [==============================] - 26s 35ms/step - loss: 1.3414 - sparse_categorical_accuracy: 0.5250 - val_loss: 1.5117 - val_sparse_categorical_accuracy: 0.3493\n",
      "Epoch 6/100\n",
      "752/752 [==============================] - 25s 34ms/step - loss: 1.2817 - sparse_categorical_accuracy: 0.5482 - val_loss: 1.5514 - val_sparse_categorical_accuracy: 0.3475\n",
      "Epoch 7/100\n",
      "752/752 [==============================] - 26s 35ms/step - loss: 1.2206 - sparse_categorical_accuracy: 0.5695 - val_loss: 1.5213 - val_sparse_categorical_accuracy: 0.3557\n",
      "Epoch 8/100\n",
      "752/752 [==============================] - 25s 34ms/step - loss: 1.1647 - sparse_categorical_accuracy: 0.5895 - val_loss: 1.5055 - val_sparse_categorical_accuracy: 0.3708\n",
      "Epoch 9/100\n",
      "752/752 [==============================] - 26s 34ms/step - loss: 1.1264 - sparse_categorical_accuracy: 0.6019 - val_loss: 1.4082 - val_sparse_categorical_accuracy: 0.4065\n",
      "Epoch 10/100\n",
      "752/752 [==============================] - 25s 34ms/step - loss: 1.0923 - sparse_categorical_accuracy: 0.6132 - val_loss: 1.3968 - val_sparse_categorical_accuracy: 0.4060\n",
      "Epoch 11/100\n",
      "752/752 [==============================] - 25s 34ms/step - loss: 1.0501 - sparse_categorical_accuracy: 0.6304 - val_loss: 1.4541 - val_sparse_categorical_accuracy: 0.3882\n",
      "Epoch 12/100\n",
      "752/752 [==============================] - 26s 34ms/step - loss: 1.0202 - sparse_categorical_accuracy: 0.6412 - val_loss: 1.4539 - val_sparse_categorical_accuracy: 0.4097\n",
      "Epoch 13/100\n",
      "752/752 [==============================] - 25s 34ms/step - loss: 0.9940 - sparse_categorical_accuracy: 0.6496 - val_loss: 1.3953 - val_sparse_categorical_accuracy: 0.4234\n",
      "Epoch 14/100\n",
      "752/752 [==============================] - 25s 34ms/step - loss: 0.9620 - sparse_categorical_accuracy: 0.6612 - val_loss: 1.4130 - val_sparse_categorical_accuracy: 0.4115\n",
      "Epoch 15/100\n",
      "752/752 [==============================] - 26s 34ms/step - loss: 0.9342 - sparse_categorical_accuracy: 0.6701 - val_loss: 1.3567 - val_sparse_categorical_accuracy: 0.4252\n",
      "Epoch 16/100\n",
      "752/752 [==============================] - 25s 34ms/step - loss: 0.9191 - sparse_categorical_accuracy: 0.6743 - val_loss: 1.4031 - val_sparse_categorical_accuracy: 0.4234\n",
      "Epoch 17/100\n",
      "752/752 [==============================] - 25s 34ms/step - loss: 0.9006 - sparse_categorical_accuracy: 0.6809 - val_loss: 1.3507 - val_sparse_categorical_accuracy: 0.4358\n",
      "Epoch 18/100\n",
      "752/752 [==============================] - 26s 34ms/step - loss: 0.8763 - sparse_categorical_accuracy: 0.6905 - val_loss: 1.3399 - val_sparse_categorical_accuracy: 0.4614\n",
      "Epoch 19/100\n",
      "752/752 [==============================] - 26s 34ms/step - loss: 0.8788 - sparse_categorical_accuracy: 0.6902 - val_loss: 1.3102 - val_sparse_categorical_accuracy: 0.4463\n",
      "Epoch 20/100\n",
      "752/752 [==============================] - 25s 34ms/step - loss: 0.8453 - sparse_categorical_accuracy: 0.7018 - val_loss: 1.2919 - val_sparse_categorical_accuracy: 0.4655\n",
      "Epoch 21/100\n",
      "752/752 [==============================] - 25s 33ms/step - loss: 0.8365 - sparse_categorical_accuracy: 0.7052 - val_loss: 1.3161 - val_sparse_categorical_accuracy: 0.4495\n",
      "Epoch 22/100\n",
      "752/752 [==============================] - 25s 33ms/step - loss: 0.8206 - sparse_categorical_accuracy: 0.7101 - val_loss: 1.3212 - val_sparse_categorical_accuracy: 0.4422\n",
      "Epoch 23/100\n",
      "752/752 [==============================] - 26s 34ms/step - loss: 0.8093 - sparse_categorical_accuracy: 0.7140 - val_loss: 1.2972 - val_sparse_categorical_accuracy: 0.4723\n",
      "Epoch 24/100\n",
      "752/752 [==============================] - 25s 34ms/step - loss: 0.7912 - sparse_categorical_accuracy: 0.7233 - val_loss: 1.2484 - val_sparse_categorical_accuracy: 0.4902\n",
      "Epoch 25/100\n",
      "752/752 [==============================] - 25s 34ms/step - loss: 0.7828 - sparse_categorical_accuracy: 0.7239 - val_loss: 1.3510 - val_sparse_categorical_accuracy: 0.4691\n",
      "Epoch 26/100\n",
      "752/752 [==============================] - 25s 34ms/step - loss: 0.7697 - sparse_categorical_accuracy: 0.7272 - val_loss: 1.2834 - val_sparse_categorical_accuracy: 0.4778\n",
      "Epoch 27/100\n",
      "752/752 [==============================] - 25s 34ms/step - loss: 0.7514 - sparse_categorical_accuracy: 0.7341 - val_loss: 1.2871 - val_sparse_categorical_accuracy: 0.4934\n",
      "Epoch 28/100\n",
      "752/752 [==============================] - 25s 34ms/step - loss: 0.7525 - sparse_categorical_accuracy: 0.7349 - val_loss: 1.2610 - val_sparse_categorical_accuracy: 0.4906\n",
      "Epoch 29/100\n",
      "752/752 [==============================] - 25s 34ms/step - loss: 0.7494 - sparse_categorical_accuracy: 0.7357 - val_loss: 1.2627 - val_sparse_categorical_accuracy: 0.4751\n",
      "Epoch 30/100\n",
      "752/752 [==============================] - 25s 34ms/step - loss: 0.7279 - sparse_categorical_accuracy: 0.7435 - val_loss: 1.2569 - val_sparse_categorical_accuracy: 0.4801\n",
      "Epoch 31/100\n",
      "752/752 [==============================] - 25s 34ms/step - loss: 0.7181 - sparse_categorical_accuracy: 0.7475 - val_loss: 1.2706 - val_sparse_categorical_accuracy: 0.5066\n",
      "Epoch 32/100\n",
      "752/752 [==============================] - 26s 34ms/step - loss: 0.7162 - sparse_categorical_accuracy: 0.7474 - val_loss: 1.2581 - val_sparse_categorical_accuracy: 0.4957\n",
      "Epoch 33/100\n",
      "752/752 [==============================] - 25s 34ms/step - loss: 0.7026 - sparse_categorical_accuracy: 0.7521 - val_loss: 1.2341 - val_sparse_categorical_accuracy: 0.4966\n",
      "Epoch 34/100\n",
      "752/752 [==============================] - 25s 34ms/step - loss: 0.7038 - sparse_categorical_accuracy: 0.7525 - val_loss: 1.2358 - val_sparse_categorical_accuracy: 0.4993\n",
      "Epoch 35/100\n",
      "752/752 [==============================] - 26s 34ms/step - loss: 0.6915 - sparse_categorical_accuracy: 0.7562 - val_loss: 1.2102 - val_sparse_categorical_accuracy: 0.5295\n",
      "Epoch 36/100\n",
      "752/752 [==============================] - 25s 34ms/step - loss: 0.6861 - sparse_categorical_accuracy: 0.7577 - val_loss: 1.2518 - val_sparse_categorical_accuracy: 0.5039\n",
      "Epoch 37/100\n",
      "752/752 [==============================] - 25s 34ms/step - loss: 0.6706 - sparse_categorical_accuracy: 0.7622 - val_loss: 1.2259 - val_sparse_categorical_accuracy: 0.5167\n",
      "Epoch 38/100\n",
      "752/752 [==============================] - 25s 34ms/step - loss: 0.6821 - sparse_categorical_accuracy: 0.7595 - val_loss: 1.2532 - val_sparse_categorical_accuracy: 0.4975\n",
      "Epoch 39/100\n",
      "752/752 [==============================] - 25s 34ms/step - loss: 0.6636 - sparse_categorical_accuracy: 0.7665 - val_loss: 1.2315 - val_sparse_categorical_accuracy: 0.5126\n",
      "Epoch 40/100\n",
      "752/752 [==============================] - 26s 34ms/step - loss: 0.6579 - sparse_categorical_accuracy: 0.7692 - val_loss: 1.2126 - val_sparse_categorical_accuracy: 0.5332\n",
      "Epoch 41/100\n",
      "752/752 [==============================] - 26s 34ms/step - loss: 0.6618 - sparse_categorical_accuracy: 0.7664 - val_loss: 1.1855 - val_sparse_categorical_accuracy: 0.5359\n",
      "Epoch 42/100\n",
      "752/752 [==============================] - 26s 34ms/step - loss: 0.6560 - sparse_categorical_accuracy: 0.7710 - val_loss: 1.2504 - val_sparse_categorical_accuracy: 0.4883\n",
      "Epoch 43/100\n",
      "752/752 [==============================] - 26s 34ms/step - loss: 0.6486 - sparse_categorical_accuracy: 0.7735 - val_loss: 1.1960 - val_sparse_categorical_accuracy: 0.5185\n",
      "Epoch 44/100\n",
      "752/752 [==============================] - 25s 34ms/step - loss: 0.6362 - sparse_categorical_accuracy: 0.7781 - val_loss: 1.2298 - val_sparse_categorical_accuracy: 0.5203\n",
      "Epoch 45/100\n",
      "752/752 [==============================] - 25s 34ms/step - loss: 0.6387 - sparse_categorical_accuracy: 0.7784 - val_loss: 1.1950 - val_sparse_categorical_accuracy: 0.5267\n",
      "Epoch 46/100\n",
      "752/752 [==============================] - 25s 34ms/step - loss: 0.6264 - sparse_categorical_accuracy: 0.7778 - val_loss: 1.1486 - val_sparse_categorical_accuracy: 0.5464\n",
      "Epoch 47/100\n",
      "752/752 [==============================] - 25s 34ms/step - loss: 0.6305 - sparse_categorical_accuracy: 0.7786 - val_loss: 1.1890 - val_sparse_categorical_accuracy: 0.5203\n",
      "Epoch 48/100\n",
      "752/752 [==============================] - 26s 35ms/step - loss: 0.6220 - sparse_categorical_accuracy: 0.7806 - val_loss: 1.1762 - val_sparse_categorical_accuracy: 0.5528\n",
      "Epoch 49/100\n",
      "752/752 [==============================] - 26s 34ms/step - loss: 0.6100 - sparse_categorical_accuracy: 0.7842 - val_loss: 1.1688 - val_sparse_categorical_accuracy: 0.5565\n",
      "Epoch 50/100\n",
      "752/752 [==============================] - 25s 34ms/step - loss: 0.6116 - sparse_categorical_accuracy: 0.7878 - val_loss: 1.1580 - val_sparse_categorical_accuracy: 0.5652\n",
      "Epoch 51/100\n",
      "752/752 [==============================] - 25s 34ms/step - loss: 0.6010 - sparse_categorical_accuracy: 0.7900 - val_loss: 1.1772 - val_sparse_categorical_accuracy: 0.5382\n",
      "Epoch 52/100\n",
      "752/752 [==============================] - 25s 34ms/step - loss: 0.6080 - sparse_categorical_accuracy: 0.7875 - val_loss: 1.1689 - val_sparse_categorical_accuracy: 0.5501\n",
      "Epoch 53/100\n",
      "752/752 [==============================] - 25s 34ms/step - loss: 0.6004 - sparse_categorical_accuracy: 0.7903 - val_loss: 1.1986 - val_sparse_categorical_accuracy: 0.5327\n",
      "Epoch 54/100\n",
      "752/752 [==============================] - 25s 34ms/step - loss: 0.5980 - sparse_categorical_accuracy: 0.7885 - val_loss: 1.1746 - val_sparse_categorical_accuracy: 0.5482\n",
      "Epoch 55/100\n",
      "752/752 [==============================] - 25s 34ms/step - loss: 0.6008 - sparse_categorical_accuracy: 0.7906 - val_loss: 1.1565 - val_sparse_categorical_accuracy: 0.5377\n",
      "Epoch 56/100\n",
      "752/752 [==============================] - 25s 34ms/step - loss: 0.5808 - sparse_categorical_accuracy: 0.7971 - val_loss: 1.1643 - val_sparse_categorical_accuracy: 0.5446\n",
      "Epoch 57/100\n",
      "752/752 [==============================] - 25s 34ms/step - loss: 0.5827 - sparse_categorical_accuracy: 0.7952 - val_loss: 1.1653 - val_sparse_categorical_accuracy: 0.5524\n",
      "Epoch 58/100\n",
      "752/752 [==============================] - 26s 34ms/step - loss: 0.5845 - sparse_categorical_accuracy: 0.7933 - val_loss: 1.1601 - val_sparse_categorical_accuracy: 0.5597\n"
     ]
    }
   ],
   "source": [
    "history = model.fit(train_dataset,\n",
    "          validation_data=test_dataset,\n",
    "          epochs=100,\n",
    "          callbacks=callbacks_list).history"
   ],
   "metadata": {
    "colab": {
     "base_uri": "https://localhost:8080/"
    },
    "id": "AwveXbwywuHJ",
    "outputId": "b713451c-d1fd-498e-80c8-94a7042b3e28"
   }
  },
  {
   "cell_type": "code",
   "execution_count": null,
   "outputs": [],
   "source": [
    "\"\"\"with open(f\"{DRIVE}/dataUsed/oversamplingImgaesDense6000Init\", \"wb\") as f:\n",
    "    pickle.dump(history, f)\"\"\""
   ],
   "metadata": {
    "id": "iBHXTjjCwuHJ"
   }
  },
  {
   "cell_type": "code",
   "execution_count": null,
   "outputs": [],
   "source": [
    "# fine tuning step\n",
    "base_model.trainable = True\n",
    "\n",
    "model.compile(optimizer=tf.keras.optimizers.Adam(1e-6),\n",
    "              loss=tf.keras.losses.SparseCategoricalCrossentropy(),\n",
    "              metrics=['sparse_categorical_accuracy'])\n",
    "\n",
    "model.fit(train_dataset,\n",
    "          validation_data=test_dataset,\n",
    "          epochs=10,\n",
    "          callbacks=callbacks_list)"
   ],
   "metadata": {
    "id": "O--DUOW5wuHJ"
   }
  },
  {
   "cell_type": "markdown",
   "source": [
    "# Evaluation"
   ],
   "metadata": {
    "id": "c7Ht6x3LCDV6"
   }
  },
  {
   "cell_type": "code",
   "execution_count": null,
   "outputs": [],
   "source": [
    "from sklearn.metrics import ConfusionMatrixDisplay\n",
    "from sklearn.metrics import confusion_matrix, f1_score, accuracy_score\n",
    "import matplotlib.pyplot as plt\n",
    "import numpy as np\n",
    "import os\n",
    "import random"
   ],
   "metadata": {
    "id": "0BXRkHcQwuHK"
   }
  },
  {
   "cell_type": "code",
   "source": [
    "def show_confusion(model, validation_dataset):\n",
    "  Y_pred = model.predict(validation_dataset)\n",
    "  y_pred = np.argmax(Y_pred, axis=1)\n",
    "  y_test= np.concatenate([y for x, y in validation_dataset], axis=0)\n",
    "\n",
    "  cm = confusion_matrix(y_test, y_pred)\n",
    "\n",
    "  disp = ConfusionMatrixDisplay(confusion_matrix=cm)\n",
    "\n",
    "  disp.plot(cmap=plt.cm.Blues)\n",
    "  plt.show()\n",
    "\n",
    "  f1_scores = f1_score(y_test, y_pred, average=None)\n",
    "  mean_f1 = np.mean(f1_scores)\n",
    "\n",
    "  print(f\"\\nF1 scores: {f1_scores}\")\n",
    "  print(f\"\\nMean F1 : {mean_f1}\")\n",
    "  print(f\"\\nAccuracy : {accuracy_score(y_test, y_pred)}\")"
   ],
   "metadata": {
    "id": "v7ppEj9J7MRc"
   },
   "execution_count": null,
   "outputs": []
  },
  {
   "cell_type": "code",
   "source": [
    "show_confusion(model, test_dataset)"
   ],
   "metadata": {
    "colab": {
     "base_uri": "https://localhost:8080/",
     "height": 418
    },
    "id": "Z9Y-3YJv7iUO",
    "outputId": "8974c3b0-5d76-46fe-e739-56411fd68fef"
   },
   "execution_count": null,
   "outputs": [
    {
     "output_type": "stream",
     "name": "stdout",
     "text": [
      "35/35 [==============================] - 3s 24ms/step\n"
     ]
    },
    {
     "output_type": "display_data",
     "data": {
      "text/plain": [
       "<Figure size 432x288 with 2 Axes>"
      ],
      "image/png": "[encoded data removed]"
     },
     "metadata": {
      "needs_background": "light"
     }
    },
    {
     "output_type": "stream",
     "name": "stdout",
     "text": [
      "\n",
      "F1 scores: [0.67605634 0.58064516 0.88888889 0.45007924 0.23478261 0.38547486\n",
      " 0.69054441 0.37681159 0.85245902 0.43643644 0.74418605 0.62264151]\n",
      "\n",
      "Mean F1 : 0.578250509343895\n",
      "\n",
      "Accuracy : 0.5651577503429356\n"
     ]
    }
   ]
  },
  {
   "cell_type": "code",
   "source": [
    "model.save(\"./model055\")\n",
    "!zip -r ../gdrive/MyDrive/ann_dataset/HW2/model055.zip ./model055\n",
    "from google.colab import files\n",
    "files.download(\"./\")"
   ],
   "metadata": {
    "colab": {
     "base_uri": "https://localhost:8080/"
    },
    "id": "kQRRjVXMIkgp",
    "outputId": "cb5fef43-9c76-442b-faba-a7285c3cce3c"
   },
   "execution_count": null,
   "outputs": [
    {
     "output_type": "stream",
     "name": "stderr",
     "text": [
      "WARNING:absl:Found untraced functions such as _jit_compiled_convolution_op, _jit_compiled_convolution_op, _jit_compiled_convolution_op, _jit_compiled_convolution_op, _jit_compiled_convolution_op while saving (showing 5 of 136). These functions will not be directly callable after loading.\n"
     ]
    }
   ]
  },
  {
   "cell_type": "code",
   "source": [
    "validation_dataset = test_dataset\n",
    "Y_pred = model.predict(validation_dataset)\n",
    "y_pred = np.argmax(Y_pred, axis=1)\n",
    "y_test= np.concatenate([y for x, y in validation_dataset], axis=0)"
   ],
   "metadata": {
    "colab": {
     "base_uri": "https://localhost:8080/"
    },
    "id": "fqUOo5t-_N73",
    "outputId": "db234420-063a-447a-b9bc-4919ed1a12e7"
   },
   "execution_count": null,
   "outputs": [
    {
     "output_type": "stream",
     "name": "stdout",
     "text": [
      "35/35 [==============================] - 1s 24ms/step\n"
     ]
    }
   ]
  },
  {
   "cell_type": "code",
   "source": [
    "y_test"
   ],
   "metadata": {
    "colab": {
     "base_uri": "https://localhost:8080/"
    },
    "id": "mKX7kl92_isR",
    "outputId": "55cda878-167d-458a-e1ba-5b5264029051"
   },
   "execution_count": null,
   "outputs": [
    {
     "output_type": "execute_result",
     "data": {
      "text/plain": [
       "array([6, 3, 9, ..., 9, 2, 3], dtype=int32)"
      ]
     },
     "metadata": {},
     "execution_count": 47
    }
   ]
  }
 ],
 "metadata": {
  "kernelspec": {
   "display_name": "Python 3",
   "language": "python",
   "name": "python3"
  },
  "language_info": {
   "codemirror_mode": {
    "name": "ipython",
    "version": 2
   },
   "file_extension": ".py",
   "mimetype": "text/x-python",
   "name": "python",
   "nbconvert_exporter": "python",
   "pygments_lexer": "ipython2",
   "version": "2.7.6"
  },
  "colab": {
   "provenance": []
  },
  "gpuClass": "standard"
 },
 "nbformat": 4,
 "nbformat_minor": 0
}
